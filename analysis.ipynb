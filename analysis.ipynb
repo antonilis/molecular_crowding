{
 "cells": [
  {
   "cell_type": "code",
   "execution_count": 1,
   "id": "5ec528d6-a21a-43bb-ac29-5f9058e2ec2f",
   "metadata": {},
   "outputs": [],
   "source": [
    "%matplotlib inline\n",
    "import pandas as pd\n",
    "import numpy as np\n",
    "import matplotlib.pyplot as plt\n",
    "import depletion_analysis\n",
    "from scipy.optimize import curve_fit\n",
    "import scienceplots\n",
    "import PNAS_data\n",
    "import uncertainties as unc\n",
    "from uncertainties import unumpy as unp\n",
    "import os\n",
    "plt.style.use('science')"
   ]
  },
  {
   "cell_type": "markdown",
   "id": "7e6e189c-b2ed-48f2-802e-26e55f431d84",
   "metadata": {},
   "source": [
    "theoretical calculations"
   ]
  },
  {
   "cell_type": "code",
   "execution_count": 30,
   "id": "689c9331-041b-462c-844b-7f057c76c0d3",
   "metadata": {},
   "outputs": [
    {
     "data": {
      "text/plain": [
       "-0.03142361402688977"
      ]
     },
     "execution_count": 30,
     "metadata": {},
     "output_type": "execute_result"
    }
   ],
   "source": [
    "# constants\n",
    "eps = 8.8541878188 * 10**(-12) * 81 # vacuum * water relative permittivity\n",
    "Na = 6.02214076 * 10**(23) # avogadro number\n",
    "qe = 1.60217663 * 10**(-19) # elementary charge of electrion in Culomb\n",
    "kb = 1.380649 * 10**(-23) # boltzman constant\n",
    "R =  8.31446261815324 #\n",
    "T = 298.15\n",
    "\n",
    "Rg_ssDNA = 0.55 # radius of ssDNA\n",
    "\n",
    "#experimental data\n",
    "c0 = 35 # concentration of Na+ in mmol which is equal to mol/m^3\n",
    "zi = 13 # charge of the ssDNA 13bp\n",
    "a = 0.0754/0.1754 * 4 + 0.0246/0.1754 # the anions part of the ionic strength HPO42- and H2PO4-\n",
    "Km = 0.14 # complexation constant of the PEG - Na complexation\n",
    "\n",
    "# calculated data\n",
    "\n",
    "alpha = np.sqrt((eps * kb * T)/(2 * Na * qe**2))\n",
    "\n",
    "Zi = zi * qe/(4 * np.pi * eps)\n",
    "\n",
    "\n",
    "def calc_lambda():\n",
    "    \n",
    "    licznik = Na * zi * qe * Zi * np.sqrt(c0)\n",
    "    mianownik = 3 * np.sqrt(6) * (3*a + 2)**(3/2) * np.e * alpha\n",
    "\n",
    "    return licznik/mianownik\n",
    "    \n",
    "lambd = calc_lambda()\n",
    "\n",
    "theory_a2 = -(4*a + 2)*lambd/(R*T) * Km**2\n",
    "\n",
    "theory_a2"
   ]
  },
  {
   "cell_type": "code",
   "execution_count": 31,
   "id": "2b36e10b-d19e-4512-a233-c5c481b1ca58",
   "metadata": {},
   "outputs": [
    {
     "data": {
      "text/plain": [
       "0.5849154400545907"
      ]
     },
     "execution_count": 31,
     "metadata": {},
     "output_type": "execute_result"
    }
   ],
   "source": [
    "theory_a1 = 2 * (5 * a + 3) * lambd /(R * T) * Km\n",
    "theory_a1"
   ]
  },
  {
   "cell_type": "code",
   "execution_count": 32,
   "id": "4096043a-e20a-4ed7-937d-62b390a61d3c",
   "metadata": {},
   "outputs": [],
   "source": [
    "obj = depletion_analysis.Depletion()"
   ]
  },
  {
   "cell_type": "code",
   "execution_count": 33,
   "id": "30862c18-d31e-41ad-a22d-38741b21d506",
   "metadata": {},
   "outputs": [
    {
     "data": {
      "text/html": [
       "<div>\n",
       "<style scoped>\n",
       "    .dataframe tbody tr th:only-of-type {\n",
       "        vertical-align: middle;\n",
       "    }\n",
       "\n",
       "    .dataframe tbody tr th {\n",
       "        vertical-align: top;\n",
       "    }\n",
       "\n",
       "    .dataframe thead th {\n",
       "        text-align: right;\n",
       "    }\n",
       "</style>\n",
       "<table border=\"1\" class=\"dataframe\">\n",
       "  <thead>\n",
       "    <tr style=\"text-align: right;\">\n",
       "      <th></th>\n",
       "      <th>peg</th>\n",
       "      <th>molar mas</th>\n",
       "      <th>mas concentration</th>\n",
       "      <th>concentration [M]</th>\n",
       "      <th>c*</th>\n",
       "      <th>monomers number</th>\n",
       "      <th>density</th>\n",
       "      <th>Rg [nm]</th>\n",
       "      <th>Rh [nm]</th>\n",
       "      <th>K hybr</th>\n",
       "      <th>K hybr error</th>\n",
       "      <th>K complex</th>\n",
       "      <th>K  complex error</th>\n",
       "      <th>G</th>\n",
       "    </tr>\n",
       "  </thead>\n",
       "  <tbody>\n",
       "    <tr>\n",
       "      <th>0</th>\n",
       "      <td>EG</td>\n",
       "      <td>62.07</td>\n",
       "      <td>2.5</td>\n",
       "      <td>0.443048</td>\n",
       "      <td>29.191025</td>\n",
       "      <td>1.000000</td>\n",
       "      <td>1.1</td>\n",
       "      <td>0.238610</td>\n",
       "      <td>0.153145</td>\n",
       "      <td>4.410000e+09</td>\n",
       "      <td>7.999740e+08</td>\n",
       "      <td>0.330454</td>\n",
       "      <td>0.128626</td>\n",
       "      <td>-4.495104</td>\n",
       "    </tr>\n",
       "    <tr>\n",
       "      <th>1</th>\n",
       "      <td>EG</td>\n",
       "      <td>62.07</td>\n",
       "      <td>5.0</td>\n",
       "      <td>0.886096</td>\n",
       "      <td>29.191025</td>\n",
       "      <td>1.000000</td>\n",
       "      <td>1.1</td>\n",
       "      <td>0.238610</td>\n",
       "      <td>0.153145</td>\n",
       "      <td>2.130000e+09</td>\n",
       "      <td>3.239730e+08</td>\n",
       "      <td>0.330454</td>\n",
       "      <td>0.128626</td>\n",
       "      <td>-3.626623</td>\n",
       "    </tr>\n",
       "    <tr>\n",
       "      <th>2</th>\n",
       "      <td>EG</td>\n",
       "      <td>62.07</td>\n",
       "      <td>7.5</td>\n",
       "      <td>1.329145</td>\n",
       "      <td>29.191025</td>\n",
       "      <td>1.000000</td>\n",
       "      <td>1.1</td>\n",
       "      <td>0.238610</td>\n",
       "      <td>0.153145</td>\n",
       "      <td>3.990000e+09</td>\n",
       "      <td>4.831890e+08</td>\n",
       "      <td>0.330454</td>\n",
       "      <td>0.128626</td>\n",
       "      <td>-6.017520</td>\n",
       "    </tr>\n",
       "    <tr>\n",
       "      <th>3</th>\n",
       "      <td>EG</td>\n",
       "      <td>62.07</td>\n",
       "      <td>10.0</td>\n",
       "      <td>1.772193</td>\n",
       "      <td>29.191025</td>\n",
       "      <td>1.000000</td>\n",
       "      <td>1.1</td>\n",
       "      <td>0.238610</td>\n",
       "      <td>0.153145</td>\n",
       "      <td>1.460000e+09</td>\n",
       "      <td>1.388460e+08</td>\n",
       "      <td>0.330454</td>\n",
       "      <td>0.128626</td>\n",
       "      <td>-4.279480</td>\n",
       "    </tr>\n",
       "    <tr>\n",
       "      <th>4</th>\n",
       "      <td>EG</td>\n",
       "      <td>62.07</td>\n",
       "      <td>12.5</td>\n",
       "      <td>2.215241</td>\n",
       "      <td>29.191025</td>\n",
       "      <td>1.000000</td>\n",
       "      <td>1.1</td>\n",
       "      <td>0.238610</td>\n",
       "      <td>0.153145</td>\n",
       "      <td>3.740000e+09</td>\n",
       "      <td>1.320968e+09</td>\n",
       "      <td>0.330454</td>\n",
       "      <td>0.128626</td>\n",
       "      <td>-7.298589</td>\n",
       "    </tr>\n",
       "    <tr>\n",
       "      <th>...</th>\n",
       "      <td>...</td>\n",
       "      <td>...</td>\n",
       "      <td>...</td>\n",
       "      <td>...</td>\n",
       "      <td>...</td>\n",
       "      <td>...</td>\n",
       "      <td>...</td>\n",
       "      <td>...</td>\n",
       "      <td>...</td>\n",
       "      <td>...</td>\n",
       "      <td>...</td>\n",
       "      <td>...</td>\n",
       "      <td>...</td>\n",
       "      <td>...</td>\n",
       "    </tr>\n",
       "    <tr>\n",
       "      <th>103</th>\n",
       "      <td>p-35K</td>\n",
       "      <td>35000.00</td>\n",
       "      <td>15.0</td>\n",
       "      <td>0.004714</td>\n",
       "      <td>0.00045</td>\n",
       "      <td>794.142565</td>\n",
       "      <td>1.1</td>\n",
       "      <td>9.585839</td>\n",
       "      <td>5.702048</td>\n",
       "      <td>3.320000e+10</td>\n",
       "      <td>1.295464e+10</td>\n",
       "      <td>0.115530</td>\n",
       "      <td>0.044041</td>\n",
       "      <td>-11.233227</td>\n",
       "    </tr>\n",
       "    <tr>\n",
       "      <th>104</th>\n",
       "      <td>p-35K</td>\n",
       "      <td>35000.00</td>\n",
       "      <td>20.0</td>\n",
       "      <td>0.006286</td>\n",
       "      <td>0.00045</td>\n",
       "      <td>794.142565</td>\n",
       "      <td>1.1</td>\n",
       "      <td>9.585839</td>\n",
       "      <td>5.702048</td>\n",
       "      <td>1.930000e+10</td>\n",
       "      <td>6.123890e+09</td>\n",
       "      <td>0.115530</td>\n",
       "      <td>0.044041</td>\n",
       "      <td>-10.635003</td>\n",
       "    </tr>\n",
       "    <tr>\n",
       "      <th>105</th>\n",
       "      <td>p-35K</td>\n",
       "      <td>35000.00</td>\n",
       "      <td>25.0</td>\n",
       "      <td>0.007857</td>\n",
       "      <td>0.00045</td>\n",
       "      <td>794.142565</td>\n",
       "      <td>1.1</td>\n",
       "      <td>9.585839</td>\n",
       "      <td>5.702048</td>\n",
       "      <td>1.280000e+10</td>\n",
       "      <td>5.127680e+09</td>\n",
       "      <td>0.115530</td>\n",
       "      <td>0.044041</td>\n",
       "      <td>-10.298095</td>\n",
       "    </tr>\n",
       "    <tr>\n",
       "      <th>106</th>\n",
       "      <td>p-35K</td>\n",
       "      <td>35000.00</td>\n",
       "      <td>30.0</td>\n",
       "      <td>0.009429</td>\n",
       "      <td>0.00045</td>\n",
       "      <td>794.142565</td>\n",
       "      <td>1.1</td>\n",
       "      <td>9.585839</td>\n",
       "      <td>5.702048</td>\n",
       "      <td>8.370000e+09</td>\n",
       "      <td>3.326238e+09</td>\n",
       "      <td>0.115530</td>\n",
       "      <td>0.044041</td>\n",
       "      <td>-9.871332</td>\n",
       "    </tr>\n",
       "    <tr>\n",
       "      <th>107</th>\n",
       "      <td>p-35K</td>\n",
       "      <td>35000.00</td>\n",
       "      <td>40.0</td>\n",
       "      <td>0.012571</td>\n",
       "      <td>0.00045</td>\n",
       "      <td>794.142565</td>\n",
       "      <td>1.1</td>\n",
       "      <td>9.585839</td>\n",
       "      <td>5.702048</td>\n",
       "      <td>1.280000e+09</td>\n",
       "      <td>2.841600e+08</td>\n",
       "      <td>0.115530</td>\n",
       "      <td>0.044041</td>\n",
       "      <td>-6.335573</td>\n",
       "    </tr>\n",
       "  </tbody>\n",
       "</table>\n",
       "<p>108 rows × 14 columns</p>\n",
       "</div>"
      ],
      "text/plain": [
       "       peg  molar mas  mas concentration  concentration [M]         c*  \\\n",
       "0       EG      62.07                2.5           0.443048  29.191025   \n",
       "1       EG      62.07                5.0           0.886096  29.191025   \n",
       "2       EG      62.07                7.5           1.329145  29.191025   \n",
       "3       EG      62.07               10.0           1.772193  29.191025   \n",
       "4       EG      62.07               12.5           2.215241  29.191025   \n",
       "..     ...        ...                ...                ...        ...   \n",
       "103  p-35K   35000.00               15.0           0.004714    0.00045   \n",
       "104  p-35K   35000.00               20.0           0.006286    0.00045   \n",
       "105  p-35K   35000.00               25.0           0.007857    0.00045   \n",
       "106  p-35K   35000.00               30.0           0.009429    0.00045   \n",
       "107  p-35K   35000.00               40.0           0.012571    0.00045   \n",
       "\n",
       "     monomers number  density   Rg [nm]   Rh [nm]        K hybr  K hybr error  \\\n",
       "0           1.000000      1.1  0.238610  0.153145  4.410000e+09  7.999740e+08   \n",
       "1           1.000000      1.1  0.238610  0.153145  2.130000e+09  3.239730e+08   \n",
       "2           1.000000      1.1  0.238610  0.153145  3.990000e+09  4.831890e+08   \n",
       "3           1.000000      1.1  0.238610  0.153145  1.460000e+09  1.388460e+08   \n",
       "4           1.000000      1.1  0.238610  0.153145  3.740000e+09  1.320968e+09   \n",
       "..               ...      ...       ...       ...           ...           ...   \n",
       "103       794.142565      1.1  9.585839  5.702048  3.320000e+10  1.295464e+10   \n",
       "104       794.142565      1.1  9.585839  5.702048  1.930000e+10  6.123890e+09   \n",
       "105       794.142565      1.1  9.585839  5.702048  1.280000e+10  5.127680e+09   \n",
       "106       794.142565      1.1  9.585839  5.702048  8.370000e+09  3.326238e+09   \n",
       "107       794.142565      1.1  9.585839  5.702048  1.280000e+09  2.841600e+08   \n",
       "\n",
       "     K complex  K  complex error          G  \n",
       "0     0.330454          0.128626  -4.495104  \n",
       "1     0.330454          0.128626  -3.626623  \n",
       "2     0.330454          0.128626  -6.017520  \n",
       "3     0.330454          0.128626  -4.279480  \n",
       "4     0.330454          0.128626  -7.298589  \n",
       "..         ...               ...        ...  \n",
       "103   0.115530          0.044041 -11.233227  \n",
       "104   0.115530          0.044041 -10.635003  \n",
       "105   0.115530          0.044041 -10.298095  \n",
       "106   0.115530          0.044041  -9.871332  \n",
       "107   0.115530          0.044041  -6.335573  \n",
       "\n",
       "[108 rows x 14 columns]"
      ]
     },
     "execution_count": 33,
     "metadata": {},
     "output_type": "execute_result"
    }
   ],
   "source": [
    "obj.data"
   ]
  },
  {
   "cell_type": "code",
   "execution_count": 35,
   "id": "49200d09-befe-42d6-a2db-e927e816df66",
   "metadata": {},
   "outputs": [],
   "source": [
    "coeff = obj.polynomial_coeff\n",
    "data_reduced = obj.data.drop_duplicates(subset=['monomers number', 'molar mas', 'Rg [nm]']).reset_index()\n",
    "coeff['monomers number'] = data_reduced['monomers number']\n",
    "coeff['molar mas'] = data_reduced['molar mas']\n",
    "coeff['Rg'] = data_reduced['Rg [nm]']"
   ]
  },
  {
   "cell_type": "code",
   "execution_count": 36,
   "id": "6407eef3-deab-4a6d-a101-8845ab8232f8",
   "metadata": {},
   "outputs": [
    {
     "data": {
      "text/html": [
       "<div>\n",
       "<style scoped>\n",
       "    .dataframe tbody tr th:only-of-type {\n",
       "        vertical-align: middle;\n",
       "    }\n",
       "\n",
       "    .dataframe tbody tr th {\n",
       "        vertical-align: top;\n",
       "    }\n",
       "\n",
       "    .dataframe thead th {\n",
       "        text-align: right;\n",
       "    }\n",
       "</style>\n",
       "<table border=\"1\" class=\"dataframe\">\n",
       "  <thead>\n",
       "    <tr style=\"text-align: right;\">\n",
       "      <th></th>\n",
       "      <th>peg</th>\n",
       "      <th>a2</th>\n",
       "      <th>a1</th>\n",
       "      <th>a0</th>\n",
       "      <th>monomers number</th>\n",
       "      <th>molar mas</th>\n",
       "      <th>Rg</th>\n",
       "    </tr>\n",
       "  </thead>\n",
       "  <tbody>\n",
       "    <tr>\n",
       "      <th>0</th>\n",
       "      <td>EG</td>\n",
       "      <td>-0.113214</td>\n",
       "      <td>-0.138902</td>\n",
       "      <td>22.170069</td>\n",
       "      <td>1.000000</td>\n",
       "      <td>62.07</td>\n",
       "      <td>0.238610</td>\n",
       "    </tr>\n",
       "    <tr>\n",
       "      <th>1</th>\n",
       "      <td>p-200</td>\n",
       "      <td>-1.669215</td>\n",
       "      <td>0.384996</td>\n",
       "      <td>22.855236</td>\n",
       "      <td>4.131215</td>\n",
       "      <td>200.00</td>\n",
       "      <td>0.471997</td>\n",
       "    </tr>\n",
       "    <tr>\n",
       "      <th>2</th>\n",
       "      <td>p-400</td>\n",
       "      <td>-6.384148</td>\n",
       "      <td>2.393173</td>\n",
       "      <td>22.754302</td>\n",
       "      <td>8.671510</td>\n",
       "      <td>400.00</td>\n",
       "      <td>0.707033</td>\n",
       "    </tr>\n",
       "    <tr>\n",
       "      <th>3</th>\n",
       "      <td>p-600</td>\n",
       "      <td>-17.298670</td>\n",
       "      <td>7.830515</td>\n",
       "      <td>21.662651</td>\n",
       "      <td>13.211805</td>\n",
       "      <td>600.00</td>\n",
       "      <td>0.895572</td>\n",
       "    </tr>\n",
       "    <tr>\n",
       "      <th>4</th>\n",
       "      <td>p-1K</td>\n",
       "      <td>-36.470656</td>\n",
       "      <td>6.194760</td>\n",
       "      <td>23.160032</td>\n",
       "      <td>22.292395</td>\n",
       "      <td>1000.00</td>\n",
       "      <td>1.206253</td>\n",
       "    </tr>\n",
       "    <tr>\n",
       "      <th>5</th>\n",
       "      <td>p-1,5K</td>\n",
       "      <td>-101.552588</td>\n",
       "      <td>21.106263</td>\n",
       "      <td>22.671611</td>\n",
       "      <td>33.643133</td>\n",
       "      <td>1500.00</td>\n",
       "      <td>1.527917</td>\n",
       "    </tr>\n",
       "    <tr>\n",
       "      <th>6</th>\n",
       "      <td>p-3K</td>\n",
       "      <td>-71.369217</td>\n",
       "      <td>-13.556050</td>\n",
       "      <td>24.252131</td>\n",
       "      <td>67.695346</td>\n",
       "      <td>3000.00</td>\n",
       "      <td>2.288759</td>\n",
       "    </tr>\n",
       "    <tr>\n",
       "      <th>7</th>\n",
       "      <td>p-6K</td>\n",
       "      <td>-1453.237763</td>\n",
       "      <td>74.895880</td>\n",
       "      <td>23.115749</td>\n",
       "      <td>135.799773</td>\n",
       "      <td>6000.00</td>\n",
       "      <td>3.428472</td>\n",
       "    </tr>\n",
       "    <tr>\n",
       "      <th>8</th>\n",
       "      <td>p-12K</td>\n",
       "      <td>-4679.944869</td>\n",
       "      <td>132.353737</td>\n",
       "      <td>22.997414</td>\n",
       "      <td>272.008627</td>\n",
       "      <td>12000.00</td>\n",
       "      <td>5.135717</td>\n",
       "    </tr>\n",
       "    <tr>\n",
       "      <th>9</th>\n",
       "      <td>p-20K</td>\n",
       "      <td>-11890.669319</td>\n",
       "      <td>168.790414</td>\n",
       "      <td>23.362215</td>\n",
       "      <td>453.620431</td>\n",
       "      <td>20000.00</td>\n",
       "      <td>6.917337</td>\n",
       "    </tr>\n",
       "    <tr>\n",
       "      <th>10</th>\n",
       "      <td>p-35K</td>\n",
       "      <td>-40908.657996</td>\n",
       "      <td>306.721178</td>\n",
       "      <td>23.539162</td>\n",
       "      <td>794.142565</td>\n",
       "      <td>35000.00</td>\n",
       "      <td>9.585839</td>\n",
       "    </tr>\n",
       "  </tbody>\n",
       "</table>\n",
       "</div>"
      ],
      "text/plain": [
       "       peg            a2          a1         a0  monomers number  molar mas  \\\n",
       "0       EG     -0.113214   -0.138902  22.170069         1.000000      62.07   \n",
       "1    p-200     -1.669215    0.384996  22.855236         4.131215     200.00   \n",
       "2    p-400     -6.384148    2.393173  22.754302         8.671510     400.00   \n",
       "3    p-600    -17.298670    7.830515  21.662651        13.211805     600.00   \n",
       "4     p-1K    -36.470656    6.194760  23.160032        22.292395    1000.00   \n",
       "5   p-1,5K   -101.552588   21.106263  22.671611        33.643133    1500.00   \n",
       "6     p-3K    -71.369217  -13.556050  24.252131        67.695346    3000.00   \n",
       "7     p-6K  -1453.237763   74.895880  23.115749       135.799773    6000.00   \n",
       "8    p-12K  -4679.944869  132.353737  22.997414       272.008627   12000.00   \n",
       "9    p-20K -11890.669319  168.790414  23.362215       453.620431   20000.00   \n",
       "10   p-35K -40908.657996  306.721178  23.539162       794.142565   35000.00   \n",
       "\n",
       "          Rg  \n",
       "0   0.238610  \n",
       "1   0.471997  \n",
       "2   0.707033  \n",
       "3   0.895572  \n",
       "4   1.206253  \n",
       "5   1.527917  \n",
       "6   2.288759  \n",
       "7   3.428472  \n",
       "8   5.135717  \n",
       "9   6.917337  \n",
       "10  9.585839  "
      ]
     },
     "execution_count": 36,
     "metadata": {},
     "output_type": "execute_result"
    }
   ],
   "source": [
    "coeff"
   ]
  },
  {
   "cell_type": "code",
   "execution_count": 37,
   "id": "b69563e8-7830-4b80-9a38-8230d1545948",
   "metadata": {},
   "outputs": [],
   "source": [
    "y_a1 = coeff['a1'] - 4 * np.pi * Na * coeff['Rg'] * Rg_ssDNA**2 * 10**(-24) # the last multiplication is to changenm^3 to liters"
   ]
  },
  {
   "cell_type": "code",
   "execution_count": 38,
   "id": "224741f9-58cd-44aa-b8e1-f49dac165c22",
   "metadata": {},
   "outputs": [
    {
     "data": {
      "image/png": "[encoded data removed]",
      "text/plain": [
       "<Figure size 750x350 with 2 Axes>"
      ]
     },
     "metadata": {},
     "output_type": "display_data"
    }
   ],
   "source": [
    "def quadratic(x, a):\n",
    "    return a * x**2\n",
    "\n",
    "\n",
    "def linear(x, a):\n",
    "    return a * x\n",
    "\n",
    "with plt.style.context(['science']):\n",
    "    fig, axs = plt.subplots(1, 2, figsize=(7.5, 3.5))\n",
    "    \n",
    "    axs[0].plot(coeff['monomers number'], coeff['a2'], '.', label='experimental data')\n",
    "    exp_a2 = curve_fit(quadratic, coeff['monomers number'], coeff['a2'])[0][0]\n",
    "    axs[0].plot(coeff['monomers number'], exp_a2 * coeff['monomers number']**2, label='quadratic fit')\n",
    "    axs[0].plot(coeff['monomers number'], theory_a2 * coeff['monomers number']**2, label='theoretical fit')\n",
    "    axs[0].set_xlabel(r'monomers number $n$')\n",
    "    axs[0].set_ylabel(r'$a_2$')\n",
    "    axs[0].set_xscale('log')\n",
    "    axs[0].legend()\n",
    "\n",
    "    axs[1].plot(coeff['monomers number'], y_a1, '.', label='experimental data')\n",
    "    exp_a1 = curve_fit(linear, coeff['monomers number'], y_a1)[0][0]\n",
    "    axs[1].plot(coeff['monomers number'], exp_a1 * coeff['monomers number'], label='linear fit')\n",
    "    axs[1].plot(coeff['monomers number'], theory_a1 * coeff['monomers number'], label='theory')\n",
    "    axs[1].set_xlabel(r'monomers number $n$')\n",
    "    axs[1].set_ylabel(r'$a_1 - 4 \\pi l^2 N_A R_g$')\n",
    "    axs[1].set_xscale('log')\n",
    "    axs[1].legend()\n",
    "\n",
    "    fig.text(0.05, 0.95, 'a)', fontsize=14, fontweight='bold', ha='center', va='center')\n",
    "    fig.text(0.53, 0.95, 'b)', fontsize=14, fontweight='bold', ha='center', va='center')\n",
    "    \n",
    "    plt.tight_layout()\n",
    "\n",
    "    plt.savefig('a1_a2_dependency.pdf', format='pdf', bbox_inches='tight')"
   ]
  },
  {
   "cell_type": "code",
   "execution_count": 39,
   "id": "df79ad96-8d51-4952-8186-e3459a2b637f",
   "metadata": {},
   "outputs": [],
   "source": [
    "results = pd.DataFrame({'a1': [exp_a1, theory_a1], 'a2': [exp_a2, theory_a2]}, index=['experimental', 'theory'])\n",
    "\n",
    "results.to_csv('a1_a2.csv')"
   ]
  },
  {
   "cell_type": "code",
   "execution_count": 41,
   "id": "785a8dbb-3101-4870-98c2-23a3bb979936",
   "metadata": {},
   "outputs": [
    {
     "data": {
      "text/html": [
       "<div>\n",
       "<style scoped>\n",
       "    .dataframe tbody tr th:only-of-type {\n",
       "        vertical-align: middle;\n",
       "    }\n",
       "\n",
       "    .dataframe tbody tr th {\n",
       "        vertical-align: top;\n",
       "    }\n",
       "\n",
       "    .dataframe thead th {\n",
       "        text-align: right;\n",
       "    }\n",
       "</style>\n",
       "<table border=\"1\" class=\"dataframe\">\n",
       "  <thead>\n",
       "    <tr style=\"text-align: right;\">\n",
       "      <th></th>\n",
       "      <th>a1</th>\n",
       "      <th>a2</th>\n",
       "    </tr>\n",
       "  </thead>\n",
       "  <tbody>\n",
       "    <tr>\n",
       "      <th>experimental</th>\n",
       "      <td>0.360212</td>\n",
       "      <td>-0.064182</td>\n",
       "    </tr>\n",
       "    <tr>\n",
       "      <th>theory</th>\n",
       "      <td>0.584915</td>\n",
       "      <td>-0.031424</td>\n",
       "    </tr>\n",
       "  </tbody>\n",
       "</table>\n",
       "</div>"
      ],
      "text/plain": [
       "                    a1        a2\n",
       "experimental  0.360212 -0.064182\n",
       "theory        0.584915 -0.031424"
      ]
     },
     "execution_count": 41,
     "metadata": {},
     "output_type": "execute_result"
    }
   ],
   "source": [
    "results"
   ]
  },
  {
   "cell_type": "markdown",
   "id": "b1b055a3-fbb2-4ea7-b71f-3af931f06b54",
   "metadata": {},
   "source": [
    "Taylor series approximation"
   ]
  },
  {
   "cell_type": "code",
   "execution_count": 10,
   "id": "fc2b3ed2-5b26-4156-ae7a-e1b37a5d1ad6",
   "metadata": {},
   "outputs": [
    {
     "data": {
      "image/png": "[encoded data removed]",
      "text/plain": [
       "<Figure size 450x400 with 2 Axes>"
      ]
     },
     "metadata": {},
     "output_type": "display_data"
    }
   ],
   "source": [
    "# Define the range for x\n",
    "x = np.linspace(0, 1.5, 500)  # Ensure the domain of the function is valid\n",
    "\n",
    "# Define the functions\n",
    "y1 = np.sqrt(1 /(x + 1) + a)\n",
    "# Taylor expansion around x = 1/2\n",
    "sqrt_term = np.sqrt(2 / 3)\n",
    "y2 =(4 * a + 2) / (3 * np.sqrt(3) * (3 * a + 2)**(3/2)) * x**2 - (2 * (5 * a + 3)) / (3 * np.sqrt(3) * (3 * a + 2)**(3/2)) * x + (54 * a**2 + 80 * a + 29) / (6 * np.sqrt(3) * (3 * a + 2)**(3/2))\n",
    "difference = y2 - y1\n",
    "\n",
    "\n",
    "with plt.style.context(['science']):\n",
    "\n",
    "    fig, ax = plt.subplots(figsize = (4.5,4))\n",
    "    \n",
    "    ax.plot(x, y1, label=r'$f(x)$')\n",
    "    ax.plot(x, y2, label='Taylor expansion around 1/2')\n",
    "    \n",
    "    ax.legend(loc='lower left')\n",
    "    ax.set_xlabel(r'$x$')\n",
    "    ax.set_ylabel(r'$y$')\n",
    "    ax.set_title('Comparison of Function and Taylor Expansion')\n",
    "\n",
    "\n",
    "    # Create inset manually\n",
    "    inset_ax = plt.axes([0.6, 0.6, 0.25, 0.25])  # [left, bottom, width, height]\n",
    "    inset_ax.plot(x, difference)\n",
    "    inset_ax.set_xlabel('x')\n",
    "    inset_ax.set_ylabel('Difference')\n",
    "    plt.savefig('function_taylor.pdf', format = 'pdf', dpi=600)"
   ]
  },
  {
   "cell_type": "code",
   "execution_count": 11,
   "id": "3b986886-ce6a-4d12-a5c9-a7f84e53d4bd",
   "metadata": {},
   "outputs": [
    {
     "data": {
      "image/png": "[encoded data removed]",
      "text/plain": [
       "<Figure size 1000x350 with 3 Axes>"
      ]
     },
     "metadata": {},
     "output_type": "display_data"
    }
   ],
   "source": [
    "with plt.style.context(['science']):\n",
    "    fig, axs = plt.subplots(1, 3, figsize=(10, 3.5))\n",
    "    \n",
    "    axs[0].plot(coeff['monomers number'], coeff['a2'], 'v')\n",
    "    axs[0].set_xlabel('monomers number')\n",
    "    axs[0].set_ylabel(r'$a_2$')\n",
    "    axs[0].set_title(r'parameter $a_2$')\n",
    "    axs[0].set_xscale('log')\n",
    "\n",
    "\n",
    "    axs[1].plot(coeff['monomers number'], coeff['a1'], 'v')\n",
    "    axs[1].set_xlabel('monomers number')\n",
    "    axs[1].set_ylabel(r'$a_1$')\n",
    "    axs[1].set_title(r'parameter $a_1$')\n",
    "    axs[1].set_xscale('log')\n",
    "\n",
    "    axs[2].plot(coeff['monomers number'], coeff['a0'], 'v')\n",
    "    axs[2].set_xlabel('monomers number')\n",
    "    axs[2].set_ylabel(r'$a_0$')\n",
    "    axs[2].set_ylim(20,25)\n",
    "    axs[2].set_title(r'parameter $a_0$')\n",
    "    axs[2].set_xscale('log')\n",
    "\n",
    "\n",
    "    fig.text(0.05, 0.95, 'a)', fontsize=12, fontweight='bold', ha='center', va='center')\n",
    "    fig.text(0.36, 0.95, 'b)', fontsize=12, fontweight='bold', ha='center', va='center')\n",
    "    fig.text(0.68, 0.95, 'c)', fontsize=12, fontweight='bold', ha='center', va='center')\n",
    "    \n",
    "    plt.tight_layout()\n",
    "\n",
    "    plt.savefig('a1_a2_a0_dependency.pdf', format='pdf', bbox_inches='tight')"
   ]
  },
  {
   "cell_type": "markdown",
   "id": "02146c4d-8dde-4b9f-8e2f-dd05a2278e96",
   "metadata": {},
   "source": [
    "Estimating values from the PNAS paper"
   ]
  },
  {
   "cell_type": "code",
   "execution_count": 2,
   "id": "e1b5ee7a-8cc0-42c8-8177-652ca0ca0ce2",
   "metadata": {},
   "outputs": [],
   "source": [
    "PNAS = PNAS_data.PNAS_data()"
   ]
  },
  {
   "cell_type": "code",
   "execution_count": 26,
   "id": "531d7881-2065-44d1-a0c3-2214eb2b268a",
   "metadata": {},
   "outputs": [],
   "source": [
    "def plot_fit(probe):\n",
    "\n",
    "    x = np.array(PNAS.get_probe(probe)['c [M]'], dtype=np.float64)\n",
    "    #y, y_error = PNAS.get_float_uncertainty(unp.log(PNAS.get_probe(probe)['K [M]']))\n",
    "\n",
    "    y, y_error = PNAS.get_float_uncertainty(1/PNAS.get_probe(probe)['K [M]'])\n",
    "\n",
    "    \n",
    "\n",
    "    with plt.style.context(['science']):\n",
    "\n",
    "        plt.plot(x,y, '.')\n",
    "    "
   ]
  },
  {
   "cell_type": "code",
   "execution_count": 27,
   "id": "2d002134-bcbe-4104-8ac5-d817a9cf7bf9",
   "metadata": {},
   "outputs": [
    {
     "data": {
      "image/png": "[encoded data removed]",
      "text/plain": [
       "<Figure size 350x262.5 with 1 Axes>"
      ]
     },
     "metadata": {},
     "output_type": "display_data"
    }
   ],
   "source": [
    "plot_fit('Triethylene glycol')"
   ]
  },
  {
   "cell_type": "code",
   "execution_count": 23,
   "id": "18606031-fa19-4ff6-9b96-dcc16423b8b2",
   "metadata": {},
   "outputs": [
    {
     "data": {
      "image/png": "[encoded data removed]",
      "text/plain": [
       "<Figure size 350x262.5 with 1 Axes>"
      ]
     },
     "metadata": {},
     "output_type": "display_data"
    }
   ],
   "source": [
    "plot_fit('PEG 6000')"
   ]
  },
  {
   "cell_type": "code",
   "execution_count": 22,
   "id": "06a1ae11-8a9f-4129-9491-5678441f3884",
   "metadata": {},
   "outputs": [],
   "source": [
    "coeff = PNAS.coeff"
   ]
  },
  {
   "cell_type": "code",
   "execution_count": 23,
   "id": "99b4f71f-ff30-4a3b-8878-7c1440cf243b",
   "metadata": {},
   "outputs": [
    {
     "data": {
      "text/html": [
       "<div>\n",
       "<style scoped>\n",
       "    .dataframe tbody tr th:only-of-type {\n",
       "        vertical-align: middle;\n",
       "    }\n",
       "\n",
       "    .dataframe tbody tr th {\n",
       "        vertical-align: top;\n",
       "    }\n",
       "\n",
       "    .dataframe thead th {\n",
       "        text-align: right;\n",
       "    }\n",
       "</style>\n",
       "<table border=\"1\" class=\"dataframe\">\n",
       "  <thead>\n",
       "    <tr style=\"text-align: right;\">\n",
       "      <th></th>\n",
       "      <th>peg</th>\n",
       "      <th>a2</th>\n",
       "      <th>a1</th>\n",
       "      <th>a0</th>\n",
       "    </tr>\n",
       "  </thead>\n",
       "  <tbody>\n",
       "    <tr>\n",
       "      <th>0</th>\n",
       "      <td>Ethylene glycol</td>\n",
       "      <td>-0.057416</td>\n",
       "      <td>0.443440</td>\n",
       "      <td>17.264778</td>\n",
       "    </tr>\n",
       "    <tr>\n",
       "      <th>1</th>\n",
       "      <td>Diethylene glycol</td>\n",
       "      <td>-0.117488</td>\n",
       "      <td>0.363916</td>\n",
       "      <td>17.358638</td>\n",
       "    </tr>\n",
       "    <tr>\n",
       "      <th>2</th>\n",
       "      <td>Triethylene glycol</td>\n",
       "      <td>-0.416552</td>\n",
       "      <td>1.061869</td>\n",
       "      <td>16.993958</td>\n",
       "    </tr>\n",
       "    <tr>\n",
       "      <th>3</th>\n",
       "      <td>PEG 200</td>\n",
       "      <td>-0.300799</td>\n",
       "      <td>0.886230</td>\n",
       "      <td>17.157242</td>\n",
       "    </tr>\n",
       "    <tr>\n",
       "      <th>4</th>\n",
       "      <td>PEG 400</td>\n",
       "      <td>-1.350031</td>\n",
       "      <td>2.197216</td>\n",
       "      <td>16.886796</td>\n",
       "    </tr>\n",
       "    <tr>\n",
       "      <th>5</th>\n",
       "      <td>PEG 1000</td>\n",
       "      <td>-5.402465</td>\n",
       "      <td>5.746480</td>\n",
       "      <td>17.447266</td>\n",
       "    </tr>\n",
       "    <tr>\n",
       "      <th>6</th>\n",
       "      <td>PEG 2050</td>\n",
       "      <td>33.233734</td>\n",
       "      <td>4.120859</td>\n",
       "      <td>17.456445</td>\n",
       "    </tr>\n",
       "    <tr>\n",
       "      <th>7</th>\n",
       "      <td>PEG 4600</td>\n",
       "      <td>180.611086</td>\n",
       "      <td>38.490130</td>\n",
       "      <td>17.494823</td>\n",
       "    </tr>\n",
       "    <tr>\n",
       "      <th>8</th>\n",
       "      <td>PEG 6000</td>\n",
       "      <td>-504.982523</td>\n",
       "      <td>77.456502</td>\n",
       "      <td>17.301372</td>\n",
       "    </tr>\n",
       "    <tr>\n",
       "      <th>9</th>\n",
       "      <td>PEG 35000</td>\n",
       "      <td>167454.830381</td>\n",
       "      <td>-306.272949</td>\n",
       "      <td>17.976320</td>\n",
       "    </tr>\n",
       "  </tbody>\n",
       "</table>\n",
       "</div>"
      ],
      "text/plain": [
       "                  peg             a2          a1         a0\n",
       "0     Ethylene glycol      -0.057416    0.443440  17.264778\n",
       "1   Diethylene glycol      -0.117488    0.363916  17.358638\n",
       "2  Triethylene glycol      -0.416552    1.061869  16.993958\n",
       "3             PEG 200      -0.300799    0.886230  17.157242\n",
       "4             PEG 400      -1.350031    2.197216  16.886796\n",
       "5            PEG 1000      -5.402465    5.746480  17.447266\n",
       "6            PEG 2050      33.233734    4.120859  17.456445\n",
       "7            PEG 4600     180.611086   38.490130  17.494823\n",
       "8            PEG 6000    -504.982523   77.456502  17.301372\n",
       "9           PEG 35000  167454.830381 -306.272949  17.976320"
      ]
     },
     "execution_count": 23,
     "metadata": {},
     "output_type": "execute_result"
    }
   ],
   "source": [
    "coeff"
   ]
  },
  {
   "cell_type": "markdown",
   "id": "4a87fb61-9cd6-485b-a280-f60fe57ede98",
   "metadata": {},
   "source": [
    "### Calculating the PEG/DEX Na compexation constant"
   ]
  },
  {
   "cell_type": "code",
   "execution_count": 2,
   "id": "6705ee4c-4e1c-4426-82bd-3c22dfdbd117",
   "metadata": {},
   "outputs": [
    {
     "name": "stdout",
     "output_type": "stream",
     "text": [
      "Dextran6000\n",
      "Dextran70000\n",
      "Ficoll400000\n",
      "PEG1000\n",
      "PEG12000\n",
      "PEG1500\n",
      "PEG20000\n",
      "PEG3000\n",
      "PEG35000\n",
      "PEG400\n",
      "PEG600\n",
      "PEG6000\n"
     ]
    }
   ],
   "source": [
    "import utils as uts\n",
    "import sodium_crowder_equilibrium_constant as scec\n",
    "\n",
    "\n",
    "data =  scec.calc_sodium_crowder_eq_constant()\n",
    "\n",
    "df_ficoll = data[data['crowder'].str.contains('Ficoll', case=False)]\n",
    "df_peg = data[data['crowder'].str.contains('PEG', case=False)]\n",
    "df_dextran = data[data['crowder'].str.contains('Dextran', case=False)]\n",
    "\n"
   ]
  },
  {
   "cell_type": "code",
   "execution_count": null,
   "id": "1315d64f-67a9-4d7d-a5b7-012f83bf0dfa",
   "metadata": {},
   "outputs": [],
   "source": []
  },
  {
   "cell_type": "code",
   "execution_count": 3,
   "id": "f4a389b6-4cf4-4fbb-8859-ed105b235d4c",
   "metadata": {},
   "outputs": [
    {
     "data": {
      "text/plain": [
       "(array([7., 0., 0., 0., 0., 0., 0., 0., 0., 7.]),\n",
       " array([0.17960138, 0.1886313 , 0.19766121, 0.20669113, 0.21572105,\n",
       "        0.22475096, 0.23378088, 0.2428108 , 0.25184071, 0.26087063,\n",
       "        0.26990055]),\n",
       " <BarContainer object of 10 artists>)"
      ]
     },
     "execution_count": 3,
     "metadata": {},
     "output_type": "execute_result"
    },
    {
     "data": {
      "image/png": "[encoded data removed]",
      "text/plain": [
       "<Figure size 350x262.5 with 1 Axes>"
      ]
     },
     "metadata": {},
     "output_type": "display_data"
    }
   ],
   "source": [
    "plt.hist(df_dextran['K complex'].apply(lambda x: x.nominal_value))"
   ]
  },
  {
   "cell_type": "code",
   "execution_count": 4,
   "id": "3ff95f6f-101a-452f-91de-e6babf6dc59a",
   "metadata": {},
   "outputs": [
    {
     "data": {
      "text/plain": [
       "(array([7., 0., 0., 0., 0., 0., 0., 0., 0., 7.]),\n",
       " array([0.54083137, 0.5856832 , 0.63053504, 0.67538688, 0.72023872,\n",
       "        0.76509056, 0.8099424 , 0.85479424, 0.89964607, 0.94449791,\n",
       "        0.98934975]),\n",
       " <BarContainer object of 10 artists>)"
      ]
     },
     "execution_count": 4,
     "metadata": {},
     "output_type": "execute_result"
    },
    {
     "data": {
      "image/png": "[encoded data removed]",
      "text/plain": [
       "<Figure size 350x262.5 with 1 Axes>"
      ]
     },
     "metadata": {},
     "output_type": "display_data"
    }
   ],
   "source": [
    "plt.hist(df_dextran['slope'].apply(lambda x: x.nominal_value))"
   ]
  },
  {
   "cell_type": "code",
   "execution_count": 5,
   "id": "84e18c20-23f9-454e-8bcc-408119a2aaad",
   "metadata": {},
   "outputs": [
    {
     "data": {
      "text/plain": [
       "(array([30.,  0.,  0.,  6.,  0.,  7.,  0.,  4.,  0.,  0.,  0.,  0.,  0.,\n",
       "         0.,  0.,  0.,  0.,  0.,  0.,  4.]),\n",
       " array([1.13897208, 1.41478626, 1.69060044, 1.96641462, 2.24222881,\n",
       "        2.51804299, 2.79385717, 3.06967135, 3.34548553, 3.62129971,\n",
       "        3.89711389, 4.17292807, 4.44874225, 4.72455643, 5.00037061,\n",
       "        5.27618479, 5.55199898, 5.82781316, 6.10362734, 6.37944152,\n",
       "        6.6552557 ]),\n",
       " <BarContainer object of 20 artists>)"
      ]
     },
     "execution_count": 5,
     "metadata": {},
     "output_type": "execute_result"
    },
    {
     "data": {
      "image/png": "[encoded data removed]",
      "text/plain": [
       "<Figure size 350x262.5 with 1 Axes>"
      ]
     },
     "metadata": {},
     "output_type": "display_data"
    }
   ],
   "source": [
    "plt.hist(df_peg['slope'].apply(lambda x: x.nominal_value), bins=20)"
   ]
  },
  {
   "cell_type": "code",
   "execution_count": 6,
   "id": "0b85e15a-b120-462d-926a-f1c7be335152",
   "metadata": {},
   "outputs": [
    {
     "data": {
      "text/plain": [
       "(array([ 8.,  7.,  0.,  0.,  6.,  0.,  5.,  7.,  6., 12.]),\n",
       " array([3.51019292e-05, 5.62261082e-03, 1.12101197e-02, 1.67976286e-02,\n",
       "        2.23851375e-02, 2.79726464e-02, 3.35601553e-02, 3.91476641e-02,\n",
       "        4.47351730e-02, 5.03226819e-02, 5.59101908e-02]),\n",
       " <BarContainer object of 10 artists>)"
      ]
     },
     "execution_count": 6,
     "metadata": {},
     "output_type": "execute_result"
    },
    {
     "data": {
      "image/png": "[encoded data removed]",
      "text/plain": [
       "<Figure size 350x262.5 with 1 Axes>"
      ]
     },
     "metadata": {},
     "output_type": "display_data"
    }
   ],
   "source": [
    "plt.hist(df_peg['K complex'].apply(lambda x: x.nominal_value))"
   ]
  },
  {
   "cell_type": "code",
   "execution_count": 7,
   "id": "3c743a7c-6041-4915-96d2-3cb5cf201ff9",
   "metadata": {},
   "outputs": [
    {
     "data": {
      "text/plain": [
       "(array([0., 0., 0., 0., 0., 9., 0., 0., 0., 0.]),\n",
       " array([-0.13436161, -0.03436161,  0.06563839,  0.16563839,  0.26563839,\n",
       "         0.36563839,  0.46563839,  0.56563839,  0.66563839,  0.76563839,\n",
       "         0.86563839]),\n",
       " <BarContainer object of 10 artists>)"
      ]
     },
     "execution_count": 7,
     "metadata": {},
     "output_type": "execute_result"
    },
    {
     "data": {
      "image/png": "[encoded data removed]",
      "text/plain": [
       "<Figure size 350x262.5 with 1 Axes>"
      ]
     },
     "metadata": {},
     "output_type": "display_data"
    }
   ],
   "source": [
    "plt.hist(df_ficoll['K complex'].apply(lambda x: x.nominal_value))"
   ]
  },
  {
   "cell_type": "code",
   "execution_count": 8,
   "id": "bdca74c2-6a38-4beb-a771-893db9a32435",
   "metadata": {},
   "outputs": [
    {
     "data": {
      "text/plain": [
       "(array([0., 0., 0., 0., 0., 9., 0., 0., 0., 0.]),\n",
       " array([0.00185126, 0.10185126, 0.20185126, 0.30185126, 0.40185126,\n",
       "        0.50185126, 0.60185126, 0.70185126, 0.80185126, 0.90185126,\n",
       "        1.00185126]),\n",
       " <BarContainer object of 10 artists>)"
      ]
     },
     "execution_count": 8,
     "metadata": {},
     "output_type": "execute_result"
    },
    {
     "data": {
      "image/png": "[encoded data removed]",
      "text/plain": [
       "<Figure size 350x262.5 with 1 Axes>"
      ]
     },
     "metadata": {},
     "output_type": "display_data"
    }
   ],
   "source": [
    "plt.hist(df_ficoll['slope'].apply(lambda x: x.nominal_value))"
   ]
  },
  {
   "attachments": {
    "ec71cce6-0435-4095-b6ad-af371b92694e.png": {
     "image/png": "[encoded data removed]"
    }
   },
   "cell_type": "markdown",
   "id": "1aa8ea71-7144-458b-9677-ece17e403bf9",
   "metadata": {},
   "source": [
    "![image.png](attachment:ec71cce6-0435-4095-b6ad-af371b92694e.png)"
   ]
  },
  {
   "cell_type": "code",
   "execution_count": 12,
   "id": "81bbe1f2-b393-4192-91fc-9cac4d85ef08",
   "metadata": {},
   "outputs": [
    {
     "data": {
      "text/plain": [
       "1.6666666666666667"
      ]
     },
     "execution_count": 12,
     "metadata": {},
     "output_type": "execute_result"
    }
   ],
   "source": [
    "1/0.6"
   ]
  },
  {
   "cell_type": "code",
   "execution_count": 31,
   "id": "69474431-dac5-440f-a2c2-00e302c0e015",
   "metadata": {},
   "outputs": [
    {
     "data": {
      "text/html": [
       "<div>\n",
       "<style scoped>\n",
       "    .dataframe tbody tr th:only-of-type {\n",
       "        vertical-align: middle;\n",
       "    }\n",
       "\n",
       "    .dataframe tbody tr th {\n",
       "        vertical-align: top;\n",
       "    }\n",
       "\n",
       "    .dataframe thead th {\n",
       "        text-align: right;\n",
       "    }\n",
       "</style>\n",
       "<table border=\"1\" class=\"dataframe\">\n",
       "  <thead>\n",
       "    <tr style=\"text-align: right;\">\n",
       "      <th></th>\n",
       "      <th>wt_%</th>\n",
       "      <th>D_Na_[um2/s]</th>\n",
       "      <th>D_Na_err_[um2/s]</th>\n",
       "      <th>D_crowder_[um2/s]</th>\n",
       "      <th>D_crowder_err_[um2/s]</th>\n",
       "      <th>crowder</th>\n",
       "      <th>MW_[g/mol]</th>\n",
       "      <th>No_mono</th>\n",
       "      <th>d_coef</th>\n",
       "      <th>Rg_[nm]</th>\n",
       "      <th>Rg_err_[nm]</th>\n",
       "      <th>Rh_[nm]</th>\n",
       "      <th>Rh_err_[nm]</th>\n",
       "      <th>V_Rg_[nm3]</th>\n",
       "      <th>V_Rg_err_[nm3]</th>\n",
       "      <th>c*_[g/cm3]</th>\n",
       "    </tr>\n",
       "  </thead>\n",
       "  <tbody>\n",
       "    <tr>\n",
       "      <th>0</th>\n",
       "      <td>0.0</td>\n",
       "      <td>1425.622636</td>\n",
       "      <td>30.40000</td>\n",
       "      <td>NaN</td>\n",
       "      <td>Nan</td>\n",
       "      <td>Dextran6000</td>\n",
       "      <td>6000.0</td>\n",
       "      <td>37.005</td>\n",
       "      <td>0.00040</td>\n",
       "      <td>1.750000</td>\n",
       "      <td>0.250000</td>\n",
       "      <td>1.150000</td>\n",
       "      <td>0.150000</td>\n",
       "      <td>22.449298</td>\n",
       "      <td>9.621128</td>\n",
       "      <td>0.443811</td>\n",
       "    </tr>\n",
       "    <tr>\n",
       "      <th>1</th>\n",
       "      <td>1.0</td>\n",
       "      <td>1450.000000</td>\n",
       "      <td>88.40000</td>\n",
       "      <td>149.00000</td>\n",
       "      <td>4.39E+00</td>\n",
       "      <td>Dextran6000</td>\n",
       "      <td>6000.0</td>\n",
       "      <td>37.005</td>\n",
       "      <td>0.00040</td>\n",
       "      <td>1.750000</td>\n",
       "      <td>0.250000</td>\n",
       "      <td>1.150000</td>\n",
       "      <td>0.150000</td>\n",
       "      <td>22.449298</td>\n",
       "      <td>9.621128</td>\n",
       "      <td>0.443811</td>\n",
       "    </tr>\n",
       "    <tr>\n",
       "      <th>2</th>\n",
       "      <td>1.5</td>\n",
       "      <td>1330.000000</td>\n",
       "      <td>79.90000</td>\n",
       "      <td>142.00000</td>\n",
       "      <td>3.50E+00</td>\n",
       "      <td>Dextran6000</td>\n",
       "      <td>6000.0</td>\n",
       "      <td>37.005</td>\n",
       "      <td>0.00040</td>\n",
       "      <td>1.750000</td>\n",
       "      <td>0.250000</td>\n",
       "      <td>1.150000</td>\n",
       "      <td>0.150000</td>\n",
       "      <td>22.449298</td>\n",
       "      <td>9.621128</td>\n",
       "      <td>0.443811</td>\n",
       "    </tr>\n",
       "    <tr>\n",
       "      <th>3</th>\n",
       "      <td>3.0</td>\n",
       "      <td>1300.000000</td>\n",
       "      <td>125.00000</td>\n",
       "      <td>133.00000</td>\n",
       "      <td>2.26E+00</td>\n",
       "      <td>Dextran6000</td>\n",
       "      <td>6000.0</td>\n",
       "      <td>37.005</td>\n",
       "      <td>0.00040</td>\n",
       "      <td>1.750000</td>\n",
       "      <td>0.250000</td>\n",
       "      <td>1.150000</td>\n",
       "      <td>0.150000</td>\n",
       "      <td>22.449298</td>\n",
       "      <td>9.621128</td>\n",
       "      <td>0.443811</td>\n",
       "    </tr>\n",
       "    <tr>\n",
       "      <th>4</th>\n",
       "      <td>4.5</td>\n",
       "      <td>1220.000000</td>\n",
       "      <td>113.00000</td>\n",
       "      <td>127.00000</td>\n",
       "      <td>3.12E+00</td>\n",
       "      <td>Dextran6000</td>\n",
       "      <td>6000.0</td>\n",
       "      <td>37.005</td>\n",
       "      <td>0.00040</td>\n",
       "      <td>1.750000</td>\n",
       "      <td>0.250000</td>\n",
       "      <td>1.150000</td>\n",
       "      <td>0.150000</td>\n",
       "      <td>22.449298</td>\n",
       "      <td>9.621128</td>\n",
       "      <td>0.443811</td>\n",
       "    </tr>\n",
       "    <tr>\n",
       "      <th>...</th>\n",
       "      <td>...</td>\n",
       "      <td>...</td>\n",
       "      <td>...</td>\n",
       "      <td>...</td>\n",
       "      <td>...</td>\n",
       "      <td>...</td>\n",
       "      <td>...</td>\n",
       "      <td>...</td>\n",
       "      <td>...</td>\n",
       "      <td>...</td>\n",
       "      <td>...</td>\n",
       "      <td>...</td>\n",
       "      <td>...</td>\n",
       "      <td>...</td>\n",
       "      <td>...</td>\n",
       "      <td>...</td>\n",
       "    </tr>\n",
       "    <tr>\n",
       "      <th>123</th>\n",
       "      <td>7.5</td>\n",
       "      <td>1012.123000</td>\n",
       "      <td>72.49846</td>\n",
       "      <td>44.26340</td>\n",
       "      <td>0.616912</td>\n",
       "      <td>PEG6000</td>\n",
       "      <td>6000.0</td>\n",
       "      <td>135.800</td>\n",
       "      <td>0.00155</td>\n",
       "      <td>3.428472</td>\n",
       "      <td>0.028155</td>\n",
       "      <td>2.083015</td>\n",
       "      <td>0.015681</td>\n",
       "      <td>168.807029</td>\n",
       "      <td>4.158841</td>\n",
       "      <td>0.059021</td>\n",
       "    </tr>\n",
       "    <tr>\n",
       "      <th>124</th>\n",
       "      <td>10.0</td>\n",
       "      <td>975.738300</td>\n",
       "      <td>121.48850</td>\n",
       "      <td>34.73010</td>\n",
       "      <td>0.192047</td>\n",
       "      <td>PEG6000</td>\n",
       "      <td>6000.0</td>\n",
       "      <td>135.800</td>\n",
       "      <td>0.00155</td>\n",
       "      <td>3.428472</td>\n",
       "      <td>0.028155</td>\n",
       "      <td>2.083015</td>\n",
       "      <td>0.015681</td>\n",
       "      <td>168.807029</td>\n",
       "      <td>4.158841</td>\n",
       "      <td>0.059021</td>\n",
       "    </tr>\n",
       "    <tr>\n",
       "      <th>125</th>\n",
       "      <td>12.5</td>\n",
       "      <td>898.482400</td>\n",
       "      <td>53.42060</td>\n",
       "      <td>27.38628</td>\n",
       "      <td>0.128339</td>\n",
       "      <td>PEG6000</td>\n",
       "      <td>6000.0</td>\n",
       "      <td>135.800</td>\n",
       "      <td>0.00155</td>\n",
       "      <td>3.428472</td>\n",
       "      <td>0.028155</td>\n",
       "      <td>2.083015</td>\n",
       "      <td>0.015681</td>\n",
       "      <td>168.807029</td>\n",
       "      <td>4.158841</td>\n",
       "      <td>0.059021</td>\n",
       "    </tr>\n",
       "    <tr>\n",
       "      <th>126</th>\n",
       "      <td>15.0</td>\n",
       "      <td>761.920200</td>\n",
       "      <td>56.79781</td>\n",
       "      <td>23.45039</td>\n",
       "      <td>0.231978</td>\n",
       "      <td>PEG6000</td>\n",
       "      <td>6000.0</td>\n",
       "      <td>135.800</td>\n",
       "      <td>0.00155</td>\n",
       "      <td>3.428472</td>\n",
       "      <td>0.028155</td>\n",
       "      <td>2.083015</td>\n",
       "      <td>0.015681</td>\n",
       "      <td>168.807029</td>\n",
       "      <td>4.158841</td>\n",
       "      <td>0.059021</td>\n",
       "    </tr>\n",
       "    <tr>\n",
       "      <th>127</th>\n",
       "      <td>17.5</td>\n",
       "      <td>840.468800</td>\n",
       "      <td>82.82219</td>\n",
       "      <td>19.46471</td>\n",
       "      <td>0.281031</td>\n",
       "      <td>PEG6000</td>\n",
       "      <td>6000.0</td>\n",
       "      <td>135.800</td>\n",
       "      <td>0.00155</td>\n",
       "      <td>3.428472</td>\n",
       "      <td>0.028155</td>\n",
       "      <td>2.083015</td>\n",
       "      <td>0.015681</td>\n",
       "      <td>168.807029</td>\n",
       "      <td>4.158841</td>\n",
       "      <td>0.059021</td>\n",
       "    </tr>\n",
       "  </tbody>\n",
       "</table>\n",
       "<p>128 rows × 16 columns</p>\n",
       "</div>"
      ],
      "text/plain": [
       "     wt_%  D_Na_[um2/s]  D_Na_err_[um2/s]  D_crowder_[um2/s]  \\\n",
       "0     0.0   1425.622636          30.40000                NaN   \n",
       "1     1.0   1450.000000          88.40000          149.00000   \n",
       "2     1.5   1330.000000          79.90000          142.00000   \n",
       "3     3.0   1300.000000         125.00000          133.00000   \n",
       "4     4.5   1220.000000         113.00000          127.00000   \n",
       "..    ...           ...               ...                ...   \n",
       "123   7.5   1012.123000          72.49846           44.26340   \n",
       "124  10.0    975.738300         121.48850           34.73010   \n",
       "125  12.5    898.482400          53.42060           27.38628   \n",
       "126  15.0    761.920200          56.79781           23.45039   \n",
       "127  17.5    840.468800          82.82219           19.46471   \n",
       "\n",
       "    D_crowder_err_[um2/s]      crowder  MW_[g/mol]  No_mono   d_coef  \\\n",
       "0                     Nan  Dextran6000      6000.0   37.005  0.00040   \n",
       "1                4.39E+00  Dextran6000      6000.0   37.005  0.00040   \n",
       "2                3.50E+00  Dextran6000      6000.0   37.005  0.00040   \n",
       "3                2.26E+00  Dextran6000      6000.0   37.005  0.00040   \n",
       "4                3.12E+00  Dextran6000      6000.0   37.005  0.00040   \n",
       "..                    ...          ...         ...      ...      ...   \n",
       "123              0.616912      PEG6000      6000.0  135.800  0.00155   \n",
       "124              0.192047      PEG6000      6000.0  135.800  0.00155   \n",
       "125              0.128339      PEG6000      6000.0  135.800  0.00155   \n",
       "126              0.231978      PEG6000      6000.0  135.800  0.00155   \n",
       "127              0.281031      PEG6000      6000.0  135.800  0.00155   \n",
       "\n",
       "      Rg_[nm]  Rg_err_[nm]   Rh_[nm]  Rh_err_[nm]  V_Rg_[nm3]  V_Rg_err_[nm3]  \\\n",
       "0    1.750000     0.250000  1.150000     0.150000   22.449298        9.621128   \n",
       "1    1.750000     0.250000  1.150000     0.150000   22.449298        9.621128   \n",
       "2    1.750000     0.250000  1.150000     0.150000   22.449298        9.621128   \n",
       "3    1.750000     0.250000  1.150000     0.150000   22.449298        9.621128   \n",
       "4    1.750000     0.250000  1.150000     0.150000   22.449298        9.621128   \n",
       "..        ...          ...       ...          ...         ...             ...   \n",
       "123  3.428472     0.028155  2.083015     0.015681  168.807029        4.158841   \n",
       "124  3.428472     0.028155  2.083015     0.015681  168.807029        4.158841   \n",
       "125  3.428472     0.028155  2.083015     0.015681  168.807029        4.158841   \n",
       "126  3.428472     0.028155  2.083015     0.015681  168.807029        4.158841   \n",
       "127  3.428472     0.028155  2.083015     0.015681  168.807029        4.158841   \n",
       "\n",
       "     c*_[g/cm3]  \n",
       "0      0.443811  \n",
       "1      0.443811  \n",
       "2      0.443811  \n",
       "3      0.443811  \n",
       "4      0.443811  \n",
       "..          ...  \n",
       "123    0.059021  \n",
       "124    0.059021  \n",
       "125    0.059021  \n",
       "126    0.059021  \n",
       "127    0.059021  \n",
       "\n",
       "[128 rows x 16 columns]"
      ]
     },
     "execution_count": 31,
     "metadata": {},
     "output_type": "execute_result"
    }
   ],
   "source": [
    "merged_df"
   ]
  },
  {
   "cell_type": "code",
   "execution_count": 26,
   "id": "36cc80ce-c8a5-40a6-a2f2-f87a57d2fe46",
   "metadata": {},
   "outputs": [
    {
     "data": {
      "text/html": [
       "<div>\n",
       "<style scoped>\n",
       "    .dataframe tbody tr th:only-of-type {\n",
       "        vertical-align: middle;\n",
       "    }\n",
       "\n",
       "    .dataframe tbody tr th {\n",
       "        vertical-align: top;\n",
       "    }\n",
       "\n",
       "    .dataframe thead th {\n",
       "        text-align: right;\n",
       "    }\n",
       "</style>\n",
       "<table border=\"1\" class=\"dataframe\">\n",
       "  <thead>\n",
       "    <tr style=\"text-align: right;\">\n",
       "      <th></th>\n",
       "      <th>wt_%</th>\n",
       "      <th>D_Na_[um2/s]</th>\n",
       "      <th>D_Na_err_[um2/s]</th>\n",
       "      <th>D_crowder_[um2/s]</th>\n",
       "      <th>D_crowder_err_[um2/s]</th>\n",
       "      <th>crowder</th>\n",
       "    </tr>\n",
       "  </thead>\n",
       "  <tbody>\n",
       "    <tr>\n",
       "      <th>0</th>\n",
       "      <td>0.0</td>\n",
       "      <td>1425.622636</td>\n",
       "      <td>30.40000</td>\n",
       "      <td>NaN</td>\n",
       "      <td>Nan</td>\n",
       "      <td>Dextran6000</td>\n",
       "    </tr>\n",
       "    <tr>\n",
       "      <th>1</th>\n",
       "      <td>1.0</td>\n",
       "      <td>1450.000000</td>\n",
       "      <td>88.40000</td>\n",
       "      <td>149.00000</td>\n",
       "      <td>4.39E+00</td>\n",
       "      <td>Dextran6000</td>\n",
       "    </tr>\n",
       "    <tr>\n",
       "      <th>2</th>\n",
       "      <td>1.5</td>\n",
       "      <td>1330.000000</td>\n",
       "      <td>79.90000</td>\n",
       "      <td>142.00000</td>\n",
       "      <td>3.50E+00</td>\n",
       "      <td>Dextran6000</td>\n",
       "    </tr>\n",
       "    <tr>\n",
       "      <th>3</th>\n",
       "      <td>3.0</td>\n",
       "      <td>1300.000000</td>\n",
       "      <td>125.00000</td>\n",
       "      <td>133.00000</td>\n",
       "      <td>2.26E+00</td>\n",
       "      <td>Dextran6000</td>\n",
       "    </tr>\n",
       "    <tr>\n",
       "      <th>4</th>\n",
       "      <td>4.5</td>\n",
       "      <td>1220.000000</td>\n",
       "      <td>113.00000</td>\n",
       "      <td>127.00000</td>\n",
       "      <td>3.12E+00</td>\n",
       "      <td>Dextran6000</td>\n",
       "    </tr>\n",
       "    <tr>\n",
       "      <th>...</th>\n",
       "      <td>...</td>\n",
       "      <td>...</td>\n",
       "      <td>...</td>\n",
       "      <td>...</td>\n",
       "      <td>...</td>\n",
       "      <td>...</td>\n",
       "    </tr>\n",
       "    <tr>\n",
       "      <th>123</th>\n",
       "      <td>7.5</td>\n",
       "      <td>1012.123000</td>\n",
       "      <td>72.49846</td>\n",
       "      <td>44.26340</td>\n",
       "      <td>0.616912</td>\n",
       "      <td>PEG6000</td>\n",
       "    </tr>\n",
       "    <tr>\n",
       "      <th>124</th>\n",
       "      <td>10.0</td>\n",
       "      <td>975.738300</td>\n",
       "      <td>121.48850</td>\n",
       "      <td>34.73010</td>\n",
       "      <td>0.192047</td>\n",
       "      <td>PEG6000</td>\n",
       "    </tr>\n",
       "    <tr>\n",
       "      <th>125</th>\n",
       "      <td>12.5</td>\n",
       "      <td>898.482400</td>\n",
       "      <td>53.42060</td>\n",
       "      <td>27.38628</td>\n",
       "      <td>0.128339</td>\n",
       "      <td>PEG6000</td>\n",
       "    </tr>\n",
       "    <tr>\n",
       "      <th>126</th>\n",
       "      <td>15.0</td>\n",
       "      <td>761.920200</td>\n",
       "      <td>56.79781</td>\n",
       "      <td>23.45039</td>\n",
       "      <td>0.231978</td>\n",
       "      <td>PEG6000</td>\n",
       "    </tr>\n",
       "    <tr>\n",
       "      <th>127</th>\n",
       "      <td>17.5</td>\n",
       "      <td>840.468800</td>\n",
       "      <td>82.82219</td>\n",
       "      <td>19.46471</td>\n",
       "      <td>0.281031</td>\n",
       "      <td>PEG6000</td>\n",
       "    </tr>\n",
       "  </tbody>\n",
       "</table>\n",
       "<p>128 rows × 6 columns</p>\n",
       "</div>"
      ],
      "text/plain": [
       "     wt_%  D_Na_[um2/s]  D_Na_err_[um2/s]  D_crowder_[um2/s]  \\\n",
       "0     0.0   1425.622636          30.40000                NaN   \n",
       "1     1.0   1450.000000          88.40000          149.00000   \n",
       "2     1.5   1330.000000          79.90000          142.00000   \n",
       "3     3.0   1300.000000         125.00000          133.00000   \n",
       "4     4.5   1220.000000         113.00000          127.00000   \n",
       "..    ...           ...               ...                ...   \n",
       "123   7.5   1012.123000          72.49846           44.26340   \n",
       "124  10.0    975.738300         121.48850           34.73010   \n",
       "125  12.5    898.482400          53.42060           27.38628   \n",
       "126  15.0    761.920200          56.79781           23.45039   \n",
       "127  17.5    840.468800          82.82219           19.46471   \n",
       "\n",
       "    D_crowder_err_[um2/s]      crowder  \n",
       "0                     Nan  Dextran6000  \n",
       "1                4.39E+00  Dextran6000  \n",
       "2                3.50E+00  Dextran6000  \n",
       "3                2.26E+00  Dextran6000  \n",
       "4                3.12E+00  Dextran6000  \n",
       "..                    ...          ...  \n",
       "123              0.616912      PEG6000  \n",
       "124              0.192047      PEG6000  \n",
       "125              0.128339      PEG6000  \n",
       "126              0.231978      PEG6000  \n",
       "127              0.281031      PEG6000  \n",
       "\n",
       "[128 rows x 6 columns]"
      ]
     },
     "execution_count": 26,
     "metadata": {},
     "output_type": "execute_result"
    }
   ],
   "source": [
    "data"
   ]
  },
  {
   "cell_type": "code",
   "execution_count": 20,
   "id": "b0e70000-d39d-40b8-885a-a538b8b0d87b",
   "metadata": {},
   "outputs": [
    {
     "data": {
      "text/plain": [
       "Index(['wt_%', 'D_Na_[um2/s]', 'D_Na_err_[um2/s]', 'D_crowder_[um2/s]',\n",
       "       'D_crowder_err_[um2/s]', 'crowder'],\n",
       "      dtype='object')"
      ]
     },
     "execution_count": 20,
     "metadata": {},
     "output_type": "execute_result"
    }
   ],
   "source": [
    "data.columns"
   ]
  },
  {
   "cell_type": "code",
   "execution_count": 24,
   "id": "1ad012f4-e832-403f-95b0-26b8816f58da",
   "metadata": {},
   "outputs": [],
   "source": [
    "Na0 = data[data['wt_%'] == 0]['D_Na_[um2/s]'].mean()"
   ]
  },
  {
   "cell_type": "code",
   "execution_count": 25,
   "id": "ac384004-97d2-4833-8297-9f331878ef49",
   "metadata": {},
   "outputs": [
    {
     "data": {
      "text/plain": [
       "1425.622636"
      ]
     },
     "execution_count": 25,
     "metadata": {},
     "output_type": "execute_result"
    }
   ],
   "source": [
    "Na0"
   ]
  },
  {
   "cell_type": "code",
   "execution_count": 3,
   "id": "c71508e8-edf7-4c84-adf1-2b8ce5181d9b",
   "metadata": {},
   "outputs": [
    {
     "data": {
      "text/plain": [
       "(array([ 9., 16.,  7., 12.,  4.,  1.,  0.,  5.,  6.,  2.,  0.,  3.,  8.,\n",
       "         0.,  1.,  3.,  7.,  3.,  0.,  1.,  6.,  4.,  0.,  1.,  2.,  5.,\n",
       "         0.,  1.,  1.,  6.]),\n",
       " array([0.02913673, 0.16369777, 0.29825881, 0.43281985, 0.56738088,\n",
       "        0.70194192, 0.83650296, 0.971064  , 1.10562503, 1.24018607,\n",
       "        1.37474711, 1.50930815, 1.64386919, 1.77843022, 1.91299126,\n",
       "        2.0475523 , 2.18211334, 2.31667437, 2.45123541, 2.58579645,\n",
       "        2.72035749, 2.85491852, 2.98947956, 3.1240406 , 3.25860164,\n",
       "        3.39316268, 3.52772371, 3.66228475, 3.79684579, 3.93140683,\n",
       "        4.06596786]),\n",
       " <BarContainer object of 30 artists>)"
      ]
     },
     "execution_count": 3,
     "metadata": {},
     "output_type": "execute_result"
    },
    {
     "data": {
      "image/png": "[encoded data removed]",
      "text/plain": [
       "<Figure size 350x262.5 with 1 Axes>"
      ]
     },
     "metadata": {},
     "output_type": "display_data"
    }
   ],
   "source": [
    "plt.hist(data['monomers concentration [M]'], bins=30)"
   ]
  },
  {
   "cell_type": "code",
   "execution_count": 4,
   "id": "41880dda-396b-49df-a266-db843645cac8",
   "metadata": {},
   "outputs": [
    {
     "data": {
      "text/plain": [
       "<matplotlib.legend.Legend at 0x14564742080>"
      ]
     },
     "execution_count": 4,
     "metadata": {},
     "output_type": "execute_result"
    },
    {
     "data": {
      "image/png": "[encoded data removed]",
      "text/plain": [
       "<Figure size 1000x600 with 1 Axes>"
      ]
     },
     "metadata": {},
     "output_type": "display_data"
    }
   ],
   "source": [
    "# Constants\n",
    "A = 1400  # Example value for A\n",
    "B = 1100  # Example value for B\n",
    "\n",
    "# Original function\n",
    "def original_function(x):\n",
    "    return (A + B * x)/ (1 + x)\n",
    "\n",
    "\n",
    "\n",
    "def taylor_series_half(x):\n",
    "      # Centered around x = 1/2\n",
    "    constant = (1/3) * (2 * A + B)\n",
    "    linear = -(4/9) * (x - 0.5) * (A - B)\n",
    "    # Include the first two terms; higher-order terms are denoted by O(h^2)\n",
    "    return constant + linear\n",
    "\n",
    "\n",
    "def taylor_series_zero(x):\n",
    "        \n",
    "    # Expanded around 0\n",
    "    return A + (B - A) * x\n",
    "\n",
    "def taylor_series_one(x):\n",
    "    #Expanded around 1\n",
    "    return 1/2 * (A + B) + 1/4 * (x - 1) * (B - A)    \n",
    "    \n",
    "\n",
    "\n",
    "# Generate x values for the plot\n",
    "x = np.linspace(0, 4, 500)\n",
    "\n",
    "# Evaluate functions\n",
    "y_original = original_function(x)\n",
    "y_taylor_half = taylor_series_half(x)\n",
    "y_taylor_0 = taylor_series_zero(x)\n",
    "y_taylor_one = taylor_series_one(x)\n",
    "\n",
    "# Plotting\n",
    "plt.figure(figsize=(10, 6))\n",
    "\n",
    "plt.plot(x, (y_original - y_taylor_half)/y_original, '--', label=\"arund 1/2\")\n",
    "plt.plot(x, (y_original - y_taylor_0)/y_original, label=\"around  0\")\n",
    "plt.plot(x, (y_original - y_taylor_one)/y_original, label=\"around  1\")\n",
    "\n",
    "plt.xlabel(\"x\")\n",
    "plt.ylabel(\"f(x)/expansion\")\n",
    "plt.title(\"Comparison of Original Function and Taylor Expansion\")\n",
    "plt.legend()"
   ]
  },
  {
   "cell_type": "code",
   "execution_count": null,
   "id": "5ebfd2ad-6516-48a1-ab87-9feeb966544e",
   "metadata": {},
   "outputs": [],
   "source": []
  }
 ],
 "metadata": {
  "kernelspec": {
   "display_name": "Python 3 (ipykernel)",
   "language": "python",
   "name": "python3"
  },
  "language_info": {
   "codemirror_mode": {
    "name": "ipython",
    "version": 3
   },
   "file_extension": ".py",
   "mimetype": "text/x-python",
   "name": "python",
   "nbconvert_exporter": "python",
   "pygments_lexer": "ipython3",
   "version": "3.10.11"
  }
 },
 "nbformat": 4,
 "nbformat_minor": 5
}
