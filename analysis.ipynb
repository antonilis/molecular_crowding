{
 "cells": [
  {
   "cell_type": "code",
   "execution_count": 7,
   "id": "5ec528d6-a21a-43bb-ac29-5f9058e2ec2f",
   "metadata": {},
   "outputs": [],
   "source": [
    "%matplotlib inline\n",
    "import pandas as pd\n",
    "import numpy as np\n",
    "import matplotlib.pyplot as plt\n",
    "import depletion_analysis\n",
    "from scipy.optimize import curve_fit\n",
    "import scienceplots\n",
    "import PNAS_data\n",
    "import uncertainties as unc\n",
    "from uncertainties import unumpy as unp\n",
    "import os\n",
    "import utils as uts\n",
    "plt.style.use('science')"
   ]
  },
  {
   "cell_type": "markdown",
   "id": "30b878a5-789d-43c9-8706-4c9c4b55a484",
   "metadata": {},
   "source": [
    "### Calculating the sodium cation - crowder complexation constant by the reaction:"
   ]
  },
  {
   "attachments": {
    "777ebeb0-86cb-470a-abee-9cc118b4d1c7.png": {
     "image/png": "[encoded data removed]"
    }
   },
   "cell_type": "markdown",
   "id": "9520e8f4-39c5-4516-9b65-1bf36f03d0fe",
   "metadata": {},
   "source": [
    "![image.png](attachment:777ebeb0-86cb-470a-abee-9cc118b4d1c7.png)"
   ]
  },
  {
   "cell_type": "code",
   "execution_count": 2,
   "id": "942517f2-da3a-4768-9fe6-272309f53767",
   "metadata": {},
   "outputs": [],
   "source": [
    "\n",
    "import sodium_crowder_equilibrium_constant as scec\n",
    "\n",
    "data, raw_data, D_Na0, final_values =  scec.calc_sodium_crowder_eq_constant()"
   ]
  },
  {
   "cell_type": "code",
   "execution_count": 3,
   "id": "fd6899f2-9ed6-434c-ace6-979aa6dbcf3f",
   "metadata": {},
   "outputs": [
    {
     "data": {
      "text/plain": [
       "1425.622636"
      ]
     },
     "execution_count": 3,
     "metadata": {},
     "output_type": "execute_result"
    }
   ],
   "source": [
    "# diffusion coefficient of the Na+ in ultra-pure water\n",
    "D_Na0"
   ]
  },
  {
   "cell_type": "code",
   "execution_count": 4,
   "id": "d0492d05-d44f-4cdc-8bae-057cb73848b0",
   "metadata": {},
   "outputs": [
    {
     "data": {
      "text/plain": [
       "0.1721164516810126"
      ]
     },
     "execution_count": 4,
     "metadata": {},
     "output_type": "execute_result"
    }
   ],
   "source": [
    "# hydrodynamic radius, we have established for Na+:\n",
    "uts.calculate_hydrodynamic_radius(D_Na0)"
   ]
  },
  {
   "cell_type": "code",
   "execution_count": 5,
   "id": "2acf5488-9cf8-423c-9c30-ee841feb1536",
   "metadata": {},
   "outputs": [
    {
     "data": {
      "text/html": [
       "<div>\n",
       "<style scoped>\n",
       "    .dataframe tbody tr th:only-of-type {\n",
       "        vertical-align: middle;\n",
       "    }\n",
       "\n",
       "    .dataframe tbody tr th {\n",
       "        vertical-align: top;\n",
       "    }\n",
       "\n",
       "    .dataframe thead th {\n",
       "        text-align: right;\n",
       "    }\n",
       "</style>\n",
       "<table border=\"1\" class=\"dataframe\">\n",
       "  <thead>\n",
       "    <tr style=\"text-align: right;\">\n",
       "      <th></th>\n",
       "      <th>wt_%</th>\n",
       "      <th>D_Na_[um2/s]</th>\n",
       "      <th>D_Na_err_[um2/s]</th>\n",
       "      <th>D_crowder_[um2/s]</th>\n",
       "      <th>D_crowder_err_[um2/s]</th>\n",
       "      <th>crowder</th>\n",
       "    </tr>\n",
       "  </thead>\n",
       "  <tbody>\n",
       "    <tr>\n",
       "      <th>0</th>\n",
       "      <td>0.0</td>\n",
       "      <td>1425.622636</td>\n",
       "      <td>30.4</td>\n",
       "      <td>NaN</td>\n",
       "      <td>Nan</td>\n",
       "      <td>Dextran6000</td>\n",
       "    </tr>\n",
       "    <tr>\n",
       "      <th>1</th>\n",
       "      <td>1.0</td>\n",
       "      <td>1450.000000</td>\n",
       "      <td>88.4</td>\n",
       "      <td>149.0</td>\n",
       "      <td>4.39E+00</td>\n",
       "      <td>Dextran6000</td>\n",
       "    </tr>\n",
       "    <tr>\n",
       "      <th>2</th>\n",
       "      <td>1.5</td>\n",
       "      <td>1330.000000</td>\n",
       "      <td>79.9</td>\n",
       "      <td>142.0</td>\n",
       "      <td>3.50E+00</td>\n",
       "      <td>Dextran6000</td>\n",
       "    </tr>\n",
       "    <tr>\n",
       "      <th>3</th>\n",
       "      <td>3.0</td>\n",
       "      <td>1300.000000</td>\n",
       "      <td>125.0</td>\n",
       "      <td>133.0</td>\n",
       "      <td>2.26E+00</td>\n",
       "      <td>Dextran6000</td>\n",
       "    </tr>\n",
       "    <tr>\n",
       "      <th>4</th>\n",
       "      <td>4.5</td>\n",
       "      <td>1220.000000</td>\n",
       "      <td>113.0</td>\n",
       "      <td>127.0</td>\n",
       "      <td>3.12E+00</td>\n",
       "      <td>Dextran6000</td>\n",
       "    </tr>\n",
       "  </tbody>\n",
       "</table>\n",
       "</div>"
      ],
      "text/plain": [
       "   wt_%  D_Na_[um2/s]  D_Na_err_[um2/s]  D_crowder_[um2/s]  \\\n",
       "0   0.0   1425.622636              30.4                NaN   \n",
       "1   1.0   1450.000000              88.4              149.0   \n",
       "2   1.5   1330.000000              79.9              142.0   \n",
       "3   3.0   1300.000000             125.0              133.0   \n",
       "4   4.5   1220.000000             113.0              127.0   \n",
       "\n",
       "  D_crowder_err_[um2/s]      crowder  \n",
       "0                   Nan  Dextran6000  \n",
       "1              4.39E+00  Dextran6000  \n",
       "2              3.50E+00  Dextran6000  \n",
       "3              2.26E+00  Dextran6000  \n",
       "4              3.12E+00  Dextran6000  "
      ]
     },
     "execution_count": 5,
     "metadata": {},
     "output_type": "execute_result"
    }
   ],
   "source": [
    "# raw data from the NMR experiments: D_Na_[um2/s] column is the sodium diffusion coefficient obtained from the NMR, \n",
    "# whereas D_crowder_[um2/s] is diffusion coefficient of PEG in PEGs solution\n",
    "raw_data.head()"
   ]
  },
  {
   "cell_type": "code",
   "execution_count": 6,
   "id": "c8dc44f9-034f-461a-b399-ecb6b59ef920",
   "metadata": {},
   "outputs": [
    {
     "data": {
      "text/plain": [
       "<matplotlib.legend.Legend at 0x1906fb34be0>"
      ]
     },
     "execution_count": 6,
     "metadata": {},
     "output_type": "execute_result"
    },
    {
     "data": {
      "image/png": "[encoded data removed]",
      "text/plain": [
       "<Figure size 350x262.5 with 1 Axes>"
      ]
     },
     "metadata": {},
     "output_type": "display_data"
    }
   ],
   "source": [
    "peg_12k = raw_data[raw_data['crowder'] == 'PEG12000']\n",
    "peg_20k = raw_data[raw_data['crowder'] == 'PEG20000']\n",
    "\n",
    "\n",
    "plt.errorbar(peg_12k['wt_%'] , peg_12k['D_Na_[um2/s]'], yerr=peg_12k['D_Na_err_[um2/s]'], fmt='o', label='PEG 12k')\n",
    "plt.errorbar(peg_20k['wt_%'] , peg_20k['D_Na_[um2/s]'], yerr=peg_20k['D_Na_err_[um2/s]'], fmt='o', label='PEG 20k')\n",
    "plt.legend()"
   ]
  },
  {
   "cell_type": "code",
   "execution_count": 7,
   "id": "dc66cde6-e26c-4953-8570-f166f919108d",
   "metadata": {},
   "outputs": [
    {
     "data": {
      "text/html": [
       "<div>\n",
       "<style scoped>\n",
       "    .dataframe tbody tr th:only-of-type {\n",
       "        vertical-align: middle;\n",
       "    }\n",
       "\n",
       "    .dataframe tbody tr th {\n",
       "        vertical-align: top;\n",
       "    }\n",
       "\n",
       "    .dataframe thead th {\n",
       "        text-align: right;\n",
       "    }\n",
       "</style>\n",
       "<table border=\"1\" class=\"dataframe\">\n",
       "  <thead>\n",
       "    <tr style=\"text-align: right;\">\n",
       "      <th></th>\n",
       "      <th>wt_%</th>\n",
       "      <th>D_Na_[um2/s]</th>\n",
       "      <th>D_crowder_[um2/s]</th>\n",
       "      <th>crowder</th>\n",
       "      <th>MW_[g/mol]</th>\n",
       "      <th>No_mono</th>\n",
       "      <th>d_coef</th>\n",
       "      <th>Rg_[nm]</th>\n",
       "      <th>Rg_err_[nm]</th>\n",
       "      <th>Rh_[nm]</th>\n",
       "      <th>...</th>\n",
       "      <th>monomers concentration [M]</th>\n",
       "      <th>mass concentration [g/cm3]</th>\n",
       "      <th>ksi</th>\n",
       "      <th>D_Na_[um2/s] corr</th>\n",
       "      <th>x axis</th>\n",
       "      <th>y axis</th>\n",
       "      <th>slope</th>\n",
       "      <th>intercept</th>\n",
       "      <th>Beta complex</th>\n",
       "      <th>real x</th>\n",
       "    </tr>\n",
       "  </thead>\n",
       "  <tbody>\n",
       "    <tr>\n",
       "      <th>19</th>\n",
       "      <td>1.0</td>\n",
       "      <td>(1.40+/-0.04)e+03</td>\n",
       "      <td>1130+/-9</td>\n",
       "      <td>EGly</td>\n",
       "      <td>62.07</td>\n",
       "      <td>1.0</td>\n",
       "      <td>0.00094</td>\n",
       "      <td>0.23861</td>\n",
       "      <td>0.024435</td>\n",
       "      <td>0.153145</td>\n",
       "      <td>...</td>\n",
       "      <td>0.160777</td>\n",
       "      <td>0.009979</td>\n",
       "      <td>11.798932</td>\n",
       "      <td>1419.330006</td>\n",
       "      <td>-1.827740</td>\n",
       "      <td>-3.0+/-2.8</td>\n",
       "      <td>0.81+/-0.24</td>\n",
       "      <td>-0.95+/-0.16</td>\n",
       "      <td>0.39+/-0.06</td>\n",
       "      <td>0.11+/-0.07</td>\n",
       "    </tr>\n",
       "    <tr>\n",
       "      <th>20</th>\n",
       "      <td>2.5</td>\n",
       "      <td>(1.37+/-0.06)e+03</td>\n",
       "      <td>1109+/-5</td>\n",
       "      <td>EGly</td>\n",
       "      <td>62.07</td>\n",
       "      <td>1.0</td>\n",
       "      <td>0.00094</td>\n",
       "      <td>0.23861</td>\n",
       "      <td>0.024435</td>\n",
       "      <td>0.153145</td>\n",
       "      <td>...</td>\n",
       "      <td>0.402509</td>\n",
       "      <td>0.024984</td>\n",
       "      <td>5.928268</td>\n",
       "      <td>1410.379983</td>\n",
       "      <td>-0.910037</td>\n",
       "      <td>-2.0+/-1.6</td>\n",
       "      <td>0.81+/-0.24</td>\n",
       "      <td>-0.95+/-0.16</td>\n",
       "      <td>0.39+/-0.06</td>\n",
       "      <td>0.22+/-0.10</td>\n",
       "    </tr>\n",
       "    <tr>\n",
       "      <th>21</th>\n",
       "      <td>5.0</td>\n",
       "      <td>(1.23+/-0.08)e+03</td>\n",
       "      <td>1053+/-6</td>\n",
       "      <td>EGly</td>\n",
       "      <td>62.07</td>\n",
       "      <td>1.0</td>\n",
       "      <td>0.00094</td>\n",
       "      <td>0.23861</td>\n",
       "      <td>0.024435</td>\n",
       "      <td>0.153145</td>\n",
       "      <td>...</td>\n",
       "      <td>0.806912</td>\n",
       "      <td>0.050085</td>\n",
       "      <td>3.518765</td>\n",
       "      <td>1395.901917</td>\n",
       "      <td>-0.214541</td>\n",
       "      <td>-0.7+/-0.5</td>\n",
       "      <td>0.81+/-0.24</td>\n",
       "      <td>-0.95+/-0.16</td>\n",
       "      <td>0.39+/-0.06</td>\n",
       "      <td>0.39+/-0.12</td>\n",
       "    </tr>\n",
       "    <tr>\n",
       "      <th>22</th>\n",
       "      <td>7.5</td>\n",
       "      <td>(1.21+/-0.06)e+03</td>\n",
       "      <td>1034+/-6</td>\n",
       "      <td>EGly</td>\n",
       "      <td>62.07</td>\n",
       "      <td>1.0</td>\n",
       "      <td>0.00094</td>\n",
       "      <td>0.23861</td>\n",
       "      <td>0.024435</td>\n",
       "      <td>0.153145</td>\n",
       "      <td>...</td>\n",
       "      <td>1.213207</td>\n",
       "      <td>0.075304</td>\n",
       "      <td>2.591544</td>\n",
       "      <td>1381.748469</td>\n",
       "      <td>0.193267</td>\n",
       "      <td>-0.7+/-0.4</td>\n",
       "      <td>0.81+/-0.24</td>\n",
       "      <td>-0.95+/-0.16</td>\n",
       "      <td>0.39+/-0.06</td>\n",
       "      <td>0.54+/-0.12</td>\n",
       "    </tr>\n",
       "    <tr>\n",
       "      <th>23</th>\n",
       "      <td>10.0</td>\n",
       "      <td>(1.19+/-0.05)e+03</td>\n",
       "      <td>936+/-9</td>\n",
       "      <td>EGly</td>\n",
       "      <td>62.07</td>\n",
       "      <td>1.0</td>\n",
       "      <td>0.00094</td>\n",
       "      <td>0.23861</td>\n",
       "      <td>0.024435</td>\n",
       "      <td>0.153145</td>\n",
       "      <td>...</td>\n",
       "      <td>1.621395</td>\n",
       "      <td>0.100640</td>\n",
       "      <td>2.084938</td>\n",
       "      <td>1367.828465</td>\n",
       "      <td>0.483287</td>\n",
       "      <td>-0.89+/-0.31</td>\n",
       "      <td>0.81+/-0.24</td>\n",
       "      <td>-0.95+/-0.16</td>\n",
       "      <td>0.39+/-0.06</td>\n",
       "      <td>0.69+/-0.12</td>\n",
       "    </tr>\n",
       "  </tbody>\n",
       "</table>\n",
       "<p>5 rows × 25 columns</p>\n",
       "</div>"
      ],
      "text/plain": [
       "    wt_%       D_Na_[um2/s] D_crowder_[um2/s] crowder  MW_[g/mol]  No_mono  \\\n",
       "19   1.0  (1.40+/-0.04)e+03          1130+/-9    EGly       62.07      1.0   \n",
       "20   2.5  (1.37+/-0.06)e+03          1109+/-5    EGly       62.07      1.0   \n",
       "21   5.0  (1.23+/-0.08)e+03          1053+/-6    EGly       62.07      1.0   \n",
       "22   7.5  (1.21+/-0.06)e+03          1034+/-6    EGly       62.07      1.0   \n",
       "23  10.0  (1.19+/-0.05)e+03           936+/-9    EGly       62.07      1.0   \n",
       "\n",
       "     d_coef  Rg_[nm]  Rg_err_[nm]   Rh_[nm]  ...  monomers concentration [M]  \\\n",
       "19  0.00094  0.23861     0.024435  0.153145  ...                    0.160777   \n",
       "20  0.00094  0.23861     0.024435  0.153145  ...                    0.402509   \n",
       "21  0.00094  0.23861     0.024435  0.153145  ...                    0.806912   \n",
       "22  0.00094  0.23861     0.024435  0.153145  ...                    1.213207   \n",
       "23  0.00094  0.23861     0.024435  0.153145  ...                    1.621395   \n",
       "\n",
       "    mass concentration [g/cm3]        ksi  D_Na_[um2/s] corr    x axis  \\\n",
       "19                    0.009979  11.798932        1419.330006 -1.827740   \n",
       "20                    0.024984   5.928268        1410.379983 -0.910037   \n",
       "21                    0.050085   3.518765        1395.901917 -0.214541   \n",
       "22                    0.075304   2.591544        1381.748469  0.193267   \n",
       "23                    0.100640   2.084938        1367.828465  0.483287   \n",
       "\n",
       "          y axis        slope     intercept  Beta complex       real x  \n",
       "19    -3.0+/-2.8  0.81+/-0.24  -0.95+/-0.16   0.39+/-0.06  0.11+/-0.07  \n",
       "20    -2.0+/-1.6  0.81+/-0.24  -0.95+/-0.16   0.39+/-0.06  0.22+/-0.10  \n",
       "21    -0.7+/-0.5  0.81+/-0.24  -0.95+/-0.16   0.39+/-0.06  0.39+/-0.12  \n",
       "22    -0.7+/-0.4  0.81+/-0.24  -0.95+/-0.16   0.39+/-0.06  0.54+/-0.12  \n",
       "23  -0.89+/-0.31  0.81+/-0.24  -0.95+/-0.16   0.39+/-0.06  0.69+/-0.12  \n",
       "\n",
       "[5 rows x 25 columns]"
      ]
     },
     "execution_count": 7,
     "metadata": {},
     "output_type": "execute_result"
    }
   ],
   "source": [
    "# data after analysis by the code in sodium_crowder_equilibrium_constant\n",
    "data.head()"
   ]
  },
  {
   "cell_type": "markdown",
   "id": "ec277551-9de5-4070-8ffb-404760a1ec5b",
   "metadata": {},
   "source": [
    "### For small crowders, the diffusion drop is mainly due to the viscosity effects"
   ]
  },
  {
   "cell_type": "code",
   "execution_count": 8,
   "id": "1f91d147-089c-4207-8a4c-80aa47b19a3a",
   "metadata": {},
   "outputs": [
    {
     "data": {
      "text/plain": [
       "<matplotlib.legend.Legend at 0x1904e898b80>"
      ]
     },
     "execution_count": 8,
     "metadata": {},
     "output_type": "execute_result"
    },
    {
     "data": {
      "image/png": "[encoded data removed]",
      "text/plain": [
       "<Figure size 350x262.5 with 1 Axes>"
      ]
     },
     "metadata": {},
     "output_type": "display_data"
    }
   ],
   "source": [
    "peg200 = data[data['crowder'] == 'PEG200']\n",
    "\n",
    "\n",
    "D_measured, D_measured_err = uts.get_float_uncertainty(peg200['D_Na_[um2/s]'])\n",
    "\n",
    "#D_viscosity, D_viscosity_err = uts.get_float_uncertainty(peg200['D_Na_[um2/s] corr'])\n",
    "\n",
    "D_viscosity = peg200['D_Na_[um2/s] corr']\n",
    "\n",
    "\n",
    "plt.errorbar( peg200['monomers concentration [M]'] , D_measured, yerr=D_measured_err, fmt='o', label='experimental')\n",
    "plt.plot( peg200['monomers concentration [M]'] , D_viscosity, 'x',  label='nano-viscosity effect')\n",
    "plt.title('peg 200')\n",
    "plt.legend()"
   ]
  },
  {
   "cell_type": "markdown",
   "id": "77d7fe97-c7cb-4cf8-961b-fc80c93b8fef",
   "metadata": {},
   "source": [
    "# For bigger crowders the errors are smaller"
   ]
  },
  {
   "cell_type": "code",
   "execution_count": 9,
   "id": "7db4d193-55df-4679-b9e5-813140a87d7f",
   "metadata": {},
   "outputs": [
    {
     "data": {
      "text/plain": [
       "<matplotlib.legend.Legend at 0x19071e344f0>"
      ]
     },
     "execution_count": 9,
     "metadata": {},
     "output_type": "execute_result"
    },
    {
     "data": {
      "image/png": "[encoded data removed]",
      "text/plain": [
       "<Figure size 350x262.5 with 1 Axes>"
      ]
     },
     "metadata": {},
     "output_type": "display_data"
    }
   ],
   "source": [
    "peg35K = data[data['crowder'] == 'PEG35000']\n",
    "\n",
    "\n",
    "D_measured, D_measured_err = uts.get_float_uncertainty(peg35K['D_Na_[um2/s]'])\n",
    "\n",
    "#D_viscosity, D_viscosity_err = uts.get_float_uncertainty(peg35K['D_Na_[um2/s] corr'])\n",
    "D_viscosity = peg35K['D_Na_[um2/s] corr']\n",
    "\n",
    "plt.errorbar( peg35K['monomers concentration [M]'] , D_measured, yerr=D_measured_err, fmt='o', label='experimental')\n",
    "plt.plot( peg35K['monomers concentration [M]'] , D_viscosity, 'x' ,label='nano-viscosity effect')\n",
    "plt.title('peg 35K')\n",
    "plt.legend()\n"
   ]
  },
  {
   "cell_type": "code",
   "execution_count": 10,
   "id": "027c5357-b36a-4fc7-8e2b-550905707f01",
   "metadata": {},
   "outputs": [
    {
     "data": {
      "text/plain": [
       "Text(39.98414690570084, 0.5, '$\\\\beta$ complexation')"
      ]
     },
     "execution_count": 10,
     "metadata": {},
     "output_type": "execute_result"
    },
    {
     "data": {
      "image/png": "[encoded data removed]",
      "text/plain": [
       "<Figure size 600x600 with 1 Axes>"
      ]
     },
     "metadata": {},
     "output_type": "display_data"
    }
   ],
   "source": [
    "data_for_plot = data.drop_duplicates(subset=['crowder']).sort_values(by='MW_[g/mol]')\n",
    "\n",
    "not_pegs = ['Dextran6000', 'Dextran70000', 'Ficoll400000']\n",
    "\n",
    "# not_pegs = []\n",
    "\n",
    "data_for_plot = data_for_plot[~data_for_plot['crowder'].isin(not_pegs)]\n",
    "\n",
    "\n",
    "crowders = data_for_plot['crowder']\n",
    "K_complex_value, K_complex_unc = uts.get_float_uncertainty(data_for_plot['Beta complex'])\n",
    "\n",
    "plt.figure(figsize=(6,6))\n",
    "plt.errorbar(crowders, K_complex_value, yerr=K_complex_unc, fmt='o')\n",
    "plt.xticks(rotation=45)\n",
    "plt.tight_layout()\n",
    "plt.ylabel(r'$\\beta$ complexation')"
   ]
  },
  {
   "cell_type": "code",
   "execution_count": 11,
   "id": "c00390fb-f44c-4dfd-b546-1177e945c8e2",
   "metadata": {},
   "outputs": [
    {
     "data": {
      "text/plain": [
       "Text(46.90266808847248, 0.5, 'slope $n$')"
      ]
     },
     "execution_count": 11,
     "metadata": {},
     "output_type": "execute_result"
    },
    {
     "data": {
      "image/png": "[encoded data removed]",
      "text/plain": [
       "<Figure size 600x600 with 1 Axes>"
      ]
     },
     "metadata": {},
     "output_type": "display_data"
    }
   ],
   "source": [
    "crowders = data_for_plot['crowder']\n",
    "n, n_unc = uts.get_float_uncertainty(data_for_plot['slope'])\n",
    "\n",
    "plt.figure(figsize=(6,6))\n",
    "plt.errorbar(crowders, n, yerr=n_unc, fmt='o')\n",
    "plt.xticks(rotation=45)\n",
    "plt.tight_layout()\n",
    "plt.ylabel(r'slope $n$')"
   ]
  },
  {
   "cell_type": "code",
   "execution_count": 12,
   "id": "1f4162a9-59ad-440d-a932-050afc777794",
   "metadata": {},
   "outputs": [
    {
     "data": {
      "text/plain": [
       "(array([2., 2., 3., 2., 0., 1., 0., 0., 0., 1.]),\n",
       " array([0.8087512 , 0.9224144 , 1.0360776 , 1.1497408 , 1.263404  ,\n",
       "        1.3770672 , 1.49073041, 1.60439361, 1.71805681, 1.83172001,\n",
       "        1.94538321]),\n",
       " <BarContainer object of 10 artists>)"
      ]
     },
     "execution_count": 12,
     "metadata": {},
     "output_type": "execute_result"
    },
    {
     "data": {
      "image/png": "[encoded data removed]",
      "text/plain": [
       "<Figure size 350x262.5 with 1 Axes>"
      ]
     },
     "metadata": {},
     "output_type": "display_data"
    }
   ],
   "source": [
    "plt.hist(n)"
   ]
  },
  {
   "cell_type": "code",
   "execution_count": 13,
   "id": "6b2ad681-deef-4924-80f8-331f33f539da",
   "metadata": {},
   "outputs": [
    {
     "data": {
      "text/html": [
       "<div>\n",
       "<style scoped>\n",
       "    .dataframe tbody tr th:only-of-type {\n",
       "        vertical-align: middle;\n",
       "    }\n",
       "\n",
       "    .dataframe tbody tr th {\n",
       "        vertical-align: top;\n",
       "    }\n",
       "\n",
       "    .dataframe thead th {\n",
       "        text-align: right;\n",
       "    }\n",
       "</style>\n",
       "<table border=\"1\" class=\"dataframe\">\n",
       "  <thead>\n",
       "    <tr style=\"text-align: right;\">\n",
       "      <th></th>\n",
       "      <th>Crowder</th>\n",
       "      <th>Beta Complex</th>\n",
       "      <th>n Complexation</th>\n",
       "    </tr>\n",
       "  </thead>\n",
       "  <tbody>\n",
       "    <tr>\n",
       "      <th>0</th>\n",
       "      <td>PEG</td>\n",
       "      <td>0.162+/-0.008</td>\n",
       "      <td>1.16+/-0.05</td>\n",
       "    </tr>\n",
       "    <tr>\n",
       "      <th>1</th>\n",
       "      <td>Ficoll</td>\n",
       "      <td>0.47+/-0.12</td>\n",
       "      <td>0.51+/-0.13</td>\n",
       "    </tr>\n",
       "    <tr>\n",
       "      <th>2</th>\n",
       "      <td>Dextran</td>\n",
       "      <td>0.30+/-0.04</td>\n",
       "      <td>0.53+/-0.11</td>\n",
       "    </tr>\n",
       "  </tbody>\n",
       "</table>\n",
       "</div>"
      ],
      "text/plain": [
       "   Crowder   Beta Complex n Complexation\n",
       "0      PEG  0.162+/-0.008    1.16+/-0.05\n",
       "1   Ficoll    0.47+/-0.12    0.51+/-0.13\n",
       "2  Dextran    0.30+/-0.04    0.53+/-0.11"
      ]
     },
     "execution_count": 13,
     "metadata": {},
     "output_type": "execute_result"
    }
   ],
   "source": [
    "final_values"
   ]
  },
  {
   "cell_type": "markdown",
   "id": "5ab69e13-ea44-435b-a2a6-b0bd808a7ba9",
   "metadata": {},
   "source": [
    "# Taylor series expansion around 0 and 1/2 for the Beta calculations"
   ]
  },
  {
   "cell_type": "code",
   "execution_count": 13,
   "id": "483c52fe-8abb-4b06-88fb-fd350b15f7aa",
   "metadata": {},
   "outputs": [
    {
     "data": {
      "image/png": "[encoded data removed]",
      "text/plain": [
       "<Figure size 800x1000 with 2 Axes>"
      ]
     },
     "metadata": {},
     "output_type": "display_data"
    }
   ],
   "source": [
    "x = np.linspace(0, 1, 100)\n",
    "\n",
    "A = 1425\n",
    "B = 5\n",
    "\n",
    "y = (A + B * x) / (1 + x)\n",
    "\n",
    "y_zero = A + x * (B - A)\n",
    "y_half = (2/3) * (A + B/2) + (x - 1/2) * (2/3)**2 * (B - A)\n",
    "\n",
    "fig, axes = plt.subplots(2, 1, figsize=(8, 10))\n",
    "\n",
    "# Main plot\n",
    "axes[0].plot(x, y, label='Exact')\n",
    "axes[0].plot(x, y_zero, label='Approx Around 0', linestyle='dashed')\n",
    "axes[0].plot(x, y_half, label='Approx Around 1/2', linestyle='dotted')\n",
    "axes[0].legend()\n",
    "axes[0].set_title(\"Function and Approximations\")\n",
    "\n",
    "# Percentage difference subplot\n",
    "diff_zero = 100 * (y_zero - y) / y\n",
    "diff_half = 100 * (y_half - y) / y\n",
    "\n",
    "axes[1].plot(x, diff_zero, label='Percentage Diff (Around 0)', linestyle='dashed')\n",
    "axes[1].plot(x, diff_half, label='Percentage Diff (Around 1/2)', linestyle='dotted')\n",
    "axes[1].axhline(0, color='black', linewidth=0.8, linestyle='--')\n",
    "axes[1].legend()\n",
    "axes[1].set_title(\"Percentage Difference\")\n",
    "axes[1].set_ylabel(\"% Difference\")\n",
    "axes[1].set_xlabel(\"x\")\n",
    "\n",
    "plt.tight_layout()"
   ]
  },
  {
   "cell_type": "markdown",
   "id": "5f11745d-b2ce-42eb-9a22-1da7d532d3cb",
   "metadata": {},
   "source": [
    "# The parabolic dependence of ssDNA hybridization K"
   ]
  },
  {
   "cell_type": "code",
   "execution_count": 1,
   "id": "689c9331-041b-462c-844b-7f057c76c0d3",
   "metadata": {},
   "outputs": [],
   "source": [
    "import K_dependency, PNAS_data\n",
    "\n",
    "experimental_data, fitted_parameters = K_dependency.prepare_and_fit_experimental_data()\n",
    "fitted_parameters = fitted_parameters.sort_values(by=['No_mono'])\n"
   ]
  },
  {
   "cell_type": "code",
   "execution_count": 8,
   "id": "ee796d76-3e6d-4e80-b7b9-76b85e9dc5ff",
   "metadata": {},
   "outputs": [
    {
     "data": {
      "text/html": [
       "<div>\n",
       "<style scoped>\n",
       "    .dataframe tbody tr th:only-of-type {\n",
       "        vertical-align: middle;\n",
       "    }\n",
       "\n",
       "    .dataframe tbody tr th {\n",
       "        vertical-align: top;\n",
       "    }\n",
       "\n",
       "    .dataframe thead th {\n",
       "        text-align: right;\n",
       "    }\n",
       "</style>\n",
       "<table border=\"1\" class=\"dataframe\">\n",
       "  <thead>\n",
       "    <tr style=\"text-align: right;\">\n",
       "      <th></th>\n",
       "      <th>crowder</th>\n",
       "      <th>a2</th>\n",
       "      <th>a1</th>\n",
       "      <th>a0</th>\n",
       "      <th>MW_[g/mol]</th>\n",
       "      <th>No_mono</th>\n",
       "      <th>d_coef</th>\n",
       "      <th>Rg_[nm]</th>\n",
       "      <th>Rg_err_[nm]</th>\n",
       "      <th>Rh_[nm]</th>\n",
       "      <th>Rh_err_[nm]</th>\n",
       "      <th>V_Rg_[nm3]</th>\n",
       "      <th>V_Rg_err_[nm3]</th>\n",
       "      <th>c*_[g/cm3]</th>\n",
       "    </tr>\n",
       "  </thead>\n",
       "  <tbody>\n",
       "    <tr>\n",
       "      <th>0</th>\n",
       "      <td>EGly</td>\n",
       "      <td>-0.09+/-0.04</td>\n",
       "      <td>-0.21+/-0.26</td>\n",
       "      <td>20.8+/-0.4</td>\n",
       "      <td>62.07</td>\n",
       "      <td>1.000</td>\n",
       "      <td>0.00094</td>\n",
       "      <td>0.238610</td>\n",
       "      <td>0.024435</td>\n",
       "      <td>0.153145</td>\n",
       "      <td>0.015049</td>\n",
       "      <td>0.056905</td>\n",
       "      <td>0.017483</td>\n",
       "      <td>1.811243</td>\n",
       "    </tr>\n",
       "    <tr>\n",
       "      <th>5</th>\n",
       "      <td>PEG200</td>\n",
       "      <td>-1.2+/-0.6</td>\n",
       "      <td>-0.3+/-1.5</td>\n",
       "      <td>21.7+/-0.9</td>\n",
       "      <td>200.00</td>\n",
       "      <td>4.131</td>\n",
       "      <td>0.00120</td>\n",
       "      <td>0.471997</td>\n",
       "      <td>0.025338</td>\n",
       "      <td>0.298714</td>\n",
       "      <td>0.015208</td>\n",
       "      <td>0.440459</td>\n",
       "      <td>0.070935</td>\n",
       "      <td>0.754004</td>\n",
       "    </tr>\n",
       "    <tr>\n",
       "      <th>8</th>\n",
       "      <td>PEG400</td>\n",
       "      <td>-5.4+/-0.7</td>\n",
       "      <td>1.4+/-1.0</td>\n",
       "      <td>21.81+/-0.33</td>\n",
       "      <td>400.00</td>\n",
       "      <td>8.672</td>\n",
       "      <td>0.00130</td>\n",
       "      <td>0.707033</td>\n",
       "      <td>0.025888</td>\n",
       "      <td>0.443756</td>\n",
       "      <td>0.015303</td>\n",
       "      <td>1.480495</td>\n",
       "      <td>0.162626</td>\n",
       "      <td>0.448644</td>\n",
       "    </tr>\n",
       "    <tr>\n",
       "      <th>10</th>\n",
       "      <td>PEG600</td>\n",
       "      <td>-19.0+/-1.3</td>\n",
       "      <td>8.6+/-1.4</td>\n",
       "      <td>21.31+/-0.33</td>\n",
       "      <td>600.00</td>\n",
       "      <td>13.212</td>\n",
       "      <td>0.00135</td>\n",
       "      <td>0.895572</td>\n",
       "      <td>0.026216</td>\n",
       "      <td>0.559361</td>\n",
       "      <td>0.015359</td>\n",
       "      <td>3.008781</td>\n",
       "      <td>0.264224</td>\n",
       "      <td>0.331139</td>\n",
       "    </tr>\n",
       "    <tr>\n",
       "      <th>1</th>\n",
       "      <td>PEG1000</td>\n",
       "      <td>-36+/-11</td>\n",
       "      <td>8+/-5</td>\n",
       "      <td>22.4+/-0.4</td>\n",
       "      <td>1000.00</td>\n",
       "      <td>22.292</td>\n",
       "      <td>0.00140</td>\n",
       "      <td>1.206253</td>\n",
       "      <td>0.026634</td>\n",
       "      <td>0.748804</td>\n",
       "      <td>0.015430</td>\n",
       "      <td>7.351974</td>\n",
       "      <td>0.486996</td>\n",
       "      <td>0.225863</td>\n",
       "    </tr>\n",
       "    <tr>\n",
       "      <th>3</th>\n",
       "      <td>PEG1500</td>\n",
       "      <td>-100+/-13</td>\n",
       "      <td>20+/-4</td>\n",
       "      <td>21.93+/-0.29</td>\n",
       "      <td>1500.00</td>\n",
       "      <td>33.643</td>\n",
       "      <td>0.00145</td>\n",
       "      <td>1.527917</td>\n",
       "      <td>0.026971</td>\n",
       "      <td>0.943879</td>\n",
       "      <td>0.015486</td>\n",
       "      <td>14.941273</td>\n",
       "      <td>0.791237</td>\n",
       "      <td>0.166707</td>\n",
       "    </tr>\n",
       "    <tr>\n",
       "      <th>6</th>\n",
       "      <td>PEG3000</td>\n",
       "      <td>(-2.1+/-1.3)e+02</td>\n",
       "      <td>22+/-22</td>\n",
       "      <td>22.6+/-0.7</td>\n",
       "      <td>3000.00</td>\n",
       "      <td>67.695</td>\n",
       "      <td>0.00150</td>\n",
       "      <td>2.288759</td>\n",
       "      <td>0.027557</td>\n",
       "      <td>1.402182</td>\n",
       "      <td>0.015583</td>\n",
       "      <td>50.221429</td>\n",
       "      <td>1.814009</td>\n",
       "      <td>0.099193</td>\n",
       "    </tr>\n",
       "    <tr>\n",
       "      <th>9</th>\n",
       "      <td>PEG6000</td>\n",
       "      <td>(-1.1+/-0.4)e+03</td>\n",
       "      <td>54+/-34</td>\n",
       "      <td>22.5+/-0.5</td>\n",
       "      <td>6000.00</td>\n",
       "      <td>135.800</td>\n",
       "      <td>0.00155</td>\n",
       "      <td>3.428472</td>\n",
       "      <td>0.028155</td>\n",
       "      <td>2.083015</td>\n",
       "      <td>0.015681</td>\n",
       "      <td>168.807029</td>\n",
       "      <td>4.158841</td>\n",
       "      <td>0.059021</td>\n",
       "    </tr>\n",
       "    <tr>\n",
       "      <th>2</th>\n",
       "      <td>PEG12000</td>\n",
       "      <td>(-5.1+/-0.6)e+03</td>\n",
       "      <td>166+/-23</td>\n",
       "      <td>21.95+/-0.14</td>\n",
       "      <td>12000.00</td>\n",
       "      <td>272.009</td>\n",
       "      <td>0.00160</td>\n",
       "      <td>5.135717</td>\n",
       "      <td>0.028767</td>\n",
       "      <td>3.094429</td>\n",
       "      <td>0.015779</td>\n",
       "      <td>567.403471</td>\n",
       "      <td>9.534660</td>\n",
       "      <td>0.035119</td>\n",
       "    </tr>\n",
       "    <tr>\n",
       "      <th>4</th>\n",
       "      <td>PEG20000</td>\n",
       "      <td>(-9.8+/-2.2)e+03</td>\n",
       "      <td>(1.5+/-0.5)e+02</td>\n",
       "      <td>22.57+/-0.26</td>\n",
       "      <td>20000.00</td>\n",
       "      <td>453.620</td>\n",
       "      <td>0.00165</td>\n",
       "      <td>6.917337</td>\n",
       "      <td>0.029226</td>\n",
       "      <td>4.142439</td>\n",
       "      <td>0.015852</td>\n",
       "      <td>1386.453957</td>\n",
       "      <td>17.573495</td>\n",
       "      <td>0.023954</td>\n",
       "    </tr>\n",
       "    <tr>\n",
       "      <th>7</th>\n",
       "      <td>PEG35000</td>\n",
       "      <td>(-4.4+/-0.7)e+04</td>\n",
       "      <td>(5.1+/-1.0)e+02</td>\n",
       "      <td>22.01+/-0.27</td>\n",
       "      <td>35000.00</td>\n",
       "      <td>794.143</td>\n",
       "      <td>0.00170</td>\n",
       "      <td>9.585839</td>\n",
       "      <td>0.029738</td>\n",
       "      <td>5.702048</td>\n",
       "      <td>0.015932</td>\n",
       "      <td>3689.597562</td>\n",
       "      <td>34.337976</td>\n",
       "      <td>0.015752</td>\n",
       "    </tr>\n",
       "  </tbody>\n",
       "</table>\n",
       "</div>"
      ],
      "text/plain": [
       "     crowder                a2               a1            a0  MW_[g/mol]  \\\n",
       "0       EGly      -0.09+/-0.04     -0.21+/-0.26    20.8+/-0.4       62.07   \n",
       "5     PEG200        -1.2+/-0.6       -0.3+/-1.5    21.7+/-0.9      200.00   \n",
       "8     PEG400        -5.4+/-0.7        1.4+/-1.0  21.81+/-0.33      400.00   \n",
       "10    PEG600       -19.0+/-1.3        8.6+/-1.4  21.31+/-0.33      600.00   \n",
       "1    PEG1000          -36+/-11            8+/-5    22.4+/-0.4     1000.00   \n",
       "3    PEG1500         -100+/-13           20+/-4  21.93+/-0.29     1500.00   \n",
       "6    PEG3000  (-2.1+/-1.3)e+02          22+/-22    22.6+/-0.7     3000.00   \n",
       "9    PEG6000  (-1.1+/-0.4)e+03          54+/-34    22.5+/-0.5     6000.00   \n",
       "2   PEG12000  (-5.1+/-0.6)e+03         166+/-23  21.95+/-0.14    12000.00   \n",
       "4   PEG20000  (-9.8+/-2.2)e+03  (1.5+/-0.5)e+02  22.57+/-0.26    20000.00   \n",
       "7   PEG35000  (-4.4+/-0.7)e+04  (5.1+/-1.0)e+02  22.01+/-0.27    35000.00   \n",
       "\n",
       "    No_mono   d_coef   Rg_[nm]  Rg_err_[nm]   Rh_[nm]  Rh_err_[nm]  \\\n",
       "0     1.000  0.00094  0.238610     0.024435  0.153145     0.015049   \n",
       "5     4.131  0.00120  0.471997     0.025338  0.298714     0.015208   \n",
       "8     8.672  0.00130  0.707033     0.025888  0.443756     0.015303   \n",
       "10   13.212  0.00135  0.895572     0.026216  0.559361     0.015359   \n",
       "1    22.292  0.00140  1.206253     0.026634  0.748804     0.015430   \n",
       "3    33.643  0.00145  1.527917     0.026971  0.943879     0.015486   \n",
       "6    67.695  0.00150  2.288759     0.027557  1.402182     0.015583   \n",
       "9   135.800  0.00155  3.428472     0.028155  2.083015     0.015681   \n",
       "2   272.009  0.00160  5.135717     0.028767  3.094429     0.015779   \n",
       "4   453.620  0.00165  6.917337     0.029226  4.142439     0.015852   \n",
       "7   794.143  0.00170  9.585839     0.029738  5.702048     0.015932   \n",
       "\n",
       "     V_Rg_[nm3]  V_Rg_err_[nm3]  c*_[g/cm3]  \n",
       "0      0.056905        0.017483    1.811243  \n",
       "5      0.440459        0.070935    0.754004  \n",
       "8      1.480495        0.162626    0.448644  \n",
       "10     3.008781        0.264224    0.331139  \n",
       "1      7.351974        0.486996    0.225863  \n",
       "3     14.941273        0.791237    0.166707  \n",
       "6     50.221429        1.814009    0.099193  \n",
       "9    168.807029        4.158841    0.059021  \n",
       "2    567.403471        9.534660    0.035119  \n",
       "4   1386.453957       17.573495    0.023954  \n",
       "7   3689.597562       34.337976    0.015752  "
      ]
     },
     "execution_count": 8,
     "metadata": {},
     "output_type": "execute_result"
    }
   ],
   "source": [
    "fitted_parameters"
   ]
  },
  {
   "cell_type": "code",
   "execution_count": 4,
   "id": "decd185d-5caa-4094-81f7-9e03d79c8e99",
   "metadata": {},
   "outputs": [
    {
     "data": {
      "text/plain": [
       "array(['EGly', 'PEG1000', 'PEG12000', 'PEG1500', 'PEG20000', 'PEG200',\n",
       "       'PEG3000', 'PEG35000', 'PEG400', 'PEG6000', 'PEG600'], dtype=object)"
      ]
     },
     "execution_count": 4,
     "metadata": {},
     "output_type": "execute_result"
    }
   ],
   "source": [
    "crowder = experimental_data['crowder'].unique()\n",
    "crowder"
   ]
  },
  {
   "cell_type": "code",
   "execution_count": 5,
   "id": "4fb0ecf4-1ea7-4f10-82fc-1993ca49b4f0",
   "metadata": {},
   "outputs": [
    {
     "data": {
      "text/plain": [
       "Index(['name', 'crowder', 'wt_%', 'K', 'D', 'MW_[g/mol]', 'No_mono', 'd_coef',\n",
       "       'Rg_[nm]', 'Rg_err_[nm]', 'Rh_[nm]', 'Rh_err_[nm]', 'V_Rg_[nm3]',\n",
       "       'V_Rg_err_[nm3]', 'c*_[g/cm3]', 'density', 'concentration [M]'],\n",
       "      dtype='object')"
      ]
     },
     "execution_count": 5,
     "metadata": {},
     "output_type": "execute_result"
    }
   ],
   "source": [
    "experimental_data.columns"
   ]
  },
  {
   "cell_type": "code",
   "execution_count": 9,
   "id": "41195b99-1ee7-49df-b55f-7bce7268deda",
   "metadata": {},
   "outputs": [],
   "source": [
    "def normalize_with_uncertainty_full(y):\n",
    "    y = np.array(y)\n",
    "\n",
    "    # Compute ymin and ymax considering full uncertainty (not just nominal values)\n",
    "    ymin = y[np.argmin(unp.nominal_values(y))]\n",
    "    ymax = y[np.argmax(unp.nominal_values(y))]\n",
    "\n",
    "    # Apply normalization formula to each point with full error propagation\n",
    "    return np.array([2 * (val - ymin) / (ymax - ymin) - 1 for val in y])"
   ]
  },
  {
   "cell_type": "code",
   "execution_count": 62,
   "id": "d6eefefd-3f4a-44f3-8113-9e66f2af8814",
   "metadata": {},
   "outputs": [
    {
     "name": "stderr",
     "output_type": "stream",
     "text": [
      "C:\\Users\\Antoni Lis\\AppData\\Local\\Temp\\ipykernel_13008\\1809251251.py:37: UserWarning: FixedFormatter should only be used together with FixedLocator\n",
      "  axs[1].set_xticklabels(fitted_parameters['crowder'], rotation=45, ha='right')\n"
     ]
    },
    {
     "data": {
      "image/png": "[encoded data removed]",
      "text/plain": [
       "<Figure size 1000x350 with 3 Axes>"
      ]
     },
     "metadata": {},
     "output_type": "display_data"
    }
   ],
   "source": [
    "chosen_pegs = ['EGly', 'PEG1000', 'PEG3000', 'PEG12000', 'PEG20000', 'PEG35000']\n",
    "\n",
    "with plt.style.context(['science']):\n",
    "    fig, axs = plt.subplots(1, 3, figsize=(10, 3.5))\n",
    "\n",
    "    \n",
    "    for peg in chosen_pegs:\n",
    "        df = experimental_data[experimental_data['crowder'] == peg]\n",
    "\n",
    "        fit_df = fitted_parameters[fitted_parameters['crowder'] == peg]\n",
    "    \n",
    "        x = df['wt_%']\n",
    "        x_fit = df['concentration [M]']\n",
    "        y, y_err = uts.get_float_uncertainty(df['K'])\n",
    "\n",
    "        \n",
    "        a0, a0_err = uts.get_float_uncertainty(fit_df['a0'])\n",
    "        a1, a1_err = uts.get_float_uncertainty(fit_df['a1'])\n",
    "        a2, a2_err = uts.get_float_uncertainty(fit_df['a2'])\n",
    "    \n",
    "        points = axs[0].plot(x, y, '.', label=f'{peg}')\n",
    "        color = points[0].get_color()\n",
    "        axs[0].plot(x, np.exp(a0 + a1 * x_fit + a2 * x_fit**2), color=color, linestyle='-')\n",
    "        \n",
    "    axs[0].set_title(r'$K$ with fit')\n",
    "    axs[0].set_yscale('log')\n",
    "    axs[0].legend()\n",
    "    axs[0].set_xlabel('crowder wt\\%')\n",
    "    axs[0].set_ylabel(r'$K$ [M$^-1$]')\n",
    "    \n",
    "        \n",
    "    x = fitted_parameters['No_mono']\n",
    "    a0, a0_err = uts.get_float_uncertainty(fitted_parameters['a0']) \n",
    "\n",
    "\n",
    "    axs[1].bar(fitted_parameters['crowder'], a0)\n",
    "    axs[1].set_xticklabels(fitted_parameters['crowder'], rotation=45, ha='right')\n",
    "    axs[1].set_title(r'$a_0$ results')\n",
    "\n",
    "    \n",
    "    a1, a1_err = uts.get_float_uncertainty(normalize_with_uncertainty_full(fitted_parameters['a1']))\n",
    "    a2, a2_err = uts.get_float_uncertainty(normalize_with_uncertainty_full(fitted_parameters['a2']))\n",
    "    \n",
    "    axs[2].plot(x, a1, 'x',  label=r'$a_1$ normalized')\n",
    "    axs[2].plot(x, a2, 'v',  label=r'$a_2$ normalized')\n",
    "    axs[2].set_xscale('log')\n",
    "    axs[2].set_title(r'$a_1, a_2$ dependency')\n",
    "    axs[2].set_xlabel(r'monomer number $m$')\n",
    "    axs[2].legend()\n",
    "\n",
    "fig.text(0.03, 0.95, 'a)', fontsize=12, fontweight='bold', ha='center', va='center')\n",
    "fig.text(0.36, 0.95, 'b)', fontsize=12, fontweight='bold', ha='center', va='center')\n",
    "fig.text(0.66, 0.95, 'c)', fontsize=12, fontweight='bold', ha='center', va='center')\n",
    "plt.tight_layout()\n",
    "plt.savefig('quadratic_fit.pdf', dpi=600)"
   ]
  },
  {
   "cell_type": "markdown",
   "id": "7e6e189c-b2ed-48f2-802e-26e55f431d84",
   "metadata": {},
   "source": [
    "# Comparison of ssDNA hybridization K from experiments, PNAS and from the model"
   ]
  },
  {
   "cell_type": "code",
   "execution_count": null,
   "id": "b1574e2f-c077-43aa-8856-067ff928f4e5",
   "metadata": {},
   "outputs": [],
   "source": [
    "pnas = PNAS_data.PNAS_data().data\n",
    "pnas"
   ]
  },
  {
   "cell_type": "code",
   "execution_count": 16,
   "id": "3d43cabe-0fe3-426a-9de9-a6796607aafc",
   "metadata": {},
   "outputs": [],
   "source": [
    "peg_beta_complex = final_values.loc[final_values['Crowder'] == 'PEG', 'Beta Complex'].iloc[0]\n",
    "\n",
    "theory_data = K_dependency.calculate_a1mon_a2mon_theoretical_values(Beta_m=peg_beta_complex)"
   ]
  },
  {
   "cell_type": "code",
   "execution_count": 17,
   "id": "a1b1d5b3-cdfc-4223-a9e8-3f56a3e5a11d",
   "metadata": {},
   "outputs": [
    {
     "data": {
      "text/html": [
       "<div>\n",
       "<style scoped>\n",
       "    .dataframe tbody tr th:only-of-type {\n",
       "        vertical-align: middle;\n",
       "    }\n",
       "\n",
       "    .dataframe tbody tr th {\n",
       "        vertical-align: top;\n",
       "    }\n",
       "\n",
       "    .dataframe thead th {\n",
       "        text-align: right;\n",
       "    }\n",
       "</style>\n",
       "<table border=\"1\" class=\"dataframe\">\n",
       "  <thead>\n",
       "    <tr style=\"text-align: right;\">\n",
       "      <th></th>\n",
       "      <th>theory a1 monomer</th>\n",
       "      <th>theory a1 Rg</th>\n",
       "      <th>theory a2m</th>\n",
       "    </tr>\n",
       "  </thead>\n",
       "  <tbody>\n",
       "    <tr>\n",
       "      <th>0</th>\n",
       "      <td>0.677+/-0.034</td>\n",
       "      <td>1.278932e+25</td>\n",
       "      <td>-0.042+/-0.004</td>\n",
       "    </tr>\n",
       "  </tbody>\n",
       "</table>\n",
       "</div>"
      ],
      "text/plain": [
       "  theory a1 monomer  theory a1 Rg      theory a2m\n",
       "0     0.677+/-0.034  1.278932e+25  -0.042+/-0.004"
      ]
     },
     "execution_count": 17,
     "metadata": {},
     "output_type": "execute_result"
    }
   ],
   "source": [
    "theory_data"
   ]
  },
  {
   "cell_type": "code",
   "execution_count": 4,
   "id": "997d88b9-31aa-4284-84ff-af794df5efaa",
   "metadata": {},
   "outputs": [
    {
     "data": {
      "image/png": "[encoded data removed]",
      "text/plain": [
       "<Figure size 750x350 with 2 Axes>"
      ]
     },
     "metadata": {},
     "output_type": "display_data"
    }
   ],
   "source": [
    "with plt.style.context(['science']):\n",
    "    fig, axs = plt.subplots(1, 2, figsize=(7.5, 3.5))\n",
    "\n",
    "    a2, a2_error = uts.get_float_uncertainty(experimental_data['a2'])\n",
    "    a2 *= -1\n",
    "    a2_x = -1 * theory_data['theory a2m'][0] * experimental_data['No_mono']**2\n",
    "    a2_x_value, _ = uts.get_float_uncertainty(a2_x)\n",
    "    \n",
    "    axs[0].errorbar(a2_x_value, a2, yerr=a2_error, fmt='o')\n",
    "    axs[0].plot(np.arange(a2_x_value[-1]), np.arange(a2_x_value[-1]))\n",
    "    axs[0].set_yscale('log')\n",
    "    axs[0].set_xscale('log')\n",
    "    axs[0].set_ylabel(r'$-a_2$ experimental')\n",
    "    axs[0].set_xlabel(r'$(4a + 2) \\frac{\\lambda}{RT} (\\beta m)^2$')\n",
    "    axs[0].set_title(r'$a_2$ dependency')\n",
    "\n",
    "    \n",
    "    a1, a1_error = uts.get_float_uncertainty(experimental_data['a1'])\n",
    "    a1_x = theory_data['theory a1 monomer'][0] * experimental_data['No_mono'] + theory_data['theory a1 Rg'][0] * experimental_data['Rg_[nm]'] * 10**(-24)\n",
    "    a1_x_value, _ = uts.get_float_uncertainty(a1_x)\n",
    "    \n",
    "    axs[1].errorbar(a1_x_value, a1, yerr=a1_error, fmt='o')\n",
    "    axs[1].plot(np.arange(a1_x_value[-1]), np.arange(a1_x_value[-1]))\n",
    "    axs[1].plot()\n",
    "    axs[1].set_yscale('log')\n",
    "    axs[1].set_xscale('log')\n",
    "    axs[1].set_ylabel(r'$a_1$ experimental')\n",
    "    axs[1].set_xlabel(r'$2(5a + 3) \\frac{\\lambda}{RT} \\beta m + 4 \\pi l^2 N_A R_g$')\n",
    "    axs[1].set_title(r'$a_1$ dependency')\n",
    "    \n",
    "    plt.savefig('a1_a2_dependency.pdf', format='pdf', bbox_inches='tight')"
   ]
  },
  {
   "cell_type": "markdown",
   "id": "5df5e382-2c98-44fe-b7cc-09792c16cac3",
   "metadata": {},
   "source": [
    "# Comparison with the PNAS results"
   ]
  },
  {
   "cell_type": "code",
   "execution_count": 19,
   "id": "94b8aae9-32d3-4ed0-a026-4acf0bdcf404",
   "metadata": {},
   "outputs": [
    {
     "data": {
      "text/html": [
       "<div>\n",
       "<style scoped>\n",
       "    .dataframe tbody tr th:only-of-type {\n",
       "        vertical-align: middle;\n",
       "    }\n",
       "\n",
       "    .dataframe tbody tr th {\n",
       "        vertical-align: top;\n",
       "    }\n",
       "\n",
       "    .dataframe thead th {\n",
       "        text-align: right;\n",
       "    }\n",
       "</style>\n",
       "<table border=\"1\" class=\"dataframe\">\n",
       "  <thead>\n",
       "    <tr style=\"text-align: right;\">\n",
       "      <th>1</th>\n",
       "      <th>C (g/ml)</th>\n",
       "      <th>total time (s)</th>\n",
       "      <th>cNCBD (nM)</th>\n",
       "      <th>η/η0</th>\n",
       "      <th>frac. bound (histo)</th>\n",
       "      <th>frac. bound (rates)</th>\n",
       "      <th>kon (s-1)</th>\n",
       "      <th>koff (s-1)</th>\n",
       "      <th>KD (nM)</th>\n",
       "      <th>kon,1 (s-1)</th>\n",
       "      <th>kon,2 (s-1)</th>\n",
       "      <th>koff,1 (s-1)</th>\n",
       "      <th>koff,2 (s-1)</th>\n",
       "      <th>KD,1 (nM)</th>\n",
       "      <th>KD,2 (nM)</th>\n",
       "      <th>probe</th>\n",
       "      <th>K [M]</th>\n",
       "      <th>molar mass</th>\n",
       "      <th>c [M]</th>\n",
       "      <th>monomers number</th>\n",
       "    </tr>\n",
       "  </thead>\n",
       "  <tbody>\n",
       "    <tr>\n",
       "      <th>0</th>\n",
       "      <td>0.050</td>\n",
       "      <td>2356.0</td>\n",
       "      <td>17.40+/-0.10</td>\n",
       "      <td>1.05+/-0</td>\n",
       "      <td>0.42</td>\n",
       "      <td>0.420+/-0.020</td>\n",
       "      <td>4.80+/-0.20</td>\n",
       "      <td>6.50+/-0.20</td>\n",
       "      <td>23.7+/-1.3</td>\n",
       "      <td>3.20+/-0.20</td>\n",
       "      <td>1.40+/-0.10</td>\n",
       "      <td>5.30+/-0.20</td>\n",
       "      <td>22.2+/-1.6</td>\n",
       "      <td>18.5+/-0.7</td>\n",
       "      <td>101+/-10</td>\n",
       "      <td>Ethylene glycol</td>\n",
       "      <td>(4.22+/-0.23)e+07</td>\n",
       "      <td>62.07</td>\n",
       "      <td>0.805542</td>\n",
       "      <td>1.000000</td>\n",
       "    </tr>\n",
       "    <tr>\n",
       "      <th>1</th>\n",
       "      <td>0.100</td>\n",
       "      <td>2563.0</td>\n",
       "      <td>16.40+/-0.20</td>\n",
       "      <td>1.200+/-0.030</td>\n",
       "      <td>0.49</td>\n",
       "      <td>0.490+/-0.020</td>\n",
       "      <td>5.30+/-0.20</td>\n",
       "      <td>5.50+/-0.10</td>\n",
       "      <td>17.0+/-0.7</td>\n",
       "      <td>3.40+/-0.10</td>\n",
       "      <td>1.30+/-0.10</td>\n",
       "      <td>4.40+/-0.10</td>\n",
       "      <td>18.1+/-1.2</td>\n",
       "      <td>13.5+/-0.4</td>\n",
       "      <td>83+/-8</td>\n",
       "      <td>Ethylene glycol</td>\n",
       "      <td>(5.88+/-0.24)e+07</td>\n",
       "      <td>62.07</td>\n",
       "      <td>1.611084</td>\n",
       "      <td>1.000000</td>\n",
       "    </tr>\n",
       "    <tr>\n",
       "      <th>2</th>\n",
       "      <td>0.151</td>\n",
       "      <td>2467.0</td>\n",
       "      <td>16.20+/-0.20</td>\n",
       "      <td>1.30+/-0.04</td>\n",
       "      <td>0.50</td>\n",
       "      <td>0.500+/-0.020</td>\n",
       "      <td>5.10+/-0.20</td>\n",
       "      <td>5.10+/-0.10</td>\n",
       "      <td>16.2+/-0.6</td>\n",
       "      <td>3.40+/-0.30</td>\n",
       "      <td>1.20+/-0.10</td>\n",
       "      <td>4.20+/-0.10</td>\n",
       "      <td>16.6+/-1.4</td>\n",
       "      <td>13.0+/-0.6</td>\n",
       "      <td>82+/-5</td>\n",
       "      <td>Ethylene glycol</td>\n",
       "      <td>(6.17+/-0.23)e+07</td>\n",
       "      <td>62.07</td>\n",
       "      <td>2.432737</td>\n",
       "      <td>1.000000</td>\n",
       "    </tr>\n",
       "    <tr>\n",
       "      <th>3</th>\n",
       "      <td>0.201</td>\n",
       "      <td>3245.0</td>\n",
       "      <td>16.20+/-0.10</td>\n",
       "      <td>1.440+/-0.030</td>\n",
       "      <td>0.55</td>\n",
       "      <td>0.550+/-0.030</td>\n",
       "      <td>5.30+/-0.20</td>\n",
       "      <td>4.30+/-0.20</td>\n",
       "      <td>13.0+/-0.8</td>\n",
       "      <td>3.40+/-0.10</td>\n",
       "      <td>1.30+/-0.10</td>\n",
       "      <td>3.40+/-0.10</td>\n",
       "      <td>15.8+/-1.0</td>\n",
       "      <td>10.3+/-0.4</td>\n",
       "      <td>69+/-8</td>\n",
       "      <td>Ethylene glycol</td>\n",
       "      <td>(7.7+/-0.5)e+07</td>\n",
       "      <td>62.07</td>\n",
       "      <td>3.238279</td>\n",
       "      <td>1.000000</td>\n",
       "    </tr>\n",
       "    <tr>\n",
       "      <th>4</th>\n",
       "      <td>0.251</td>\n",
       "      <td>2530.0</td>\n",
       "      <td>14.50+/-0.30</td>\n",
       "      <td>1.640+/-0.010</td>\n",
       "      <td>0.53</td>\n",
       "      <td>0.530+/-0.020</td>\n",
       "      <td>4.00+/-0.10</td>\n",
       "      <td>3.60+/-0.20</td>\n",
       "      <td>13.1+/-0.6</td>\n",
       "      <td>2.60+/-0.10</td>\n",
       "      <td>0.90+/-0.10</td>\n",
       "      <td>2.90+/-0.10</td>\n",
       "      <td>12.8+/-1.5</td>\n",
       "      <td>10.5+/-0.5</td>\n",
       "      <td>71+/-6</td>\n",
       "      <td>Ethylene glycol</td>\n",
       "      <td>(7.63+/-0.35)e+07</td>\n",
       "      <td>62.07</td>\n",
       "      <td>4.043821</td>\n",
       "      <td>1.000000</td>\n",
       "    </tr>\n",
       "    <tr>\n",
       "      <th>...</th>\n",
       "      <td>...</td>\n",
       "      <td>...</td>\n",
       "      <td>...</td>\n",
       "      <td>...</td>\n",
       "      <td>...</td>\n",
       "      <td>...</td>\n",
       "      <td>...</td>\n",
       "      <td>...</td>\n",
       "      <td>...</td>\n",
       "      <td>...</td>\n",
       "      <td>...</td>\n",
       "      <td>...</td>\n",
       "      <td>...</td>\n",
       "      <td>...</td>\n",
       "      <td>...</td>\n",
       "      <td>...</td>\n",
       "      <td>...</td>\n",
       "      <td>...</td>\n",
       "      <td>...</td>\n",
       "      <td>...</td>\n",
       "    </tr>\n",
       "    <tr>\n",
       "      <th>65</th>\n",
       "      <td>0.041</td>\n",
       "      <td>4633.0</td>\n",
       "      <td>16.9+/-0.7</td>\n",
       "      <td>1.93+/-0.11</td>\n",
       "      <td>0.50</td>\n",
       "      <td>0.51+/-0.04</td>\n",
       "      <td>6.6+/-0.4</td>\n",
       "      <td>6.40+/-0.30</td>\n",
       "      <td>16.3+/-1.3</td>\n",
       "      <td>4.4+/-0.4</td>\n",
       "      <td>2.40+/-0.20</td>\n",
       "      <td>5.00+/-0.20</td>\n",
       "      <td>25.1+/-1.3</td>\n",
       "      <td>12.4+/-1.0</td>\n",
       "      <td>65+/-10</td>\n",
       "      <td>PEG 35000</td>\n",
       "      <td>(6.1+/-0.5)e+07</td>\n",
       "      <td>35000.00</td>\n",
       "      <td>0.001171</td>\n",
       "      <td>794.142565</td>\n",
       "    </tr>\n",
       "    <tr>\n",
       "      <th>66</th>\n",
       "      <td>0.062</td>\n",
       "      <td>2818.0</td>\n",
       "      <td>14.6+/-0</td>\n",
       "      <td>2.46+/-0.08</td>\n",
       "      <td>0.51</td>\n",
       "      <td>0.52+/-0.04</td>\n",
       "      <td>6.00+/-0.30</td>\n",
       "      <td>5.60+/-0.30</td>\n",
       "      <td>13.5+/-1.0</td>\n",
       "      <td>4.00+/-0.20</td>\n",
       "      <td>2.10+/-0.10</td>\n",
       "      <td>4.40+/-0.20</td>\n",
       "      <td>22.8+/-1.2</td>\n",
       "      <td>10.3+/-0.4</td>\n",
       "      <td>56+/-4</td>\n",
       "      <td>PEG 35000</td>\n",
       "      <td>(7.4+/-0.5)e+07</td>\n",
       "      <td>35000.00</td>\n",
       "      <td>0.001771</td>\n",
       "      <td>794.142565</td>\n",
       "    </tr>\n",
       "    <tr>\n",
       "      <th>67</th>\n",
       "      <td>0.082</td>\n",
       "      <td>4258.0</td>\n",
       "      <td>14.8+/-0.5</td>\n",
       "      <td>3.27+/-0.07</td>\n",
       "      <td>0.57</td>\n",
       "      <td>0.58+/-0.05</td>\n",
       "      <td>6.2+/-0.4</td>\n",
       "      <td>4.6+/-0.4</td>\n",
       "      <td>10.9+/-1.2</td>\n",
       "      <td>4.1+/-0.4</td>\n",
       "      <td>2.20+/-0.10</td>\n",
       "      <td>3.60+/-0.10</td>\n",
       "      <td>18.7+/-0.5</td>\n",
       "      <td>8.3+/-0.7</td>\n",
       "      <td>46.0+/-3.0</td>\n",
       "      <td>PEG 35000</td>\n",
       "      <td>(9.2+/-1.0)e+07</td>\n",
       "      <td>35000.00</td>\n",
       "      <td>0.002343</td>\n",
       "      <td>794.142565</td>\n",
       "    </tr>\n",
       "    <tr>\n",
       "      <th>68</th>\n",
       "      <td>0.102</td>\n",
       "      <td>3084.0</td>\n",
       "      <td>13.2+/-0.8</td>\n",
       "      <td>3.97+/-0.17</td>\n",
       "      <td>0.56</td>\n",
       "      <td>0.560+/-0.010</td>\n",
       "      <td>5.40+/-0.10</td>\n",
       "      <td>4.20+/-0.20</td>\n",
       "      <td>10.3+/-0.4</td>\n",
       "      <td>3.50+/-0.10</td>\n",
       "      <td>1.90+/-0.10</td>\n",
       "      <td>3.20+/-0.10</td>\n",
       "      <td>18.4+/-1.8</td>\n",
       "      <td>7.80+/-0.30</td>\n",
       "      <td>46+/-6</td>\n",
       "      <td>PEG 35000</td>\n",
       "      <td>(9.7+/-0.4)e+07</td>\n",
       "      <td>35000.00</td>\n",
       "      <td>0.002914</td>\n",
       "      <td>794.142565</td>\n",
       "    </tr>\n",
       "    <tr>\n",
       "      <th>69</th>\n",
       "      <td>0.123</td>\n",
       "      <td>3006.0</td>\n",
       "      <td>10.30+/-0.20</td>\n",
       "      <td>5.02+/-0.32</td>\n",
       "      <td>0.62</td>\n",
       "      <td>0.650+/-0.020</td>\n",
       "      <td>6.40+/-0.10</td>\n",
       "      <td>3.40+/-0.10</td>\n",
       "      <td>5.50+/-0.20</td>\n",
       "      <td>4.10+/-0.10</td>\n",
       "      <td>2.30+/-0.10</td>\n",
       "      <td>2.6+/-0</td>\n",
       "      <td>15.5+/-1.5</td>\n",
       "      <td>4.20+/-0.10</td>\n",
       "      <td>25.0+/-1.0</td>\n",
       "      <td>PEG 35000</td>\n",
       "      <td>(1.82+/-0.07)e+08</td>\n",
       "      <td>35000.00</td>\n",
       "      <td>0.003514</td>\n",
       "      <td>794.142565</td>\n",
       "    </tr>\n",
       "  </tbody>\n",
       "</table>\n",
       "<p>70 rows × 20 columns</p>\n",
       "</div>"
      ],
      "text/plain": [
       "1   C (g/ml)  total time (s)    cNCBD (nM)           η/η0  \\\n",
       "0      0.050          2356.0  17.40+/-0.10       1.05+/-0   \n",
       "1      0.100          2563.0  16.40+/-0.20  1.200+/-0.030   \n",
       "2      0.151          2467.0  16.20+/-0.20    1.30+/-0.04   \n",
       "3      0.201          3245.0  16.20+/-0.10  1.440+/-0.030   \n",
       "4      0.251          2530.0  14.50+/-0.30  1.640+/-0.010   \n",
       "..       ...             ...           ...            ...   \n",
       "65     0.041          4633.0    16.9+/-0.7    1.93+/-0.11   \n",
       "66     0.062          2818.0      14.6+/-0    2.46+/-0.08   \n",
       "67     0.082          4258.0    14.8+/-0.5    3.27+/-0.07   \n",
       "68     0.102          3084.0    13.2+/-0.8    3.97+/-0.17   \n",
       "69     0.123          3006.0  10.30+/-0.20    5.02+/-0.32   \n",
       "\n",
       "1   frac. bound (histo) frac. bound (rates)    kon (s-1)   koff (s-1)  \\\n",
       "0                  0.42       0.420+/-0.020  4.80+/-0.20  6.50+/-0.20   \n",
       "1                  0.49       0.490+/-0.020  5.30+/-0.20  5.50+/-0.10   \n",
       "2                  0.50       0.500+/-0.020  5.10+/-0.20  5.10+/-0.10   \n",
       "3                  0.55       0.550+/-0.030  5.30+/-0.20  4.30+/-0.20   \n",
       "4                  0.53       0.530+/-0.020  4.00+/-0.10  3.60+/-0.20   \n",
       "..                  ...                 ...          ...          ...   \n",
       "65                 0.50         0.51+/-0.04    6.6+/-0.4  6.40+/-0.30   \n",
       "66                 0.51         0.52+/-0.04  6.00+/-0.30  5.60+/-0.30   \n",
       "67                 0.57         0.58+/-0.05    6.2+/-0.4    4.6+/-0.4   \n",
       "68                 0.56       0.560+/-0.010  5.40+/-0.10  4.20+/-0.20   \n",
       "69                 0.62       0.650+/-0.020  6.40+/-0.10  3.40+/-0.10   \n",
       "\n",
       "1       KD (nM)  kon,1 (s-1)  kon,2 (s-1) koff,1 (s-1) koff,2 (s-1)  \\\n",
       "0    23.7+/-1.3  3.20+/-0.20  1.40+/-0.10  5.30+/-0.20   22.2+/-1.6   \n",
       "1    17.0+/-0.7  3.40+/-0.10  1.30+/-0.10  4.40+/-0.10   18.1+/-1.2   \n",
       "2    16.2+/-0.6  3.40+/-0.30  1.20+/-0.10  4.20+/-0.10   16.6+/-1.4   \n",
       "3    13.0+/-0.8  3.40+/-0.10  1.30+/-0.10  3.40+/-0.10   15.8+/-1.0   \n",
       "4    13.1+/-0.6  2.60+/-0.10  0.90+/-0.10  2.90+/-0.10   12.8+/-1.5   \n",
       "..          ...          ...          ...          ...          ...   \n",
       "65   16.3+/-1.3    4.4+/-0.4  2.40+/-0.20  5.00+/-0.20   25.1+/-1.3   \n",
       "66   13.5+/-1.0  4.00+/-0.20  2.10+/-0.10  4.40+/-0.20   22.8+/-1.2   \n",
       "67   10.9+/-1.2    4.1+/-0.4  2.20+/-0.10  3.60+/-0.10   18.7+/-0.5   \n",
       "68   10.3+/-0.4  3.50+/-0.10  1.90+/-0.10  3.20+/-0.10   18.4+/-1.8   \n",
       "69  5.50+/-0.20  4.10+/-0.10  2.30+/-0.10      2.6+/-0   15.5+/-1.5   \n",
       "\n",
       "1     KD,1 (nM)   KD,2 (nM)            probe              K [M]  molar mass  \\\n",
       "0    18.5+/-0.7    101+/-10  Ethylene glycol  (4.22+/-0.23)e+07       62.07   \n",
       "1    13.5+/-0.4      83+/-8  Ethylene glycol  (5.88+/-0.24)e+07       62.07   \n",
       "2    13.0+/-0.6      82+/-5  Ethylene glycol  (6.17+/-0.23)e+07       62.07   \n",
       "3    10.3+/-0.4      69+/-8  Ethylene glycol    (7.7+/-0.5)e+07       62.07   \n",
       "4    10.5+/-0.5      71+/-6  Ethylene glycol  (7.63+/-0.35)e+07       62.07   \n",
       "..          ...         ...              ...                ...         ...   \n",
       "65   12.4+/-1.0     65+/-10        PEG 35000    (6.1+/-0.5)e+07    35000.00   \n",
       "66   10.3+/-0.4      56+/-4        PEG 35000    (7.4+/-0.5)e+07    35000.00   \n",
       "67    8.3+/-0.7  46.0+/-3.0        PEG 35000    (9.2+/-1.0)e+07    35000.00   \n",
       "68  7.80+/-0.30      46+/-6        PEG 35000    (9.7+/-0.4)e+07    35000.00   \n",
       "69  4.20+/-0.10  25.0+/-1.0        PEG 35000  (1.82+/-0.07)e+08    35000.00   \n",
       "\n",
       "1      c [M]  monomers number  \n",
       "0   0.805542         1.000000  \n",
       "1   1.611084         1.000000  \n",
       "2   2.432737         1.000000  \n",
       "3   3.238279         1.000000  \n",
       "4   4.043821         1.000000  \n",
       "..       ...              ...  \n",
       "65  0.001171       794.142565  \n",
       "66  0.001771       794.142565  \n",
       "67  0.002343       794.142565  \n",
       "68  0.002914       794.142565  \n",
       "69  0.003514       794.142565  \n",
       "\n",
       "[70 rows x 20 columns]"
      ]
     },
     "execution_count": 19,
     "metadata": {},
     "output_type": "execute_result"
    }
   ],
   "source": []
  },
  {
   "cell_type": "markdown",
   "id": "c7b6cd12-2ef3-4b72-a70e-d0a6289fd4f6",
   "metadata": {},
   "source": [
    "# Taylor Series expansion of the theoretical model"
   ]
  },
  {
   "cell_type": "code",
   "execution_count": 8,
   "id": "fc2b3ed2-5b26-4156-ae7a-e1b37a5d1ad6",
   "metadata": {},
   "outputs": [
    {
     "data": {
      "image/png": "[encoded data removed]",
      "text/plain": [
       "<Figure size 450x400 with 2 Axes>"
      ]
     },
     "metadata": {},
     "output_type": "display_data"
    }
   ],
   "source": [
    "# Define the range for x\n",
    "x = np.linspace(0, 0.01, 500)  # Ensure the domain of the function is valid\n",
    "\n",
    "a = 0.0754 / 0.1754 * 4 + 0.0246 / 0.1754 \n",
    "\n",
    "# Define the functions\n",
    "y1 = np.sqrt(1 /(x + 1) + a)\n",
    "# Taylor expansion around x = 1/2\n",
    "sqrt_term = np.sqrt(2 / 3)\n",
    "y2 =(4 * a + 2) / (3 * np.sqrt(3) * (3 * a + 2)**(3/2)) * x**2 - (2 * (5 * a + 3)) / (3 * np.sqrt(3) * (3 * a + 2)**(3/2)) * x + (54 * a**2 + 80 * a + 29) / (6 * np.sqrt(3) * (3 * a + 2)**(3/2))\n",
    "difference = y2 - y1\n",
    "\n",
    "\n",
    "# Taylor expansion around x = 0\n",
    "y3 = np.sqrt(1 + a) - (1 / 2) * (1 + a)**(-1/2) * x + (3 / 8) * (1 + a)**(-3/2) * x**2\n",
    "\n",
    "# Differences\n",
    "difference1 = y2 - y1  # Difference for Taylor around 1/2\n",
    "difference2 = y3 - y1  # Difference for Taylor around 0\n",
    "\n",
    "# Plotting\n",
    "with plt.style.context(['science']):\n",
    "    fig, ax = plt.subplots(figsize=(4.5, 4))\n",
    "    \n",
    "    ax.plot(x, y1, label=r'$f(x)$')\n",
    "    ax.plot(x, y2, label='Taylor expansion around 1/2')\n",
    "    ax.plot(x, y3, label='Taylor expansion around 0')\n",
    "    \n",
    "    ax.legend(loc='lower left')\n",
    "    ax.set_xlabel(r'$x$')\n",
    "    ax.set_ylabel(r'$y$')\n",
    "    ax.set_title('Comparison of Function and Taylor Expansions')\n",
    "\n",
    "    # Create inset manually\n",
    "    inset_ax = plt.axes([0.6, 0.6, 0.25, 0.25])  # [left, bottom, width, height]\n",
    "    inset_ax.plot(x, difference1, label='Diff (around 1/2)')\n",
    "    inset_ax.plot(x, difference2, label='Diff (around 0)')\n",
    "    inset_ax.set_xlabel('x')\n",
    "    inset_ax.set_ylabel('Difference')\n",
    "    inset_ax.legend()\n",
    "\n",
    "    plt.savefig('function_taylor.pdf', format='pdf', dpi=600)"
   ]
  },
  {
   "cell_type": "code",
   "execution_count": 26,
   "id": "3b986886-ce6a-4d12-a5c9-a7f84e53d4bd",
   "metadata": {},
   "outputs": [
    {
     "ename": "NameError",
     "evalue": "name 'coeff' is not defined",
     "output_type": "error",
     "traceback": [
      "\u001b[1;31m---------------------------------------------------------------------------\u001b[0m",
      "\u001b[1;31mNameError\u001b[0m                                 Traceback (most recent call last)",
      "Cell \u001b[1;32mIn[26], line 4\u001b[0m\n\u001b[0;32m      1\u001b[0m \u001b[38;5;28;01mwith\u001b[39;00m plt\u001b[38;5;241m.\u001b[39mstyle\u001b[38;5;241m.\u001b[39mcontext([\u001b[38;5;124m'\u001b[39m\u001b[38;5;124mscience\u001b[39m\u001b[38;5;124m'\u001b[39m]):\n\u001b[0;32m      2\u001b[0m     fig, axs \u001b[38;5;241m=\u001b[39m plt\u001b[38;5;241m.\u001b[39msubplots(\u001b[38;5;241m1\u001b[39m, \u001b[38;5;241m3\u001b[39m, figsize\u001b[38;5;241m=\u001b[39m(\u001b[38;5;241m10\u001b[39m, \u001b[38;5;241m3.5\u001b[39m))\n\u001b[1;32m----> 4\u001b[0m     axs[\u001b[38;5;241m0\u001b[39m]\u001b[38;5;241m.\u001b[39mplot(\u001b[43mcoeff\u001b[49m[\u001b[38;5;124m'\u001b[39m\u001b[38;5;124mmonomers number\u001b[39m\u001b[38;5;124m'\u001b[39m], coeff[\u001b[38;5;124m'\u001b[39m\u001b[38;5;124ma2\u001b[39m\u001b[38;5;124m'\u001b[39m], \u001b[38;5;124m'\u001b[39m\u001b[38;5;124mv\u001b[39m\u001b[38;5;124m'\u001b[39m)\n\u001b[0;32m      5\u001b[0m     axs[\u001b[38;5;241m0\u001b[39m]\u001b[38;5;241m.\u001b[39mset_xlabel(\u001b[38;5;124m'\u001b[39m\u001b[38;5;124mmonomers number\u001b[39m\u001b[38;5;124m'\u001b[39m)\n\u001b[0;32m      6\u001b[0m     axs[\u001b[38;5;241m0\u001b[39m]\u001b[38;5;241m.\u001b[39mset_ylabel(\u001b[38;5;124mr\u001b[39m\u001b[38;5;124m'\u001b[39m\u001b[38;5;124m$a_2$\u001b[39m\u001b[38;5;124m'\u001b[39m)\n",
      "\u001b[1;31mNameError\u001b[0m: name 'coeff' is not defined"
     ]
    },
    {
     "data": {
      "image/png": "[encoded data removed]",
      "text/plain": [
       "<Figure size 1000x350 with 3 Axes>"
      ]
     },
     "metadata": {},
     "output_type": "display_data"
    }
   ],
   "source": [
    "with plt.style.context(['science']):\n",
    "    fig, axs = plt.subplots(1, 3, figsize=(10, 3.5))\n",
    "    \n",
    "    axs[0].plot(coeff['monomers number'], coeff['a2'], 'v')\n",
    "    axs[0].set_xlabel('monomers number')\n",
    "    axs[0].set_ylabel(r'$a_2$')\n",
    "    axs[0].set_title(r'parameter $a_2$')\n",
    "    axs[0].set_xscale('log')\n",
    "\n",
    "\n",
    "    axs[1].plot(coeff['monomers number'], coeff['a1'], 'v')\n",
    "    axs[1].set_xlabel('monomers number')\n",
    "    axs[1].set_ylabel(r'$a_1$')\n",
    "    axs[1].set_title(r'parameter $a_1$')\n",
    "    axs[1].set_xscale('log')\n",
    "\n",
    "    axs[2].plot(coeff['monomers number'], coeff['a0'], 'v')\n",
    "    axs[2].set_xlabel('monomers number')\n",
    "    axs[2].set_ylabel(r'$a_0$')\n",
    "    axs[2].set_ylim(20,25)\n",
    "    axs[2].set_title(r'parameter $a_0$')\n",
    "    axs[2].set_xscale('log')\n",
    "\n",
    "\n",
    "    fig.text(0.05, 0.95, 'a)', fontsize=12, fontweight='bold', ha='center', va='center')\n",
    "    fig.text(0.36, 0.95, 'b)', fontsize=12, fontweight='bold', ha='center', va='center')\n",
    "    fig.text(0.68, 0.95, 'c)', fontsize=12, fontweight='bold', ha='center', va='center')\n",
    "    \n",
    "    plt.tight_layout()\n",
    "\n",
    "    plt.savefig('a1_a2_a0_dependency.pdf', format='pdf', bbox_inches='tight')"
   ]
  },
  {
   "cell_type": "markdown",
   "id": "02146c4d-8dde-4b9f-8e2f-dd05a2278e96",
   "metadata": {},
   "source": [
    "Estimating values from the PNAS paper"
   ]
  },
  {
   "cell_type": "code",
   "execution_count": 2,
   "id": "e1b5ee7a-8cc0-42c8-8177-652ca0ca0ce2",
   "metadata": {},
   "outputs": [],
   "source": [
    "PNAS = PNAS_data.PNAS_data()"
   ]
  },
  {
   "cell_type": "code",
   "execution_count": 26,
   "id": "531d7881-2065-44d1-a0c3-2214eb2b268a",
   "metadata": {},
   "outputs": [],
   "source": [
    "def plot_fit(probe):\n",
    "\n",
    "    x = np.array(PNAS.get_probe(probe)['c [M]'], dtype=np.float64)\n",
    "    #y, y_error = PNAS.get_float_uncertainty(unp.log(PNAS.get_probe(probe)['K [M]']))\n",
    "\n",
    "    y, y_error = PNAS.get_float_uncertainty(1/PNAS.get_probe(probe)['K [M]'])\n",
    "\n",
    "    \n",
    "\n",
    "    with plt.style.context(['science']):\n",
    "\n",
    "        plt.plot(x,y, '.')\n",
    "    "
   ]
  },
  {
   "cell_type": "code",
   "execution_count": 27,
   "id": "2d002134-bcbe-4104-8ac5-d817a9cf7bf9",
   "metadata": {},
   "outputs": [
    {
     "data": {
      "image/png": "[encoded data removed]",
      "text/plain": [
       "<Figure size 350x262.5 with 1 Axes>"
      ]
     },
     "metadata": {},
     "output_type": "display_data"
    }
   ],
   "source": [
    "plot_fit('Triethylene glycol')"
   ]
  },
  {
   "cell_type": "code",
   "execution_count": 23,
   "id": "18606031-fa19-4ff6-9b96-dcc16423b8b2",
   "metadata": {},
   "outputs": [
    {
     "data": {
      "image/png": "[encoded data removed]",
      "text/plain": [
       "<Figure size 350x262.5 with 1 Axes>"
      ]
     },
     "metadata": {},
     "output_type": "display_data"
    }
   ],
   "source": [
    "plot_fit('PEG 6000')"
   ]
  },
  {
   "cell_type": "code",
   "execution_count": 22,
   "id": "06a1ae11-8a9f-4129-9491-5678441f3884",
   "metadata": {},
   "outputs": [],
   "source": [
    "coeff = PNAS.coeff"
   ]
  },
  {
   "cell_type": "code",
   "execution_count": 23,
   "id": "99b4f71f-ff30-4a3b-8878-7c1440cf243b",
   "metadata": {},
   "outputs": [
    {
     "data": {
      "text/html": [
       "<div>\n",
       "<style scoped>\n",
       "    .dataframe tbody tr th:only-of-type {\n",
       "        vertical-align: middle;\n",
       "    }\n",
       "\n",
       "    .dataframe tbody tr th {\n",
       "        vertical-align: top;\n",
       "    }\n",
       "\n",
       "    .dataframe thead th {\n",
       "        text-align: right;\n",
       "    }\n",
       "</style>\n",
       "<table border=\"1\" class=\"dataframe\">\n",
       "  <thead>\n",
       "    <tr style=\"text-align: right;\">\n",
       "      <th></th>\n",
       "      <th>peg</th>\n",
       "      <th>a2</th>\n",
       "      <th>a1</th>\n",
       "      <th>a0</th>\n",
       "    </tr>\n",
       "  </thead>\n",
       "  <tbody>\n",
       "    <tr>\n",
       "      <th>0</th>\n",
       "      <td>Ethylene glycol</td>\n",
       "      <td>-0.057416</td>\n",
       "      <td>0.443440</td>\n",
       "      <td>17.264778</td>\n",
       "    </tr>\n",
       "    <tr>\n",
       "      <th>1</th>\n",
       "      <td>Diethylene glycol</td>\n",
       "      <td>-0.117488</td>\n",
       "      <td>0.363916</td>\n",
       "      <td>17.358638</td>\n",
       "    </tr>\n",
       "    <tr>\n",
       "      <th>2</th>\n",
       "      <td>Triethylene glycol</td>\n",
       "      <td>-0.416552</td>\n",
       "      <td>1.061869</td>\n",
       "      <td>16.993958</td>\n",
       "    </tr>\n",
       "    <tr>\n",
       "      <th>3</th>\n",
       "      <td>PEG 200</td>\n",
       "      <td>-0.300799</td>\n",
       "      <td>0.886230</td>\n",
       "      <td>17.157242</td>\n",
       "    </tr>\n",
       "    <tr>\n",
       "      <th>4</th>\n",
       "      <td>PEG 400</td>\n",
       "      <td>-1.350031</td>\n",
       "      <td>2.197216</td>\n",
       "      <td>16.886796</td>\n",
       "    </tr>\n",
       "    <tr>\n",
       "      <th>5</th>\n",
       "      <td>PEG 1000</td>\n",
       "      <td>-5.402465</td>\n",
       "      <td>5.746480</td>\n",
       "      <td>17.447266</td>\n",
       "    </tr>\n",
       "    <tr>\n",
       "      <th>6</th>\n",
       "      <td>PEG 2050</td>\n",
       "      <td>33.233734</td>\n",
       "      <td>4.120859</td>\n",
       "      <td>17.456445</td>\n",
       "    </tr>\n",
       "    <tr>\n",
       "      <th>7</th>\n",
       "      <td>PEG 4600</td>\n",
       "      <td>180.611086</td>\n",
       "      <td>38.490130</td>\n",
       "      <td>17.494823</td>\n",
       "    </tr>\n",
       "    <tr>\n",
       "      <th>8</th>\n",
       "      <td>PEG 6000</td>\n",
       "      <td>-504.982523</td>\n",
       "      <td>77.456502</td>\n",
       "      <td>17.301372</td>\n",
       "    </tr>\n",
       "    <tr>\n",
       "      <th>9</th>\n",
       "      <td>PEG 35000</td>\n",
       "      <td>167454.830381</td>\n",
       "      <td>-306.272949</td>\n",
       "      <td>17.976320</td>\n",
       "    </tr>\n",
       "  </tbody>\n",
       "</table>\n",
       "</div>"
      ],
      "text/plain": [
       "                  peg             a2          a1         a0\n",
       "0     Ethylene glycol      -0.057416    0.443440  17.264778\n",
       "1   Diethylene glycol      -0.117488    0.363916  17.358638\n",
       "2  Triethylene glycol      -0.416552    1.061869  16.993958\n",
       "3             PEG 200      -0.300799    0.886230  17.157242\n",
       "4             PEG 400      -1.350031    2.197216  16.886796\n",
       "5            PEG 1000      -5.402465    5.746480  17.447266\n",
       "6            PEG 2050      33.233734    4.120859  17.456445\n",
       "7            PEG 4600     180.611086   38.490130  17.494823\n",
       "8            PEG 6000    -504.982523   77.456502  17.301372\n",
       "9           PEG 35000  167454.830381 -306.272949  17.976320"
      ]
     },
     "execution_count": 23,
     "metadata": {},
     "output_type": "execute_result"
    }
   ],
   "source": [
    "coeff"
   ]
  },
  {
   "cell_type": "code",
   "execution_count": 2,
   "id": "6705ee4c-4e1c-4426-82bd-3c22dfdbd117",
   "metadata": {},
   "outputs": [
    {
     "name": "stdout",
     "output_type": "stream",
     "text": [
      "1425.622636\n"
     ]
    }
   ],
   "source": [
    "import utils as uts\n",
    "import sodium_crowder_equilibrium_constant as scec\n",
    "\n",
    "\n",
    "\n",
    "data =  scec.calc_sodium_crowder_eq_constant()\n",
    "\n",
    "df_ficoll = data[data['crowder'].str.contains('Ficoll', case=False)]\n",
    "df_peg = data[data['crowder'].str.contains('PEG', case=False)]\n",
    "df_dextran = data[data['crowder'].str.contains('Dextran', case=False)]\n",
    "\n"
   ]
  },
  {
   "cell_type": "code",
   "execution_count": 3,
   "id": "9b0f3c86-0db5-4c48-9836-4cb1da6e00f7",
   "metadata": {},
   "outputs": [],
   "source": [
    "def choose_crowder(name):\n",
    "    dat = data[data['crowder'] == name]\n",
    "\n",
    "    return dat"
   ]
  },
  {
   "cell_type": "code",
   "execution_count": 36,
   "id": "1315d64f-67a9-4d7d-a5b7-012f83bf0dfa",
   "metadata": {},
   "outputs": [],
   "source": [
    "eg = choose_crowder('PEG200')"
   ]
  },
  {
   "cell_type": "code",
   "execution_count": 37,
   "id": "9666ef96-ff57-4c15-acaa-9d15ba472d52",
   "metadata": {},
   "outputs": [
    {
     "data": {
      "text/html": [
       "<div>\n",
       "<style scoped>\n",
       "    .dataframe tbody tr th:only-of-type {\n",
       "        vertical-align: middle;\n",
       "    }\n",
       "\n",
       "    .dataframe tbody tr th {\n",
       "        vertical-align: top;\n",
       "    }\n",
       "\n",
       "    .dataframe thead th {\n",
       "        text-align: right;\n",
       "    }\n",
       "</style>\n",
       "<table border=\"1\" class=\"dataframe\">\n",
       "  <thead>\n",
       "    <tr style=\"text-align: right;\">\n",
       "      <th></th>\n",
       "      <th>wt_%</th>\n",
       "      <th>D_Na_[um2/s]</th>\n",
       "      <th>D_crowder_[um2/s]</th>\n",
       "      <th>crowder</th>\n",
       "      <th>MW_[g/mol]</th>\n",
       "      <th>No_mono</th>\n",
       "      <th>d_coef</th>\n",
       "      <th>Rg_[nm]</th>\n",
       "      <th>Rg_err_[nm]</th>\n",
       "      <th>Rh_[nm]</th>\n",
       "      <th>Rh_err_[nm]</th>\n",
       "      <th>V_Rg_[nm3]</th>\n",
       "      <th>V_Rg_err_[nm3]</th>\n",
       "      <th>c*_[g/cm3]</th>\n",
       "      <th>density</th>\n",
       "      <th>monomers concentration [M]</th>\n",
       "      <th>mass concentration [g/cm3]</th>\n",
       "      <th>ksi</th>\n",
       "      <th>D_Na_[um2/s] corr</th>\n",
       "    </tr>\n",
       "  </thead>\n",
       "  <tbody>\n",
       "    <tr>\n",
       "      <th>65</th>\n",
       "      <td>1.0</td>\n",
       "      <td>(1.41+/-0.04)e+03</td>\n",
       "      <td>586.6+/-2.6</td>\n",
       "      <td>PEG200</td>\n",
       "      <td>200.0</td>\n",
       "      <td>4.131</td>\n",
       "      <td>0.0012</td>\n",
       "      <td>0.471997</td>\n",
       "      <td>0.025338</td>\n",
       "      <td>0.298714</td>\n",
       "      <td>0.015208</td>\n",
       "      <td>0.440459</td>\n",
       "      <td>0.070935</td>\n",
       "      <td>0.754004</td>\n",
       "      <td>0.9982</td>\n",
       "      <td>0.206178</td>\n",
       "      <td>0.009982</td>\n",
       "      <td>12.093611</td>\n",
       "      <td>1324.065529</td>\n",
       "    </tr>\n",
       "    <tr>\n",
       "      <th>66</th>\n",
       "      <td>2.5</td>\n",
       "      <td>1284+/-35</td>\n",
       "      <td>563.1+/-2.0</td>\n",
       "      <td>PEG200</td>\n",
       "      <td>200.0</td>\n",
       "      <td>4.131</td>\n",
       "      <td>0.0012</td>\n",
       "      <td>0.471997</td>\n",
       "      <td>0.025338</td>\n",
       "      <td>0.298714</td>\n",
       "      <td>0.015208</td>\n",
       "      <td>0.440459</td>\n",
       "      <td>0.070935</td>\n",
       "      <td>0.754004</td>\n",
       "      <td>1.0000</td>\n",
       "      <td>0.516375</td>\n",
       "      <td>0.025000</td>\n",
       "      <td>6.074551</td>\n",
       "      <td>1264.831713</td>\n",
       "    </tr>\n",
       "    <tr>\n",
       "      <th>67</th>\n",
       "      <td>5.0</td>\n",
       "      <td>(1.26+/-0.04)e+03</td>\n",
       "      <td>526.8+/-2.2</td>\n",
       "      <td>PEG200</td>\n",
       "      <td>200.0</td>\n",
       "      <td>4.131</td>\n",
       "      <td>0.0012</td>\n",
       "      <td>0.471997</td>\n",
       "      <td>0.025338</td>\n",
       "      <td>0.298714</td>\n",
       "      <td>0.015208</td>\n",
       "      <td>0.440459</td>\n",
       "      <td>0.070935</td>\n",
       "      <td>0.754004</td>\n",
       "      <td>1.0030</td>\n",
       "      <td>1.035848</td>\n",
       "      <td>0.050150</td>\n",
       "      <td>3.603844</td>\n",
       "      <td>1199.783434</td>\n",
       "    </tr>\n",
       "    <tr>\n",
       "      <th>68</th>\n",
       "      <td>7.5</td>\n",
       "      <td>(1.19+/-0.05)e+03</td>\n",
       "      <td>494.6+/-1.8</td>\n",
       "      <td>PEG200</td>\n",
       "      <td>200.0</td>\n",
       "      <td>4.131</td>\n",
       "      <td>0.0012</td>\n",
       "      <td>0.471997</td>\n",
       "      <td>0.025338</td>\n",
       "      <td>0.298714</td>\n",
       "      <td>0.015208</td>\n",
       "      <td>0.440459</td>\n",
       "      <td>0.070935</td>\n",
       "      <td>0.754004</td>\n",
       "      <td>1.0060</td>\n",
       "      <td>1.558420</td>\n",
       "      <td>0.075450</td>\n",
       "      <td>2.652924</td>\n",
       "      <td>1151.301446</td>\n",
       "    </tr>\n",
       "    <tr>\n",
       "      <th>69</th>\n",
       "      <td>10.0</td>\n",
       "      <td>(1.14+/-0.06)e+03</td>\n",
       "      <td>462.2+/-2.1</td>\n",
       "      <td>PEG200</td>\n",
       "      <td>200.0</td>\n",
       "      <td>4.131</td>\n",
       "      <td>0.0012</td>\n",
       "      <td>0.471997</td>\n",
       "      <td>0.025338</td>\n",
       "      <td>0.298714</td>\n",
       "      <td>0.015208</td>\n",
       "      <td>0.440459</td>\n",
       "      <td>0.070935</td>\n",
       "      <td>0.754004</td>\n",
       "      <td>1.0090</td>\n",
       "      <td>2.084090</td>\n",
       "      <td>0.100900</td>\n",
       "      <td>2.133294</td>\n",
       "      <td>1111.444990</td>\n",
       "    </tr>\n",
       "    <tr>\n",
       "      <th>70</th>\n",
       "      <td>12.5</td>\n",
       "      <td>(1.06+/-0.05)e+03</td>\n",
       "      <td>427.2+/-2.4</td>\n",
       "      <td>PEG200</td>\n",
       "      <td>200.0</td>\n",
       "      <td>4.131</td>\n",
       "      <td>0.0012</td>\n",
       "      <td>0.471997</td>\n",
       "      <td>0.025338</td>\n",
       "      <td>0.298714</td>\n",
       "      <td>0.015208</td>\n",
       "      <td>0.440459</td>\n",
       "      <td>0.070935</td>\n",
       "      <td>0.754004</td>\n",
       "      <td>1.0120</td>\n",
       "      <td>2.612858</td>\n",
       "      <td>0.126500</td>\n",
       "      <td>1.800534</td>\n",
       "      <td>1077.111637</td>\n",
       "    </tr>\n",
       "    <tr>\n",
       "      <th>71</th>\n",
       "      <td>15.0</td>\n",
       "      <td>948+/-24</td>\n",
       "      <td>409.2+/-2.8</td>\n",
       "      <td>PEG200</td>\n",
       "      <td>200.0</td>\n",
       "      <td>4.131</td>\n",
       "      <td>0.0012</td>\n",
       "      <td>0.471997</td>\n",
       "      <td>0.025338</td>\n",
       "      <td>0.298714</td>\n",
       "      <td>0.015208</td>\n",
       "      <td>0.440459</td>\n",
       "      <td>0.070935</td>\n",
       "      <td>0.754004</td>\n",
       "      <td>1.0150</td>\n",
       "      <td>3.144724</td>\n",
       "      <td>0.152250</td>\n",
       "      <td>1.566936</td>\n",
       "      <td>1046.702442</td>\n",
       "    </tr>\n",
       "    <tr>\n",
       "      <th>72</th>\n",
       "      <td>17.5</td>\n",
       "      <td>906+/-35</td>\n",
       "      <td>373.3+/-1.7</td>\n",
       "      <td>PEG200</td>\n",
       "      <td>200.0</td>\n",
       "      <td>4.131</td>\n",
       "      <td>0.0012</td>\n",
       "      <td>0.471997</td>\n",
       "      <td>0.025338</td>\n",
       "      <td>0.298714</td>\n",
       "      <td>0.015208</td>\n",
       "      <td>0.440459</td>\n",
       "      <td>0.070935</td>\n",
       "      <td>0.754004</td>\n",
       "      <td>1.0180</td>\n",
       "      <td>3.679688</td>\n",
       "      <td>0.178150</td>\n",
       "      <td>1.392771</td>\n",
       "      <td>1019.264613</td>\n",
       "    </tr>\n",
       "  </tbody>\n",
       "</table>\n",
       "</div>"
      ],
      "text/plain": [
       "    wt_%       D_Na_[um2/s] D_crowder_[um2/s] crowder  MW_[g/mol]  No_mono  \\\n",
       "65   1.0  (1.41+/-0.04)e+03       586.6+/-2.6  PEG200       200.0    4.131   \n",
       "66   2.5          1284+/-35       563.1+/-2.0  PEG200       200.0    4.131   \n",
       "67   5.0  (1.26+/-0.04)e+03       526.8+/-2.2  PEG200       200.0    4.131   \n",
       "68   7.5  (1.19+/-0.05)e+03       494.6+/-1.8  PEG200       200.0    4.131   \n",
       "69  10.0  (1.14+/-0.06)e+03       462.2+/-2.1  PEG200       200.0    4.131   \n",
       "70  12.5  (1.06+/-0.05)e+03       427.2+/-2.4  PEG200       200.0    4.131   \n",
       "71  15.0           948+/-24       409.2+/-2.8  PEG200       200.0    4.131   \n",
       "72  17.5           906+/-35       373.3+/-1.7  PEG200       200.0    4.131   \n",
       "\n",
       "    d_coef   Rg_[nm]  Rg_err_[nm]   Rh_[nm]  Rh_err_[nm]  V_Rg_[nm3]  \\\n",
       "65  0.0012  0.471997     0.025338  0.298714     0.015208    0.440459   \n",
       "66  0.0012  0.471997     0.025338  0.298714     0.015208    0.440459   \n",
       "67  0.0012  0.471997     0.025338  0.298714     0.015208    0.440459   \n",
       "68  0.0012  0.471997     0.025338  0.298714     0.015208    0.440459   \n",
       "69  0.0012  0.471997     0.025338  0.298714     0.015208    0.440459   \n",
       "70  0.0012  0.471997     0.025338  0.298714     0.015208    0.440459   \n",
       "71  0.0012  0.471997     0.025338  0.298714     0.015208    0.440459   \n",
       "72  0.0012  0.471997     0.025338  0.298714     0.015208    0.440459   \n",
       "\n",
       "    V_Rg_err_[nm3]  c*_[g/cm3]  density  monomers concentration [M]  \\\n",
       "65        0.070935    0.754004   0.9982                    0.206178   \n",
       "66        0.070935    0.754004   1.0000                    0.516375   \n",
       "67        0.070935    0.754004   1.0030                    1.035848   \n",
       "68        0.070935    0.754004   1.0060                    1.558420   \n",
       "69        0.070935    0.754004   1.0090                    2.084090   \n",
       "70        0.070935    0.754004   1.0120                    2.612858   \n",
       "71        0.070935    0.754004   1.0150                    3.144724   \n",
       "72        0.070935    0.754004   1.0180                    3.679688   \n",
       "\n",
       "    mass concentration [g/cm3]        ksi  D_Na_[um2/s] corr  \n",
       "65                    0.009982  12.093611        1324.065529  \n",
       "66                    0.025000   6.074551        1264.831713  \n",
       "67                    0.050150   3.603844        1199.783434  \n",
       "68                    0.075450   2.652924        1151.301446  \n",
       "69                    0.100900   2.133294        1111.444990  \n",
       "70                    0.126500   1.800534        1077.111637  \n",
       "71                    0.152250   1.566936        1046.702442  \n",
       "72                    0.178150   1.392771        1019.264613  "
      ]
     },
     "execution_count": 37,
     "metadata": {},
     "output_type": "execute_result"
    }
   ],
   "source": [
    "eg"
   ]
  },
  {
   "cell_type": "code",
   "execution_count": 38,
   "id": "afb0bbea-f06e-4798-b8ff-8d5cbe39cccc",
   "metadata": {},
   "outputs": [],
   "source": [
    "def microviscosity(df):\n",
    "    a, b = 0.7, 1.45\n",
    "    return np.exp(b * (0.17 / df['ksi']) ** a)\n",
    "    "
   ]
  },
  {
   "cell_type": "code",
   "execution_count": 39,
   "id": "a2e61fa9-62f7-45a9-9ef4-a91edae7a536",
   "metadata": {},
   "outputs": [
    {
     "data": {
      "text/plain": [
       "[<matplotlib.lines.Line2D at 0x2bece967190>]"
      ]
     },
     "execution_count": 39,
     "metadata": {},
     "output_type": "execute_result"
    },
    {
     "data": {
      "image/png": "[encoded data removed]",
      "text/plain": [
       "<Figure size 350x262.5 with 1 Axes>"
      ]
     },
     "metadata": {},
     "output_type": "display_data"
    }
   ],
   "source": [
    "plt.plot((1425 - microviscosity(eg)*uts.get_float_uncertainty(eg['D_Na_[um2/s]'])[0])/1425 * 100, '.')"
   ]
  },
  {
   "cell_type": "code",
   "execution_count": 40,
   "id": "82040997-a9a8-4d41-bd93-7382416a6461",
   "metadata": {},
   "outputs": [
    {
     "data": {
      "text/plain": [
       "(array([3., 0., 0., 1., 1., 2., 0., 0., 0., 1.]),\n",
       " array([2.54370011, 2.84286076, 3.14202141, 3.44118207, 3.74034272,\n",
       "        4.03950337, 4.33866402, 4.63782467, 4.93698532, 5.23614598,\n",
       "        5.53530663]),\n",
       " <BarContainer object of 10 artists>)"
      ]
     },
     "execution_count": 40,
     "metadata": {},
     "output_type": "execute_result"
    },
    {
     "data": {
      "image/png": "[encoded data removed]",
      "text/plain": [
       "<Figure size 350x262.5 with 1 Axes>"
      ]
     },
     "metadata": {},
     "output_type": "display_data"
    }
   ],
   "source": [
    "plt.hist(uts.get_float_uncertainty(eg['D_Na_[um2/s]'])[1]/uts.get_float_uncertainty(eg['D_Na_[um2/s]'])[0]*100)"
   ]
  },
  {
   "cell_type": "code",
   "execution_count": 3,
   "id": "f4a389b6-4cf4-4fbb-8859-ed105b235d4c",
   "metadata": {},
   "outputs": [
    {
     "data": {
      "text/plain": [
       "(array([7., 0., 0., 0., 0., 0., 0., 0., 0., 7.]),\n",
       " array([0.17960138, 0.1886313 , 0.19766121, 0.20669113, 0.21572105,\n",
       "        0.22475096, 0.23378088, 0.2428108 , 0.25184071, 0.26087063,\n",
       "        0.26990055]),\n",
       " <BarContainer object of 10 artists>)"
      ]
     },
     "execution_count": 3,
     "metadata": {},
     "output_type": "execute_result"
    },
    {
     "data": {
      "image/png": "[encoded data removed]",
      "text/plain": [
       "<Figure size 350x262.5 with 1 Axes>"
      ]
     },
     "metadata": {},
     "output_type": "display_data"
    }
   ],
   "source": [
    "plt.hist(df_dextran['K complex'].apply(lambda x: x.nominal_value))"
   ]
  },
  {
   "cell_type": "code",
   "execution_count": 4,
   "id": "3ff95f6f-101a-452f-91de-e6babf6dc59a",
   "metadata": {},
   "outputs": [
    {
     "data": {
      "text/plain": [
       "(array([7., 0., 0., 0., 0., 0., 0., 0., 0., 7.]),\n",
       " array([0.54083137, 0.5856832 , 0.63053504, 0.67538688, 0.72023872,\n",
       "        0.76509056, 0.8099424 , 0.85479424, 0.89964607, 0.94449791,\n",
       "        0.98934975]),\n",
       " <BarContainer object of 10 artists>)"
      ]
     },
     "execution_count": 4,
     "metadata": {},
     "output_type": "execute_result"
    },
    {
     "data": {
      "image/png": "[encoded data removed]",
      "text/plain": [
       "<Figure size 350x262.5 with 1 Axes>"
      ]
     },
     "metadata": {},
     "output_type": "display_data"
    }
   ],
   "source": [
    "plt.hist(df_dextran['slope'].apply(lambda x: x.nominal_value))"
   ]
  },
  {
   "cell_type": "code",
   "execution_count": 5,
   "id": "84e18c20-23f9-454e-8bcc-408119a2aaad",
   "metadata": {},
   "outputs": [
    {
     "data": {
      "text/plain": [
       "(array([30.,  0.,  0.,  6.,  0.,  7.,  0.,  4.,  0.,  0.,  0.,  0.,  0.,\n",
       "         0.,  0.,  0.,  0.,  0.,  0.,  4.]),\n",
       " array([1.13897208, 1.41478626, 1.69060044, 1.96641462, 2.24222881,\n",
       "        2.51804299, 2.79385717, 3.06967135, 3.34548553, 3.62129971,\n",
       "        3.89711389, 4.17292807, 4.44874225, 4.72455643, 5.00037061,\n",
       "        5.27618479, 5.55199898, 5.82781316, 6.10362734, 6.37944152,\n",
       "        6.6552557 ]),\n",
       " <BarContainer object of 20 artists>)"
      ]
     },
     "execution_count": 5,
     "metadata": {},
     "output_type": "execute_result"
    },
    {
     "data": {
      "image/png": "[encoded data removed]",
      "text/plain": [
       "<Figure size 350x262.5 with 1 Axes>"
      ]
     },
     "metadata": {},
     "output_type": "display_data"
    }
   ],
   "source": [
    "plt.hist(df_peg['slope'].apply(lambda x: x.nominal_value), bins=20)"
   ]
  },
  {
   "cell_type": "code",
   "execution_count": 6,
   "id": "0b85e15a-b120-462d-926a-f1c7be335152",
   "metadata": {},
   "outputs": [
    {
     "data": {
      "text/plain": [
       "(array([ 8.,  7.,  0.,  0.,  6.,  0.,  5.,  7.,  6., 12.]),\n",
       " array([3.51019292e-05, 5.62261082e-03, 1.12101197e-02, 1.67976286e-02,\n",
       "        2.23851375e-02, 2.79726464e-02, 3.35601553e-02, 3.91476641e-02,\n",
       "        4.47351730e-02, 5.03226819e-02, 5.59101908e-02]),\n",
       " <BarContainer object of 10 artists>)"
      ]
     },
     "execution_count": 6,
     "metadata": {},
     "output_type": "execute_result"
    },
    {
     "data": {
      "image/png": "[encoded data removed]",
      "text/plain": [
       "<Figure size 350x262.5 with 1 Axes>"
      ]
     },
     "metadata": {},
     "output_type": "display_data"
    }
   ],
   "source": [
    "plt.hist(df_peg['K complex'].apply(lambda x: x.nominal_value))"
   ]
  },
  {
   "cell_type": "code",
   "execution_count": 7,
   "id": "3c743a7c-6041-4915-96d2-3cb5cf201ff9",
   "metadata": {},
   "outputs": [
    {
     "data": {
      "text/plain": [
       "(array([0., 0., 0., 0., 0., 9., 0., 0., 0., 0.]),\n",
       " array([-0.13436161, -0.03436161,  0.06563839,  0.16563839,  0.26563839,\n",
       "         0.36563839,  0.46563839,  0.56563839,  0.66563839,  0.76563839,\n",
       "         0.86563839]),\n",
       " <BarContainer object of 10 artists>)"
      ]
     },
     "execution_count": 7,
     "metadata": {},
     "output_type": "execute_result"
    },
    {
     "data": {
      "image/png": "[encoded data removed]",
      "text/plain": [
       "<Figure size 350x262.5 with 1 Axes>"
      ]
     },
     "metadata": {},
     "output_type": "display_data"
    }
   ],
   "source": [
    "plt.hist(df_ficoll['K complex'].apply(lambda x: x.nominal_value))"
   ]
  },
  {
   "cell_type": "code",
   "execution_count": 8,
   "id": "bdca74c2-6a38-4beb-a771-893db9a32435",
   "metadata": {},
   "outputs": [
    {
     "data": {
      "text/plain": [
       "(array([0., 0., 0., 0., 0., 9., 0., 0., 0., 0.]),\n",
       " array([0.00185126, 0.10185126, 0.20185126, 0.30185126, 0.40185126,\n",
       "        0.50185126, 0.60185126, 0.70185126, 0.80185126, 0.90185126,\n",
       "        1.00185126]),\n",
       " <BarContainer object of 10 artists>)"
      ]
     },
     "execution_count": 8,
     "metadata": {},
     "output_type": "execute_result"
    },
    {
     "data": {
      "image/png": "[encoded data removed]",
      "text/plain": [
       "<Figure size 350x262.5 with 1 Axes>"
      ]
     },
     "metadata": {},
     "output_type": "display_data"
    }
   ],
   "source": [
    "plt.hist(df_ficoll['slope'].apply(lambda x: x.nominal_value))"
   ]
  },
  {
   "attachments": {
    "ec71cce6-0435-4095-b6ad-af371b92694e.png": {
     "image/png": "[encoded data removed]"
    }
   },
   "cell_type": "markdown",
   "id": "1aa8ea71-7144-458b-9677-ece17e403bf9",
   "metadata": {},
   "source": [
    "![image.png](attachment:ec71cce6-0435-4095-b6ad-af371b92694e.png)"
   ]
  },
  {
   "cell_type": "code",
   "execution_count": 12,
   "id": "81bbe1f2-b393-4192-91fc-9cac4d85ef08",
   "metadata": {},
   "outputs": [
    {
     "data": {
      "text/plain": [
       "1.6666666666666667"
      ]
     },
     "execution_count": 12,
     "metadata": {},
     "output_type": "execute_result"
    }
   ],
   "source": [
    "1/0.6"
   ]
  },
  {
   "cell_type": "code",
   "execution_count": 31,
   "id": "69474431-dac5-440f-a2c2-00e302c0e015",
   "metadata": {},
   "outputs": [
    {
     "data": {
      "text/html": [
       "<div>\n",
       "<style scoped>\n",
       "    .dataframe tbody tr th:only-of-type {\n",
       "        vertical-align: middle;\n",
       "    }\n",
       "\n",
       "    .dataframe tbody tr th {\n",
       "        vertical-align: top;\n",
       "    }\n",
       "\n",
       "    .dataframe thead th {\n",
       "        text-align: right;\n",
       "    }\n",
       "</style>\n",
       "<table border=\"1\" class=\"dataframe\">\n",
       "  <thead>\n",
       "    <tr style=\"text-align: right;\">\n",
       "      <th></th>\n",
       "      <th>wt_%</th>\n",
       "      <th>D_Na_[um2/s]</th>\n",
       "      <th>D_Na_err_[um2/s]</th>\n",
       "      <th>D_crowder_[um2/s]</th>\n",
       "      <th>D_crowder_err_[um2/s]</th>\n",
       "      <th>crowder</th>\n",
       "      <th>MW_[g/mol]</th>\n",
       "      <th>No_mono</th>\n",
       "      <th>d_coef</th>\n",
       "      <th>Rg_[nm]</th>\n",
       "      <th>Rg_err_[nm]</th>\n",
       "      <th>Rh_[nm]</th>\n",
       "      <th>Rh_err_[nm]</th>\n",
       "      <th>V_Rg_[nm3]</th>\n",
       "      <th>V_Rg_err_[nm3]</th>\n",
       "      <th>c*_[g/cm3]</th>\n",
       "    </tr>\n",
       "  </thead>\n",
       "  <tbody>\n",
       "    <tr>\n",
       "      <th>0</th>\n",
       "      <td>0.0</td>\n",
       "      <td>1425.622636</td>\n",
       "      <td>30.40000</td>\n",
       "      <td>NaN</td>\n",
       "      <td>Nan</td>\n",
       "      <td>Dextran6000</td>\n",
       "      <td>6000.0</td>\n",
       "      <td>37.005</td>\n",
       "      <td>0.00040</td>\n",
       "      <td>1.750000</td>\n",
       "      <td>0.250000</td>\n",
       "      <td>1.150000</td>\n",
       "      <td>0.150000</td>\n",
       "      <td>22.449298</td>\n",
       "      <td>9.621128</td>\n",
       "      <td>0.443811</td>\n",
       "    </tr>\n",
       "    <tr>\n",
       "      <th>1</th>\n",
       "      <td>1.0</td>\n",
       "      <td>1450.000000</td>\n",
       "      <td>88.40000</td>\n",
       "      <td>149.00000</td>\n",
       "      <td>4.39E+00</td>\n",
       "      <td>Dextran6000</td>\n",
       "      <td>6000.0</td>\n",
       "      <td>37.005</td>\n",
       "      <td>0.00040</td>\n",
       "      <td>1.750000</td>\n",
       "      <td>0.250000</td>\n",
       "      <td>1.150000</td>\n",
       "      <td>0.150000</td>\n",
       "      <td>22.449298</td>\n",
       "      <td>9.621128</td>\n",
       "      <td>0.443811</td>\n",
       "    </tr>\n",
       "    <tr>\n",
       "      <th>2</th>\n",
       "      <td>1.5</td>\n",
       "      <td>1330.000000</td>\n",
       "      <td>79.90000</td>\n",
       "      <td>142.00000</td>\n",
       "      <td>3.50E+00</td>\n",
       "      <td>Dextran6000</td>\n",
       "      <td>6000.0</td>\n",
       "      <td>37.005</td>\n",
       "      <td>0.00040</td>\n",
       "      <td>1.750000</td>\n",
       "      <td>0.250000</td>\n",
       "      <td>1.150000</td>\n",
       "      <td>0.150000</td>\n",
       "      <td>22.449298</td>\n",
       "      <td>9.621128</td>\n",
       "      <td>0.443811</td>\n",
       "    </tr>\n",
       "    <tr>\n",
       "      <th>3</th>\n",
       "      <td>3.0</td>\n",
       "      <td>1300.000000</td>\n",
       "      <td>125.00000</td>\n",
       "      <td>133.00000</td>\n",
       "      <td>2.26E+00</td>\n",
       "      <td>Dextran6000</td>\n",
       "      <td>6000.0</td>\n",
       "      <td>37.005</td>\n",
       "      <td>0.00040</td>\n",
       "      <td>1.750000</td>\n",
       "      <td>0.250000</td>\n",
       "      <td>1.150000</td>\n",
       "      <td>0.150000</td>\n",
       "      <td>22.449298</td>\n",
       "      <td>9.621128</td>\n",
       "      <td>0.443811</td>\n",
       "    </tr>\n",
       "    <tr>\n",
       "      <th>4</th>\n",
       "      <td>4.5</td>\n",
       "      <td>1220.000000</td>\n",
       "      <td>113.00000</td>\n",
       "      <td>127.00000</td>\n",
       "      <td>3.12E+00</td>\n",
       "      <td>Dextran6000</td>\n",
       "      <td>6000.0</td>\n",
       "      <td>37.005</td>\n",
       "      <td>0.00040</td>\n",
       "      <td>1.750000</td>\n",
       "      <td>0.250000</td>\n",
       "      <td>1.150000</td>\n",
       "      <td>0.150000</td>\n",
       "      <td>22.449298</td>\n",
       "      <td>9.621128</td>\n",
       "      <td>0.443811</td>\n",
       "    </tr>\n",
       "    <tr>\n",
       "      <th>...</th>\n",
       "      <td>...</td>\n",
       "      <td>...</td>\n",
       "      <td>...</td>\n",
       "      <td>...</td>\n",
       "      <td>...</td>\n",
       "      <td>...</td>\n",
       "      <td>...</td>\n",
       "      <td>...</td>\n",
       "      <td>...</td>\n",
       "      <td>...</td>\n",
       "      <td>...</td>\n",
       "      <td>...</td>\n",
       "      <td>...</td>\n",
       "      <td>...</td>\n",
       "      <td>...</td>\n",
       "      <td>...</td>\n",
       "    </tr>\n",
       "    <tr>\n",
       "      <th>123</th>\n",
       "      <td>7.5</td>\n",
       "      <td>1012.123000</td>\n",
       "      <td>72.49846</td>\n",
       "      <td>44.26340</td>\n",
       "      <td>0.616912</td>\n",
       "      <td>PEG6000</td>\n",
       "      <td>6000.0</td>\n",
       "      <td>135.800</td>\n",
       "      <td>0.00155</td>\n",
       "      <td>3.428472</td>\n",
       "      <td>0.028155</td>\n",
       "      <td>2.083015</td>\n",
       "      <td>0.015681</td>\n",
       "      <td>168.807029</td>\n",
       "      <td>4.158841</td>\n",
       "      <td>0.059021</td>\n",
       "    </tr>\n",
       "    <tr>\n",
       "      <th>124</th>\n",
       "      <td>10.0</td>\n",
       "      <td>975.738300</td>\n",
       "      <td>121.48850</td>\n",
       "      <td>34.73010</td>\n",
       "      <td>0.192047</td>\n",
       "      <td>PEG6000</td>\n",
       "      <td>6000.0</td>\n",
       "      <td>135.800</td>\n",
       "      <td>0.00155</td>\n",
       "      <td>3.428472</td>\n",
       "      <td>0.028155</td>\n",
       "      <td>2.083015</td>\n",
       "      <td>0.015681</td>\n",
       "      <td>168.807029</td>\n",
       "      <td>4.158841</td>\n",
       "      <td>0.059021</td>\n",
       "    </tr>\n",
       "    <tr>\n",
       "      <th>125</th>\n",
       "      <td>12.5</td>\n",
       "      <td>898.482400</td>\n",
       "      <td>53.42060</td>\n",
       "      <td>27.38628</td>\n",
       "      <td>0.128339</td>\n",
       "      <td>PEG6000</td>\n",
       "      <td>6000.0</td>\n",
       "      <td>135.800</td>\n",
       "      <td>0.00155</td>\n",
       "      <td>3.428472</td>\n",
       "      <td>0.028155</td>\n",
       "      <td>2.083015</td>\n",
       "      <td>0.015681</td>\n",
       "      <td>168.807029</td>\n",
       "      <td>4.158841</td>\n",
       "      <td>0.059021</td>\n",
       "    </tr>\n",
       "    <tr>\n",
       "      <th>126</th>\n",
       "      <td>15.0</td>\n",
       "      <td>761.920200</td>\n",
       "      <td>56.79781</td>\n",
       "      <td>23.45039</td>\n",
       "      <td>0.231978</td>\n",
       "      <td>PEG6000</td>\n",
       "      <td>6000.0</td>\n",
       "      <td>135.800</td>\n",
       "      <td>0.00155</td>\n",
       "      <td>3.428472</td>\n",
       "      <td>0.028155</td>\n",
       "      <td>2.083015</td>\n",
       "      <td>0.015681</td>\n",
       "      <td>168.807029</td>\n",
       "      <td>4.158841</td>\n",
       "      <td>0.059021</td>\n",
       "    </tr>\n",
       "    <tr>\n",
       "      <th>127</th>\n",
       "      <td>17.5</td>\n",
       "      <td>840.468800</td>\n",
       "      <td>82.82219</td>\n",
       "      <td>19.46471</td>\n",
       "      <td>0.281031</td>\n",
       "      <td>PEG6000</td>\n",
       "      <td>6000.0</td>\n",
       "      <td>135.800</td>\n",
       "      <td>0.00155</td>\n",
       "      <td>3.428472</td>\n",
       "      <td>0.028155</td>\n",
       "      <td>2.083015</td>\n",
       "      <td>0.015681</td>\n",
       "      <td>168.807029</td>\n",
       "      <td>4.158841</td>\n",
       "      <td>0.059021</td>\n",
       "    </tr>\n",
       "  </tbody>\n",
       "</table>\n",
       "<p>128 rows × 16 columns</p>\n",
       "</div>"
      ],
      "text/plain": [
       "     wt_%  D_Na_[um2/s]  D_Na_err_[um2/s]  D_crowder_[um2/s]  \\\n",
       "0     0.0   1425.622636          30.40000                NaN   \n",
       "1     1.0   1450.000000          88.40000          149.00000   \n",
       "2     1.5   1330.000000          79.90000          142.00000   \n",
       "3     3.0   1300.000000         125.00000          133.00000   \n",
       "4     4.5   1220.000000         113.00000          127.00000   \n",
       "..    ...           ...               ...                ...   \n",
       "123   7.5   1012.123000          72.49846           44.26340   \n",
       "124  10.0    975.738300         121.48850           34.73010   \n",
       "125  12.5    898.482400          53.42060           27.38628   \n",
       "126  15.0    761.920200          56.79781           23.45039   \n",
       "127  17.5    840.468800          82.82219           19.46471   \n",
       "\n",
       "    D_crowder_err_[um2/s]      crowder  MW_[g/mol]  No_mono   d_coef  \\\n",
       "0                     Nan  Dextran6000      6000.0   37.005  0.00040   \n",
       "1                4.39E+00  Dextran6000      6000.0   37.005  0.00040   \n",
       "2                3.50E+00  Dextran6000      6000.0   37.005  0.00040   \n",
       "3                2.26E+00  Dextran6000      6000.0   37.005  0.00040   \n",
       "4                3.12E+00  Dextran6000      6000.0   37.005  0.00040   \n",
       "..                    ...          ...         ...      ...      ...   \n",
       "123              0.616912      PEG6000      6000.0  135.800  0.00155   \n",
       "124              0.192047      PEG6000      6000.0  135.800  0.00155   \n",
       "125              0.128339      PEG6000      6000.0  135.800  0.00155   \n",
       "126              0.231978      PEG6000      6000.0  135.800  0.00155   \n",
       "127              0.281031      PEG6000      6000.0  135.800  0.00155   \n",
       "\n",
       "      Rg_[nm]  Rg_err_[nm]   Rh_[nm]  Rh_err_[nm]  V_Rg_[nm3]  V_Rg_err_[nm3]  \\\n",
       "0    1.750000     0.250000  1.150000     0.150000   22.449298        9.621128   \n",
       "1    1.750000     0.250000  1.150000     0.150000   22.449298        9.621128   \n",
       "2    1.750000     0.250000  1.150000     0.150000   22.449298        9.621128   \n",
       "3    1.750000     0.250000  1.150000     0.150000   22.449298        9.621128   \n",
       "4    1.750000     0.250000  1.150000     0.150000   22.449298        9.621128   \n",
       "..        ...          ...       ...          ...         ...             ...   \n",
       "123  3.428472     0.028155  2.083015     0.015681  168.807029        4.158841   \n",
       "124  3.428472     0.028155  2.083015     0.015681  168.807029        4.158841   \n",
       "125  3.428472     0.028155  2.083015     0.015681  168.807029        4.158841   \n",
       "126  3.428472     0.028155  2.083015     0.015681  168.807029        4.158841   \n",
       "127  3.428472     0.028155  2.083015     0.015681  168.807029        4.158841   \n",
       "\n",
       "     c*_[g/cm3]  \n",
       "0      0.443811  \n",
       "1      0.443811  \n",
       "2      0.443811  \n",
       "3      0.443811  \n",
       "4      0.443811  \n",
       "..          ...  \n",
       "123    0.059021  \n",
       "124    0.059021  \n",
       "125    0.059021  \n",
       "126    0.059021  \n",
       "127    0.059021  \n",
       "\n",
       "[128 rows x 16 columns]"
      ]
     },
     "execution_count": 31,
     "metadata": {},
     "output_type": "execute_result"
    }
   ],
   "source": [
    "merged_df"
   ]
  },
  {
   "cell_type": "code",
   "execution_count": 26,
   "id": "36cc80ce-c8a5-40a6-a2f2-f87a57d2fe46",
   "metadata": {},
   "outputs": [
    {
     "data": {
      "text/html": [
       "<div>\n",
       "<style scoped>\n",
       "    .dataframe tbody tr th:only-of-type {\n",
       "        vertical-align: middle;\n",
       "    }\n",
       "\n",
       "    .dataframe tbody tr th {\n",
       "        vertical-align: top;\n",
       "    }\n",
       "\n",
       "    .dataframe thead th {\n",
       "        text-align: right;\n",
       "    }\n",
       "</style>\n",
       "<table border=\"1\" class=\"dataframe\">\n",
       "  <thead>\n",
       "    <tr style=\"text-align: right;\">\n",
       "      <th></th>\n",
       "      <th>wt_%</th>\n",
       "      <th>D_Na_[um2/s]</th>\n",
       "      <th>D_Na_err_[um2/s]</th>\n",
       "      <th>D_crowder_[um2/s]</th>\n",
       "      <th>D_crowder_err_[um2/s]</th>\n",
       "      <th>crowder</th>\n",
       "    </tr>\n",
       "  </thead>\n",
       "  <tbody>\n",
       "    <tr>\n",
       "      <th>0</th>\n",
       "      <td>0.0</td>\n",
       "      <td>1425.622636</td>\n",
       "      <td>30.40000</td>\n",
       "      <td>NaN</td>\n",
       "      <td>Nan</td>\n",
       "      <td>Dextran6000</td>\n",
       "    </tr>\n",
       "    <tr>\n",
       "      <th>1</th>\n",
       "      <td>1.0</td>\n",
       "      <td>1450.000000</td>\n",
       "      <td>88.40000</td>\n",
       "      <td>149.00000</td>\n",
       "      <td>4.39E+00</td>\n",
       "      <td>Dextran6000</td>\n",
       "    </tr>\n",
       "    <tr>\n",
       "      <th>2</th>\n",
       "      <td>1.5</td>\n",
       "      <td>1330.000000</td>\n",
       "      <td>79.90000</td>\n",
       "      <td>142.00000</td>\n",
       "      <td>3.50E+00</td>\n",
       "      <td>Dextran6000</td>\n",
       "    </tr>\n",
       "    <tr>\n",
       "      <th>3</th>\n",
       "      <td>3.0</td>\n",
       "      <td>1300.000000</td>\n",
       "      <td>125.00000</td>\n",
       "      <td>133.00000</td>\n",
       "      <td>2.26E+00</td>\n",
       "      <td>Dextran6000</td>\n",
       "    </tr>\n",
       "    <tr>\n",
       "      <th>4</th>\n",
       "      <td>4.5</td>\n",
       "      <td>1220.000000</td>\n",
       "      <td>113.00000</td>\n",
       "      <td>127.00000</td>\n",
       "      <td>3.12E+00</td>\n",
       "      <td>Dextran6000</td>\n",
       "    </tr>\n",
       "    <tr>\n",
       "      <th>...</th>\n",
       "      <td>...</td>\n",
       "      <td>...</td>\n",
       "      <td>...</td>\n",
       "      <td>...</td>\n",
       "      <td>...</td>\n",
       "      <td>...</td>\n",
       "    </tr>\n",
       "    <tr>\n",
       "      <th>123</th>\n",
       "      <td>7.5</td>\n",
       "      <td>1012.123000</td>\n",
       "      <td>72.49846</td>\n",
       "      <td>44.26340</td>\n",
       "      <td>0.616912</td>\n",
       "      <td>PEG6000</td>\n",
       "    </tr>\n",
       "    <tr>\n",
       "      <th>124</th>\n",
       "      <td>10.0</td>\n",
       "      <td>975.738300</td>\n",
       "      <td>121.48850</td>\n",
       "      <td>34.73010</td>\n",
       "      <td>0.192047</td>\n",
       "      <td>PEG6000</td>\n",
       "    </tr>\n",
       "    <tr>\n",
       "      <th>125</th>\n",
       "      <td>12.5</td>\n",
       "      <td>898.482400</td>\n",
       "      <td>53.42060</td>\n",
       "      <td>27.38628</td>\n",
       "      <td>0.128339</td>\n",
       "      <td>PEG6000</td>\n",
       "    </tr>\n",
       "    <tr>\n",
       "      <th>126</th>\n",
       "      <td>15.0</td>\n",
       "      <td>761.920200</td>\n",
       "      <td>56.79781</td>\n",
       "      <td>23.45039</td>\n",
       "      <td>0.231978</td>\n",
       "      <td>PEG6000</td>\n",
       "    </tr>\n",
       "    <tr>\n",
       "      <th>127</th>\n",
       "      <td>17.5</td>\n",
       "      <td>840.468800</td>\n",
       "      <td>82.82219</td>\n",
       "      <td>19.46471</td>\n",
       "      <td>0.281031</td>\n",
       "      <td>PEG6000</td>\n",
       "    </tr>\n",
       "  </tbody>\n",
       "</table>\n",
       "<p>128 rows × 6 columns</p>\n",
       "</div>"
      ],
      "text/plain": [
       "     wt_%  D_Na_[um2/s]  D_Na_err_[um2/s]  D_crowder_[um2/s]  \\\n",
       "0     0.0   1425.622636          30.40000                NaN   \n",
       "1     1.0   1450.000000          88.40000          149.00000   \n",
       "2     1.5   1330.000000          79.90000          142.00000   \n",
       "3     3.0   1300.000000         125.00000          133.00000   \n",
       "4     4.5   1220.000000         113.00000          127.00000   \n",
       "..    ...           ...               ...                ...   \n",
       "123   7.5   1012.123000          72.49846           44.26340   \n",
       "124  10.0    975.738300         121.48850           34.73010   \n",
       "125  12.5    898.482400          53.42060           27.38628   \n",
       "126  15.0    761.920200          56.79781           23.45039   \n",
       "127  17.5    840.468800          82.82219           19.46471   \n",
       "\n",
       "    D_crowder_err_[um2/s]      crowder  \n",
       "0                     Nan  Dextran6000  \n",
       "1                4.39E+00  Dextran6000  \n",
       "2                3.50E+00  Dextran6000  \n",
       "3                2.26E+00  Dextran6000  \n",
       "4                3.12E+00  Dextran6000  \n",
       "..                    ...          ...  \n",
       "123              0.616912      PEG6000  \n",
       "124              0.192047      PEG6000  \n",
       "125              0.128339      PEG6000  \n",
       "126              0.231978      PEG6000  \n",
       "127              0.281031      PEG6000  \n",
       "\n",
       "[128 rows x 6 columns]"
      ]
     },
     "execution_count": 26,
     "metadata": {},
     "output_type": "execute_result"
    }
   ],
   "source": [
    "data"
   ]
  },
  {
   "cell_type": "code",
   "execution_count": 20,
   "id": "b0e70000-d39d-40b8-885a-a538b8b0d87b",
   "metadata": {},
   "outputs": [
    {
     "data": {
      "text/plain": [
       "Index(['wt_%', 'D_Na_[um2/s]', 'D_Na_err_[um2/s]', 'D_crowder_[um2/s]',\n",
       "       'D_crowder_err_[um2/s]', 'crowder'],\n",
       "      dtype='object')"
      ]
     },
     "execution_count": 20,
     "metadata": {},
     "output_type": "execute_result"
    }
   ],
   "source": [
    "data.columns"
   ]
  },
  {
   "cell_type": "code",
   "execution_count": 24,
   "id": "1ad012f4-e832-403f-95b0-26b8816f58da",
   "metadata": {},
   "outputs": [],
   "source": [
    "Na0 = data[data['wt_%'] == 0]['D_Na_[um2/s]'].mean()"
   ]
  },
  {
   "cell_type": "code",
   "execution_count": 25,
   "id": "ac384004-97d2-4833-8297-9f331878ef49",
   "metadata": {},
   "outputs": [
    {
     "data": {
      "text/plain": [
       "1425.622636"
      ]
     },
     "execution_count": 25,
     "metadata": {},
     "output_type": "execute_result"
    }
   ],
   "source": [
    "Na0"
   ]
  },
  {
   "cell_type": "code",
   "execution_count": 3,
   "id": "c71508e8-edf7-4c84-adf1-2b8ce5181d9b",
   "metadata": {},
   "outputs": [
    {
     "data": {
      "text/plain": [
       "(array([ 9., 16.,  7., 12.,  4.,  1.,  0.,  5.,  6.,  2.,  0.,  3.,  8.,\n",
       "         0.,  1.,  3.,  7.,  3.,  0.,  1.,  6.,  4.,  0.,  1.,  2.,  5.,\n",
       "         0.,  1.,  1.,  6.]),\n",
       " array([0.02913673, 0.16369777, 0.29825881, 0.43281985, 0.56738088,\n",
       "        0.70194192, 0.83650296, 0.971064  , 1.10562503, 1.24018607,\n",
       "        1.37474711, 1.50930815, 1.64386919, 1.77843022, 1.91299126,\n",
       "        2.0475523 , 2.18211334, 2.31667437, 2.45123541, 2.58579645,\n",
       "        2.72035749, 2.85491852, 2.98947956, 3.1240406 , 3.25860164,\n",
       "        3.39316268, 3.52772371, 3.66228475, 3.79684579, 3.93140683,\n",
       "        4.06596786]),\n",
       " <BarContainer object of 30 artists>)"
      ]
     },
     "execution_count": 3,
     "metadata": {},
     "output_type": "execute_result"
    },
    {
     "data": {
      "image/png": "[encoded data removed]",
      "text/plain": [
       "<Figure size 350x262.5 with 1 Axes>"
      ]
     },
     "metadata": {},
     "output_type": "display_data"
    }
   ],
   "source": [
    "plt.hist(data['monomers concentration [M]'], bins=30)"
   ]
  },
  {
   "cell_type": "code",
   "execution_count": 4,
   "id": "41880dda-396b-49df-a266-db843645cac8",
   "metadata": {},
   "outputs": [
    {
     "data": {
      "text/plain": [
       "<matplotlib.legend.Legend at 0x14564742080>"
      ]
     },
     "execution_count": 4,
     "metadata": {},
     "output_type": "execute_result"
    },
    {
     "data": {
      "image/png": "[encoded data removed]",
      "text/plain": [
       "<Figure size 1000x600 with 1 Axes>"
      ]
     },
     "metadata": {},
     "output_type": "display_data"
    }
   ],
   "source": [
    "# Constants\n",
    "A = 1400  # Example value for A\n",
    "B = 1100  # Example value for B\n",
    "\n",
    "# Original function\n",
    "def original_function(x):\n",
    "    return (A + B * x)/ (1 + x)\n",
    "\n",
    "\n",
    "\n",
    "def taylor_series_half(x):\n",
    "      # Centered around x = 1/2\n",
    "    constant = (1/3) * (2 * A + B)\n",
    "    linear = -(4/9) * (x - 0.5) * (A - B)\n",
    "    # Include the first two terms; higher-order terms are denoted by O(h^2)\n",
    "    return constant + linear\n",
    "\n",
    "\n",
    "def taylor_series_zero(x):\n",
    "        \n",
    "    # Expanded around 0\n",
    "    return A + (B - A) * x\n",
    "\n",
    "def taylor_series_one(x):\n",
    "    #Expanded around 1\n",
    "    return 1/2 * (A + B) + 1/4 * (x - 1) * (B - A)    \n",
    "    \n",
    "\n",
    "\n",
    "# Generate x values for the plot\n",
    "x = np.linspace(0, 4, 500)\n",
    "\n",
    "# Evaluate functions\n",
    "y_original = original_function(x)\n",
    "y_taylor_half = taylor_series_half(x)\n",
    "y_taylor_0 = taylor_series_zero(x)\n",
    "y_taylor_one = taylor_series_one(x)\n",
    "\n",
    "# Plotting\n",
    "plt.figure(figsize=(10, 6))\n",
    "\n",
    "plt.plot(x, (y_original - y_taylor_half)/y_original, '--', label=\"arund 1/2\")\n",
    "plt.plot(x, (y_original - y_taylor_0)/y_original, label=\"around  0\")\n",
    "plt.plot(x, (y_original - y_taylor_one)/y_original, label=\"around  1\")\n",
    "\n",
    "plt.xlabel(\"x\")\n",
    "plt.ylabel(\"f(x)/expansion\")\n",
    "plt.title(\"Comparison of Original Function and Taylor Expansion\")\n",
    "plt.legend()"
   ]
  },
  {
   "cell_type": "code",
   "execution_count": null,
   "id": "5ebfd2ad-6516-48a1-ab87-9feeb966544e",
   "metadata": {},
   "outputs": [],
   "source": []
  }
 ],
 "metadata": {
  "kernelspec": {
   "display_name": "Python 3 (ipykernel)",
   "language": "python",
   "name": "python3"
  },
  "language_info": {
   "codemirror_mode": {
    "name": "ipython",
    "version": 3
   },
   "file_extension": ".py",
   "mimetype": "text/x-python",
   "name": "python",
   "nbconvert_exporter": "python",
   "pygments_lexer": "ipython3",
   "version": "3.10.11"
  }
 },
 "nbformat": 4,
 "nbformat_minor": 5
}
